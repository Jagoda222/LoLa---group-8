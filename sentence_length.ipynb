{
  "nbformat": 4,
  "nbformat_minor": 0,
  "metadata": {
    "colab": {
      "provenance": [],
      "gpuType": "T4",
      "include_colab_link": true
    },
    "kernelspec": {
      "name": "python3",
      "display_name": "Python 3"
    },
    "language_info": {
      "name": "python"
    },
    "widgets": {
      "application/vnd.jupyter.widget-state+json": {
        "b35c29cc68314e80a21bd9c94e3ddddb": {
          "model_module": "@jupyter-widgets/controls",
          "model_name": "HBoxModel",
          "model_module_version": "1.5.0",
          "state": {
            "_dom_classes": [],
            "_model_module": "@jupyter-widgets/controls",
            "_model_module_version": "1.5.0",
            "_model_name": "HBoxModel",
            "_view_count": null,
            "_view_module": "@jupyter-widgets/controls",
            "_view_module_version": "1.5.0",
            "_view_name": "HBoxView",
            "box_style": "",
            "children": [
              "IPY_MODEL_51261f06fb074579a9b33326a9d6ab90",
              "IPY_MODEL_36ef8bd2c1ba4b4ebc715dcdf57231a7",
              "IPY_MODEL_4bed39db0361470a889ba64108119510"
            ],
            "layout": "IPY_MODEL_11a55af402ae475ebd158ab11ac0b49c"
          }
        },
        "51261f06fb074579a9b33326a9d6ab90": {
          "model_module": "@jupyter-widgets/controls",
          "model_name": "HTMLModel",
          "model_module_version": "1.5.0",
          "state": {
            "_dom_classes": [],
            "_model_module": "@jupyter-widgets/controls",
            "_model_module_version": "1.5.0",
            "_model_name": "HTMLModel",
            "_view_count": null,
            "_view_module": "@jupyter-widgets/controls",
            "_view_module_version": "1.5.0",
            "_view_name": "HTMLView",
            "description": "",
            "description_tooltip": null,
            "layout": "IPY_MODEL_d53e9481e0904e3aa908435637dd8df4",
            "placeholder": "​",
            "style": "IPY_MODEL_843b979ef0f24b3a93d52dd29694e082",
            "value": "Map: 100%"
          }
        },
        "36ef8bd2c1ba4b4ebc715dcdf57231a7": {
          "model_module": "@jupyter-widgets/controls",
          "model_name": "FloatProgressModel",
          "model_module_version": "1.5.0",
          "state": {
            "_dom_classes": [],
            "_model_module": "@jupyter-widgets/controls",
            "_model_module_version": "1.5.0",
            "_model_name": "FloatProgressModel",
            "_view_count": null,
            "_view_module": "@jupyter-widgets/controls",
            "_view_module_version": "1.5.0",
            "_view_name": "ProgressView",
            "bar_style": "success",
            "description": "",
            "description_tooltip": null,
            "layout": "IPY_MODEL_2d8fec1c451d449080623b54ab752cfe",
            "max": 2000,
            "min": 0,
            "orientation": "horizontal",
            "style": "IPY_MODEL_bef5f1904c8743a393bffed8b86dceaf",
            "value": 2000
          }
        },
        "4bed39db0361470a889ba64108119510": {
          "model_module": "@jupyter-widgets/controls",
          "model_name": "HTMLModel",
          "model_module_version": "1.5.0",
          "state": {
            "_dom_classes": [],
            "_model_module": "@jupyter-widgets/controls",
            "_model_module_version": "1.5.0",
            "_model_name": "HTMLModel",
            "_view_count": null,
            "_view_module": "@jupyter-widgets/controls",
            "_view_module_version": "1.5.0",
            "_view_name": "HTMLView",
            "description": "",
            "description_tooltip": null,
            "layout": "IPY_MODEL_d15811befb0c4ba483df21a912a49e8f",
            "placeholder": "​",
            "style": "IPY_MODEL_c54e516bc50d490c9c0094b9fc88d79e",
            "value": " 2000/2000 [00:00&lt;00:00, 3077.23 examples/s]"
          }
        },
        "11a55af402ae475ebd158ab11ac0b49c": {
          "model_module": "@jupyter-widgets/base",
          "model_name": "LayoutModel",
          "model_module_version": "1.2.0",
          "state": {
            "_model_module": "@jupyter-widgets/base",
            "_model_module_version": "1.2.0",
            "_model_name": "LayoutModel",
            "_view_count": null,
            "_view_module": "@jupyter-widgets/base",
            "_view_module_version": "1.2.0",
            "_view_name": "LayoutView",
            "align_content": null,
            "align_items": null,
            "align_self": null,
            "border": null,
            "bottom": null,
            "display": null,
            "flex": null,
            "flex_flow": null,
            "grid_area": null,
            "grid_auto_columns": null,
            "grid_auto_flow": null,
            "grid_auto_rows": null,
            "grid_column": null,
            "grid_gap": null,
            "grid_row": null,
            "grid_template_areas": null,
            "grid_template_columns": null,
            "grid_template_rows": null,
            "height": null,
            "justify_content": null,
            "justify_items": null,
            "left": null,
            "margin": null,
            "max_height": null,
            "max_width": null,
            "min_height": null,
            "min_width": null,
            "object_fit": null,
            "object_position": null,
            "order": null,
            "overflow": null,
            "overflow_x": null,
            "overflow_y": null,
            "padding": null,
            "right": null,
            "top": null,
            "visibility": null,
            "width": null
          }
        },
        "d53e9481e0904e3aa908435637dd8df4": {
          "model_module": "@jupyter-widgets/base",
          "model_name": "LayoutModel",
          "model_module_version": "1.2.0",
          "state": {
            "_model_module": "@jupyter-widgets/base",
            "_model_module_version": "1.2.0",
            "_model_name": "LayoutModel",
            "_view_count": null,
            "_view_module": "@jupyter-widgets/base",
            "_view_module_version": "1.2.0",
            "_view_name": "LayoutView",
            "align_content": null,
            "align_items": null,
            "align_self": null,
            "border": null,
            "bottom": null,
            "display": null,
            "flex": null,
            "flex_flow": null,
            "grid_area": null,
            "grid_auto_columns": null,
            "grid_auto_flow": null,
            "grid_auto_rows": null,
            "grid_column": null,
            "grid_gap": null,
            "grid_row": null,
            "grid_template_areas": null,
            "grid_template_columns": null,
            "grid_template_rows": null,
            "height": null,
            "justify_content": null,
            "justify_items": null,
            "left": null,
            "margin": null,
            "max_height": null,
            "max_width": null,
            "min_height": null,
            "min_width": null,
            "object_fit": null,
            "object_position": null,
            "order": null,
            "overflow": null,
            "overflow_x": null,
            "overflow_y": null,
            "padding": null,
            "right": null,
            "top": null,
            "visibility": null,
            "width": null
          }
        },
        "843b979ef0f24b3a93d52dd29694e082": {
          "model_module": "@jupyter-widgets/controls",
          "model_name": "DescriptionStyleModel",
          "model_module_version": "1.5.0",
          "state": {
            "_model_module": "@jupyter-widgets/controls",
            "_model_module_version": "1.5.0",
            "_model_name": "DescriptionStyleModel",
            "_view_count": null,
            "_view_module": "@jupyter-widgets/base",
            "_view_module_version": "1.2.0",
            "_view_name": "StyleView",
            "description_width": ""
          }
        },
        "2d8fec1c451d449080623b54ab752cfe": {
          "model_module": "@jupyter-widgets/base",
          "model_name": "LayoutModel",
          "model_module_version": "1.2.0",
          "state": {
            "_model_module": "@jupyter-widgets/base",
            "_model_module_version": "1.2.0",
            "_model_name": "LayoutModel",
            "_view_count": null,
            "_view_module": "@jupyter-widgets/base",
            "_view_module_version": "1.2.0",
            "_view_name": "LayoutView",
            "align_content": null,
            "align_items": null,
            "align_self": null,
            "border": null,
            "bottom": null,
            "display": null,
            "flex": null,
            "flex_flow": null,
            "grid_area": null,
            "grid_auto_columns": null,
            "grid_auto_flow": null,
            "grid_auto_rows": null,
            "grid_column": null,
            "grid_gap": null,
            "grid_row": null,
            "grid_template_areas": null,
            "grid_template_columns": null,
            "grid_template_rows": null,
            "height": null,
            "justify_content": null,
            "justify_items": null,
            "left": null,
            "margin": null,
            "max_height": null,
            "max_width": null,
            "min_height": null,
            "min_width": null,
            "object_fit": null,
            "object_position": null,
            "order": null,
            "overflow": null,
            "overflow_x": null,
            "overflow_y": null,
            "padding": null,
            "right": null,
            "top": null,
            "visibility": null,
            "width": null
          }
        },
        "bef5f1904c8743a393bffed8b86dceaf": {
          "model_module": "@jupyter-widgets/controls",
          "model_name": "ProgressStyleModel",
          "model_module_version": "1.5.0",
          "state": {
            "_model_module": "@jupyter-widgets/controls",
            "_model_module_version": "1.5.0",
            "_model_name": "ProgressStyleModel",
            "_view_count": null,
            "_view_module": "@jupyter-widgets/base",
            "_view_module_version": "1.2.0",
            "_view_name": "StyleView",
            "bar_color": null,
            "description_width": ""
          }
        },
        "d15811befb0c4ba483df21a912a49e8f": {
          "model_module": "@jupyter-widgets/base",
          "model_name": "LayoutModel",
          "model_module_version": "1.2.0",
          "state": {
            "_model_module": "@jupyter-widgets/base",
            "_model_module_version": "1.2.0",
            "_model_name": "LayoutModel",
            "_view_count": null,
            "_view_module": "@jupyter-widgets/base",
            "_view_module_version": "1.2.0",
            "_view_name": "LayoutView",
            "align_content": null,
            "align_items": null,
            "align_self": null,
            "border": null,
            "bottom": null,
            "display": null,
            "flex": null,
            "flex_flow": null,
            "grid_area": null,
            "grid_auto_columns": null,
            "grid_auto_flow": null,
            "grid_auto_rows": null,
            "grid_column": null,
            "grid_gap": null,
            "grid_row": null,
            "grid_template_areas": null,
            "grid_template_columns": null,
            "grid_template_rows": null,
            "height": null,
            "justify_content": null,
            "justify_items": null,
            "left": null,
            "margin": null,
            "max_height": null,
            "max_width": null,
            "min_height": null,
            "min_width": null,
            "object_fit": null,
            "object_position": null,
            "order": null,
            "overflow": null,
            "overflow_x": null,
            "overflow_y": null,
            "padding": null,
            "right": null,
            "top": null,
            "visibility": null,
            "width": null
          }
        },
        "c54e516bc50d490c9c0094b9fc88d79e": {
          "model_module": "@jupyter-widgets/controls",
          "model_name": "DescriptionStyleModel",
          "model_module_version": "1.5.0",
          "state": {
            "_model_module": "@jupyter-widgets/controls",
            "_model_module_version": "1.5.0",
            "_model_name": "DescriptionStyleModel",
            "_view_count": null,
            "_view_module": "@jupyter-widgets/base",
            "_view_module_version": "1.2.0",
            "_view_name": "StyleView",
            "description_width": ""
          }
        },
        "71d8bc41b84c4d89b385d2aa850607b8": {
          "model_module": "@jupyter-widgets/controls",
          "model_name": "HBoxModel",
          "model_module_version": "1.5.0",
          "state": {
            "_dom_classes": [],
            "_model_module": "@jupyter-widgets/controls",
            "_model_module_version": "1.5.0",
            "_model_name": "HBoxModel",
            "_view_count": null,
            "_view_module": "@jupyter-widgets/controls",
            "_view_module_version": "1.5.0",
            "_view_name": "HBoxView",
            "box_style": "",
            "children": [
              "IPY_MODEL_bbd59c6b25ee4ed698b31ca741b47426",
              "IPY_MODEL_16073a99eeaa41c5a1f1143ae7b7a74f",
              "IPY_MODEL_f556be92b1bf43489ccd5f38c4dd0c4e"
            ],
            "layout": "IPY_MODEL_74079c460ffd402b965879c5608ce144"
          }
        },
        "bbd59c6b25ee4ed698b31ca741b47426": {
          "model_module": "@jupyter-widgets/controls",
          "model_name": "HTMLModel",
          "model_module_version": "1.5.0",
          "state": {
            "_dom_classes": [],
            "_model_module": "@jupyter-widgets/controls",
            "_model_module_version": "1.5.0",
            "_model_name": "HTMLModel",
            "_view_count": null,
            "_view_module": "@jupyter-widgets/controls",
            "_view_module_version": "1.5.0",
            "_view_name": "HTMLView",
            "description": "",
            "description_tooltip": null,
            "layout": "IPY_MODEL_76755102617647dd913f7793cf446396",
            "placeholder": "​",
            "style": "IPY_MODEL_9242e57b5a684241af10fde6fabbfc3e",
            "value": "Map: 100%"
          }
        },
        "16073a99eeaa41c5a1f1143ae7b7a74f": {
          "model_module": "@jupyter-widgets/controls",
          "model_name": "FloatProgressModel",
          "model_module_version": "1.5.0",
          "state": {
            "_dom_classes": [],
            "_model_module": "@jupyter-widgets/controls",
            "_model_module_version": "1.5.0",
            "_model_name": "FloatProgressModel",
            "_view_count": null,
            "_view_module": "@jupyter-widgets/controls",
            "_view_module_version": "1.5.0",
            "_view_name": "ProgressView",
            "bar_style": "success",
            "description": "",
            "description_tooltip": null,
            "layout": "IPY_MODEL_891db1c8edce4af8b772e0eb9a5859f9",
            "max": 9824,
            "min": 0,
            "orientation": "horizontal",
            "style": "IPY_MODEL_eaa576ddb2b7428db7fd0b68c38a3777",
            "value": 9824
          }
        },
        "f556be92b1bf43489ccd5f38c4dd0c4e": {
          "model_module": "@jupyter-widgets/controls",
          "model_name": "HTMLModel",
          "model_module_version": "1.5.0",
          "state": {
            "_dom_classes": [],
            "_model_module": "@jupyter-widgets/controls",
            "_model_module_version": "1.5.0",
            "_model_name": "HTMLModel",
            "_view_count": null,
            "_view_module": "@jupyter-widgets/controls",
            "_view_module_version": "1.5.0",
            "_view_name": "HTMLView",
            "description": "",
            "description_tooltip": null,
            "layout": "IPY_MODEL_10f256f23ee04f34b50ba33f95f14dd6",
            "placeholder": "​",
            "style": "IPY_MODEL_3c33ca637d0545ec8b2973ad0c8ea229",
            "value": " 9824/9824 [00:02&lt;00:00, 4265.76 examples/s]"
          }
        },
        "74079c460ffd402b965879c5608ce144": {
          "model_module": "@jupyter-widgets/base",
          "model_name": "LayoutModel",
          "model_module_version": "1.2.0",
          "state": {
            "_model_module": "@jupyter-widgets/base",
            "_model_module_version": "1.2.0",
            "_model_name": "LayoutModel",
            "_view_count": null,
            "_view_module": "@jupyter-widgets/base",
            "_view_module_version": "1.2.0",
            "_view_name": "LayoutView",
            "align_content": null,
            "align_items": null,
            "align_self": null,
            "border": null,
            "bottom": null,
            "display": null,
            "flex": null,
            "flex_flow": null,
            "grid_area": null,
            "grid_auto_columns": null,
            "grid_auto_flow": null,
            "grid_auto_rows": null,
            "grid_column": null,
            "grid_gap": null,
            "grid_row": null,
            "grid_template_areas": null,
            "grid_template_columns": null,
            "grid_template_rows": null,
            "height": null,
            "justify_content": null,
            "justify_items": null,
            "left": null,
            "margin": null,
            "max_height": null,
            "max_width": null,
            "min_height": null,
            "min_width": null,
            "object_fit": null,
            "object_position": null,
            "order": null,
            "overflow": null,
            "overflow_x": null,
            "overflow_y": null,
            "padding": null,
            "right": null,
            "top": null,
            "visibility": null,
            "width": null
          }
        },
        "76755102617647dd913f7793cf446396": {
          "model_module": "@jupyter-widgets/base",
          "model_name": "LayoutModel",
          "model_module_version": "1.2.0",
          "state": {
            "_model_module": "@jupyter-widgets/base",
            "_model_module_version": "1.2.0",
            "_model_name": "LayoutModel",
            "_view_count": null,
            "_view_module": "@jupyter-widgets/base",
            "_view_module_version": "1.2.0",
            "_view_name": "LayoutView",
            "align_content": null,
            "align_items": null,
            "align_self": null,
            "border": null,
            "bottom": null,
            "display": null,
            "flex": null,
            "flex_flow": null,
            "grid_area": null,
            "grid_auto_columns": null,
            "grid_auto_flow": null,
            "grid_auto_rows": null,
            "grid_column": null,
            "grid_gap": null,
            "grid_row": null,
            "grid_template_areas": null,
            "grid_template_columns": null,
            "grid_template_rows": null,
            "height": null,
            "justify_content": null,
            "justify_items": null,
            "left": null,
            "margin": null,
            "max_height": null,
            "max_width": null,
            "min_height": null,
            "min_width": null,
            "object_fit": null,
            "object_position": null,
            "order": null,
            "overflow": null,
            "overflow_x": null,
            "overflow_y": null,
            "padding": null,
            "right": null,
            "top": null,
            "visibility": null,
            "width": null
          }
        },
        "9242e57b5a684241af10fde6fabbfc3e": {
          "model_module": "@jupyter-widgets/controls",
          "model_name": "DescriptionStyleModel",
          "model_module_version": "1.5.0",
          "state": {
            "_model_module": "@jupyter-widgets/controls",
            "_model_module_version": "1.5.0",
            "_model_name": "DescriptionStyleModel",
            "_view_count": null,
            "_view_module": "@jupyter-widgets/base",
            "_view_module_version": "1.2.0",
            "_view_name": "StyleView",
            "description_width": ""
          }
        },
        "891db1c8edce4af8b772e0eb9a5859f9": {
          "model_module": "@jupyter-widgets/base",
          "model_name": "LayoutModel",
          "model_module_version": "1.2.0",
          "state": {
            "_model_module": "@jupyter-widgets/base",
            "_model_module_version": "1.2.0",
            "_model_name": "LayoutModel",
            "_view_count": null,
            "_view_module": "@jupyter-widgets/base",
            "_view_module_version": "1.2.0",
            "_view_name": "LayoutView",
            "align_content": null,
            "align_items": null,
            "align_self": null,
            "border": null,
            "bottom": null,
            "display": null,
            "flex": null,
            "flex_flow": null,
            "grid_area": null,
            "grid_auto_columns": null,
            "grid_auto_flow": null,
            "grid_auto_rows": null,
            "grid_column": null,
            "grid_gap": null,
            "grid_row": null,
            "grid_template_areas": null,
            "grid_template_columns": null,
            "grid_template_rows": null,
            "height": null,
            "justify_content": null,
            "justify_items": null,
            "left": null,
            "margin": null,
            "max_height": null,
            "max_width": null,
            "min_height": null,
            "min_width": null,
            "object_fit": null,
            "object_position": null,
            "order": null,
            "overflow": null,
            "overflow_x": null,
            "overflow_y": null,
            "padding": null,
            "right": null,
            "top": null,
            "visibility": null,
            "width": null
          }
        },
        "eaa576ddb2b7428db7fd0b68c38a3777": {
          "model_module": "@jupyter-widgets/controls",
          "model_name": "ProgressStyleModel",
          "model_module_version": "1.5.0",
          "state": {
            "_model_module": "@jupyter-widgets/controls",
            "_model_module_version": "1.5.0",
            "_model_name": "ProgressStyleModel",
            "_view_count": null,
            "_view_module": "@jupyter-widgets/base",
            "_view_module_version": "1.2.0",
            "_view_name": "StyleView",
            "bar_color": null,
            "description_width": ""
          }
        },
        "10f256f23ee04f34b50ba33f95f14dd6": {
          "model_module": "@jupyter-widgets/base",
          "model_name": "LayoutModel",
          "model_module_version": "1.2.0",
          "state": {
            "_model_module": "@jupyter-widgets/base",
            "_model_module_version": "1.2.0",
            "_model_name": "LayoutModel",
            "_view_count": null,
            "_view_module": "@jupyter-widgets/base",
            "_view_module_version": "1.2.0",
            "_view_name": "LayoutView",
            "align_content": null,
            "align_items": null,
            "align_self": null,
            "border": null,
            "bottom": null,
            "display": null,
            "flex": null,
            "flex_flow": null,
            "grid_area": null,
            "grid_auto_columns": null,
            "grid_auto_flow": null,
            "grid_auto_rows": null,
            "grid_column": null,
            "grid_gap": null,
            "grid_row": null,
            "grid_template_areas": null,
            "grid_template_columns": null,
            "grid_template_rows": null,
            "height": null,
            "justify_content": null,
            "justify_items": null,
            "left": null,
            "margin": null,
            "max_height": null,
            "max_width": null,
            "min_height": null,
            "min_width": null,
            "object_fit": null,
            "object_position": null,
            "order": null,
            "overflow": null,
            "overflow_x": null,
            "overflow_y": null,
            "padding": null,
            "right": null,
            "top": null,
            "visibility": null,
            "width": null
          }
        },
        "3c33ca637d0545ec8b2973ad0c8ea229": {
          "model_module": "@jupyter-widgets/controls",
          "model_name": "DescriptionStyleModel",
          "model_module_version": "1.5.0",
          "state": {
            "_model_module": "@jupyter-widgets/controls",
            "_model_module_version": "1.5.0",
            "_model_name": "DescriptionStyleModel",
            "_view_count": null,
            "_view_module": "@jupyter-widgets/base",
            "_view_module_version": "1.2.0",
            "_view_name": "StyleView",
            "description_width": ""
          }
        },
        "e395d526182948b8b8ec615277819150": {
          "model_module": "@jupyter-widgets/controls",
          "model_name": "HBoxModel",
          "model_module_version": "1.5.0",
          "state": {
            "_dom_classes": [],
            "_model_module": "@jupyter-widgets/controls",
            "_model_module_version": "1.5.0",
            "_model_name": "HBoxModel",
            "_view_count": null,
            "_view_module": "@jupyter-widgets/controls",
            "_view_module_version": "1.5.0",
            "_view_name": "HBoxView",
            "box_style": "",
            "children": [
              "IPY_MODEL_f5b73dfd5ba045bf81b9914af2a8cd1c",
              "IPY_MODEL_00c5a257728b4ecba6c7e7eb09633664",
              "IPY_MODEL_57c93ee53195444ba1d64e6e5ce23f70"
            ],
            "layout": "IPY_MODEL_ec5a4e868d9744b7b184c7f293a8de7e"
          }
        },
        "f5b73dfd5ba045bf81b9914af2a8cd1c": {
          "model_module": "@jupyter-widgets/controls",
          "model_name": "HTMLModel",
          "model_module_version": "1.5.0",
          "state": {
            "_dom_classes": [],
            "_model_module": "@jupyter-widgets/controls",
            "_model_module_version": "1.5.0",
            "_model_name": "HTMLModel",
            "_view_count": null,
            "_view_module": "@jupyter-widgets/controls",
            "_view_module_version": "1.5.0",
            "_view_name": "HTMLView",
            "description": "",
            "description_tooltip": null,
            "layout": "IPY_MODEL_6d887ce04a394e79aa4111cc93d79dc2",
            "placeholder": "​",
            "style": "IPY_MODEL_ccbb6c65c7844dd894aa01ac1fbcea96",
            "value": "Map: 100%"
          }
        },
        "00c5a257728b4ecba6c7e7eb09633664": {
          "model_module": "@jupyter-widgets/controls",
          "model_name": "FloatProgressModel",
          "model_module_version": "1.5.0",
          "state": {
            "_dom_classes": [],
            "_model_module": "@jupyter-widgets/controls",
            "_model_module_version": "1.5.0",
            "_model_name": "FloatProgressModel",
            "_view_count": null,
            "_view_module": "@jupyter-widgets/controls",
            "_view_module_version": "1.5.0",
            "_view_name": "ProgressView",
            "bar_style": "success",
            "description": "",
            "description_tooltip": null,
            "layout": "IPY_MODEL_0146d342486c476292b16040fc2203dc",
            "max": 9842,
            "min": 0,
            "orientation": "horizontal",
            "style": "IPY_MODEL_f94a38099f9449b68a6ffe1936f18077",
            "value": 9842
          }
        },
        "57c93ee53195444ba1d64e6e5ce23f70": {
          "model_module": "@jupyter-widgets/controls",
          "model_name": "HTMLModel",
          "model_module_version": "1.5.0",
          "state": {
            "_dom_classes": [],
            "_model_module": "@jupyter-widgets/controls",
            "_model_module_version": "1.5.0",
            "_model_name": "HTMLModel",
            "_view_count": null,
            "_view_module": "@jupyter-widgets/controls",
            "_view_module_version": "1.5.0",
            "_view_name": "HTMLView",
            "description": "",
            "description_tooltip": null,
            "layout": "IPY_MODEL_e71a78795dcd4aab967e09b0311f07c6",
            "placeholder": "​",
            "style": "IPY_MODEL_865dc7194d274f1d9a4f2afc0be20604",
            "value": " 9842/9842 [00:01&lt;00:00, 5869.31 examples/s]"
          }
        },
        "ec5a4e868d9744b7b184c7f293a8de7e": {
          "model_module": "@jupyter-widgets/base",
          "model_name": "LayoutModel",
          "model_module_version": "1.2.0",
          "state": {
            "_model_module": "@jupyter-widgets/base",
            "_model_module_version": "1.2.0",
            "_model_name": "LayoutModel",
            "_view_count": null,
            "_view_module": "@jupyter-widgets/base",
            "_view_module_version": "1.2.0",
            "_view_name": "LayoutView",
            "align_content": null,
            "align_items": null,
            "align_self": null,
            "border": null,
            "bottom": null,
            "display": null,
            "flex": null,
            "flex_flow": null,
            "grid_area": null,
            "grid_auto_columns": null,
            "grid_auto_flow": null,
            "grid_auto_rows": null,
            "grid_column": null,
            "grid_gap": null,
            "grid_row": null,
            "grid_template_areas": null,
            "grid_template_columns": null,
            "grid_template_rows": null,
            "height": null,
            "justify_content": null,
            "justify_items": null,
            "left": null,
            "margin": null,
            "max_height": null,
            "max_width": null,
            "min_height": null,
            "min_width": null,
            "object_fit": null,
            "object_position": null,
            "order": null,
            "overflow": null,
            "overflow_x": null,
            "overflow_y": null,
            "padding": null,
            "right": null,
            "top": null,
            "visibility": null,
            "width": null
          }
        },
        "6d887ce04a394e79aa4111cc93d79dc2": {
          "model_module": "@jupyter-widgets/base",
          "model_name": "LayoutModel",
          "model_module_version": "1.2.0",
          "state": {
            "_model_module": "@jupyter-widgets/base",
            "_model_module_version": "1.2.0",
            "_model_name": "LayoutModel",
            "_view_count": null,
            "_view_module": "@jupyter-widgets/base",
            "_view_module_version": "1.2.0",
            "_view_name": "LayoutView",
            "align_content": null,
            "align_items": null,
            "align_self": null,
            "border": null,
            "bottom": null,
            "display": null,
            "flex": null,
            "flex_flow": null,
            "grid_area": null,
            "grid_auto_columns": null,
            "grid_auto_flow": null,
            "grid_auto_rows": null,
            "grid_column": null,
            "grid_gap": null,
            "grid_row": null,
            "grid_template_areas": null,
            "grid_template_columns": null,
            "grid_template_rows": null,
            "height": null,
            "justify_content": null,
            "justify_items": null,
            "left": null,
            "margin": null,
            "max_height": null,
            "max_width": null,
            "min_height": null,
            "min_width": null,
            "object_fit": null,
            "object_position": null,
            "order": null,
            "overflow": null,
            "overflow_x": null,
            "overflow_y": null,
            "padding": null,
            "right": null,
            "top": null,
            "visibility": null,
            "width": null
          }
        },
        "ccbb6c65c7844dd894aa01ac1fbcea96": {
          "model_module": "@jupyter-widgets/controls",
          "model_name": "DescriptionStyleModel",
          "model_module_version": "1.5.0",
          "state": {
            "_model_module": "@jupyter-widgets/controls",
            "_model_module_version": "1.5.0",
            "_model_name": "DescriptionStyleModel",
            "_view_count": null,
            "_view_module": "@jupyter-widgets/base",
            "_view_module_version": "1.2.0",
            "_view_name": "StyleView",
            "description_width": ""
          }
        },
        "0146d342486c476292b16040fc2203dc": {
          "model_module": "@jupyter-widgets/base",
          "model_name": "LayoutModel",
          "model_module_version": "1.2.0",
          "state": {
            "_model_module": "@jupyter-widgets/base",
            "_model_module_version": "1.2.0",
            "_model_name": "LayoutModel",
            "_view_count": null,
            "_view_module": "@jupyter-widgets/base",
            "_view_module_version": "1.2.0",
            "_view_name": "LayoutView",
            "align_content": null,
            "align_items": null,
            "align_self": null,
            "border": null,
            "bottom": null,
            "display": null,
            "flex": null,
            "flex_flow": null,
            "grid_area": null,
            "grid_auto_columns": null,
            "grid_auto_flow": null,
            "grid_auto_rows": null,
            "grid_column": null,
            "grid_gap": null,
            "grid_row": null,
            "grid_template_areas": null,
            "grid_template_columns": null,
            "grid_template_rows": null,
            "height": null,
            "justify_content": null,
            "justify_items": null,
            "left": null,
            "margin": null,
            "max_height": null,
            "max_width": null,
            "min_height": null,
            "min_width": null,
            "object_fit": null,
            "object_position": null,
            "order": null,
            "overflow": null,
            "overflow_x": null,
            "overflow_y": null,
            "padding": null,
            "right": null,
            "top": null,
            "visibility": null,
            "width": null
          }
        },
        "f94a38099f9449b68a6ffe1936f18077": {
          "model_module": "@jupyter-widgets/controls",
          "model_name": "ProgressStyleModel",
          "model_module_version": "1.5.0",
          "state": {
            "_model_module": "@jupyter-widgets/controls",
            "_model_module_version": "1.5.0",
            "_model_name": "ProgressStyleModel",
            "_view_count": null,
            "_view_module": "@jupyter-widgets/base",
            "_view_module_version": "1.2.0",
            "_view_name": "StyleView",
            "bar_color": null,
            "description_width": ""
          }
        },
        "e71a78795dcd4aab967e09b0311f07c6": {
          "model_module": "@jupyter-widgets/base",
          "model_name": "LayoutModel",
          "model_module_version": "1.2.0",
          "state": {
            "_model_module": "@jupyter-widgets/base",
            "_model_module_version": "1.2.0",
            "_model_name": "LayoutModel",
            "_view_count": null,
            "_view_module": "@jupyter-widgets/base",
            "_view_module_version": "1.2.0",
            "_view_name": "LayoutView",
            "align_content": null,
            "align_items": null,
            "align_self": null,
            "border": null,
            "bottom": null,
            "display": null,
            "flex": null,
            "flex_flow": null,
            "grid_area": null,
            "grid_auto_columns": null,
            "grid_auto_flow": null,
            "grid_auto_rows": null,
            "grid_column": null,
            "grid_gap": null,
            "grid_row": null,
            "grid_template_areas": null,
            "grid_template_columns": null,
            "grid_template_rows": null,
            "height": null,
            "justify_content": null,
            "justify_items": null,
            "left": null,
            "margin": null,
            "max_height": null,
            "max_width": null,
            "min_height": null,
            "min_width": null,
            "object_fit": null,
            "object_position": null,
            "order": null,
            "overflow": null,
            "overflow_x": null,
            "overflow_y": null,
            "padding": null,
            "right": null,
            "top": null,
            "visibility": null,
            "width": null
          }
        },
        "865dc7194d274f1d9a4f2afc0be20604": {
          "model_module": "@jupyter-widgets/controls",
          "model_name": "DescriptionStyleModel",
          "model_module_version": "1.5.0",
          "state": {
            "_model_module": "@jupyter-widgets/controls",
            "_model_module_version": "1.5.0",
            "_model_name": "DescriptionStyleModel",
            "_view_count": null,
            "_view_module": "@jupyter-widgets/base",
            "_view_module_version": "1.2.0",
            "_view_name": "StyleView",
            "description_width": ""
          }
        },
        "5253133e5ae141d68bec0159861378d5": {
          "model_module": "@jupyter-widgets/controls",
          "model_name": "HBoxModel",
          "model_module_version": "1.5.0",
          "state": {
            "_dom_classes": [],
            "_model_module": "@jupyter-widgets/controls",
            "_model_module_version": "1.5.0",
            "_model_name": "HBoxModel",
            "_view_count": null,
            "_view_module": "@jupyter-widgets/controls",
            "_view_module_version": "1.5.0",
            "_view_name": "HBoxView",
            "box_style": "",
            "children": [
              "IPY_MODEL_577b4ab311f341d9ab7ea6d93084d552",
              "IPY_MODEL_ac08291757814952aa2a9a52bdcc41e0",
              "IPY_MODEL_5e367877548645a0b36628258f7dab3e"
            ],
            "layout": "IPY_MODEL_d78e6972bf5a4385aa412f1d5b802459"
          }
        },
        "577b4ab311f341d9ab7ea6d93084d552": {
          "model_module": "@jupyter-widgets/controls",
          "model_name": "HTMLModel",
          "model_module_version": "1.5.0",
          "state": {
            "_dom_classes": [],
            "_model_module": "@jupyter-widgets/controls",
            "_model_module_version": "1.5.0",
            "_model_name": "HTMLModel",
            "_view_count": null,
            "_view_module": "@jupyter-widgets/controls",
            "_view_module_version": "1.5.0",
            "_view_name": "HTMLView",
            "description": "",
            "description_tooltip": null,
            "layout": "IPY_MODEL_49b7f8e4ad9942fcaf1b90285b34bfdd",
            "placeholder": "​",
            "style": "IPY_MODEL_1dec5518e11e425da21434155fffeb36",
            "value": "Map: 100%"
          }
        },
        "ac08291757814952aa2a9a52bdcc41e0": {
          "model_module": "@jupyter-widgets/controls",
          "model_name": "FloatProgressModel",
          "model_module_version": "1.5.0",
          "state": {
            "_dom_classes": [],
            "_model_module": "@jupyter-widgets/controls",
            "_model_module_version": "1.5.0",
            "_model_name": "FloatProgressModel",
            "_view_count": null,
            "_view_module": "@jupyter-widgets/controls",
            "_view_module_version": "1.5.0",
            "_view_name": "ProgressView",
            "bar_style": "success",
            "description": "",
            "description_tooltip": null,
            "layout": "IPY_MODEL_6bd28299a00340cd8f7681d97726e932",
            "max": 549367,
            "min": 0,
            "orientation": "horizontal",
            "style": "IPY_MODEL_0a034f4c84c94ab1b33d7ca263ee808f",
            "value": 549367
          }
        },
        "5e367877548645a0b36628258f7dab3e": {
          "model_module": "@jupyter-widgets/controls",
          "model_name": "HTMLModel",
          "model_module_version": "1.5.0",
          "state": {
            "_dom_classes": [],
            "_model_module": "@jupyter-widgets/controls",
            "_model_module_version": "1.5.0",
            "_model_name": "HTMLModel",
            "_view_count": null,
            "_view_module": "@jupyter-widgets/controls",
            "_view_module_version": "1.5.0",
            "_view_name": "HTMLView",
            "description": "",
            "description_tooltip": null,
            "layout": "IPY_MODEL_cf8627e6be4c4487a5bed265831d1334",
            "placeholder": "​",
            "style": "IPY_MODEL_165f45e184a1406ba0bdd3580d2f87b0",
            "value": " 549367/549367 [01:44&lt;00:00, 10507.88 examples/s]"
          }
        },
        "d78e6972bf5a4385aa412f1d5b802459": {
          "model_module": "@jupyter-widgets/base",
          "model_name": "LayoutModel",
          "model_module_version": "1.2.0",
          "state": {
            "_model_module": "@jupyter-widgets/base",
            "_model_module_version": "1.2.0",
            "_model_name": "LayoutModel",
            "_view_count": null,
            "_view_module": "@jupyter-widgets/base",
            "_view_module_version": "1.2.0",
            "_view_name": "LayoutView",
            "align_content": null,
            "align_items": null,
            "align_self": null,
            "border": null,
            "bottom": null,
            "display": null,
            "flex": null,
            "flex_flow": null,
            "grid_area": null,
            "grid_auto_columns": null,
            "grid_auto_flow": null,
            "grid_auto_rows": null,
            "grid_column": null,
            "grid_gap": null,
            "grid_row": null,
            "grid_template_areas": null,
            "grid_template_columns": null,
            "grid_template_rows": null,
            "height": null,
            "justify_content": null,
            "justify_items": null,
            "left": null,
            "margin": null,
            "max_height": null,
            "max_width": null,
            "min_height": null,
            "min_width": null,
            "object_fit": null,
            "object_position": null,
            "order": null,
            "overflow": null,
            "overflow_x": null,
            "overflow_y": null,
            "padding": null,
            "right": null,
            "top": null,
            "visibility": null,
            "width": null
          }
        },
        "49b7f8e4ad9942fcaf1b90285b34bfdd": {
          "model_module": "@jupyter-widgets/base",
          "model_name": "LayoutModel",
          "model_module_version": "1.2.0",
          "state": {
            "_model_module": "@jupyter-widgets/base",
            "_model_module_version": "1.2.0",
            "_model_name": "LayoutModel",
            "_view_count": null,
            "_view_module": "@jupyter-widgets/base",
            "_view_module_version": "1.2.0",
            "_view_name": "LayoutView",
            "align_content": null,
            "align_items": null,
            "align_self": null,
            "border": null,
            "bottom": null,
            "display": null,
            "flex": null,
            "flex_flow": null,
            "grid_area": null,
            "grid_auto_columns": null,
            "grid_auto_flow": null,
            "grid_auto_rows": null,
            "grid_column": null,
            "grid_gap": null,
            "grid_row": null,
            "grid_template_areas": null,
            "grid_template_columns": null,
            "grid_template_rows": null,
            "height": null,
            "justify_content": null,
            "justify_items": null,
            "left": null,
            "margin": null,
            "max_height": null,
            "max_width": null,
            "min_height": null,
            "min_width": null,
            "object_fit": null,
            "object_position": null,
            "order": null,
            "overflow": null,
            "overflow_x": null,
            "overflow_y": null,
            "padding": null,
            "right": null,
            "top": null,
            "visibility": null,
            "width": null
          }
        },
        "1dec5518e11e425da21434155fffeb36": {
          "model_module": "@jupyter-widgets/controls",
          "model_name": "DescriptionStyleModel",
          "model_module_version": "1.5.0",
          "state": {
            "_model_module": "@jupyter-widgets/controls",
            "_model_module_version": "1.5.0",
            "_model_name": "DescriptionStyleModel",
            "_view_count": null,
            "_view_module": "@jupyter-widgets/base",
            "_view_module_version": "1.2.0",
            "_view_name": "StyleView",
            "description_width": ""
          }
        },
        "6bd28299a00340cd8f7681d97726e932": {
          "model_module": "@jupyter-widgets/base",
          "model_name": "LayoutModel",
          "model_module_version": "1.2.0",
          "state": {
            "_model_module": "@jupyter-widgets/base",
            "_model_module_version": "1.2.0",
            "_model_name": "LayoutModel",
            "_view_count": null,
            "_view_module": "@jupyter-widgets/base",
            "_view_module_version": "1.2.0",
            "_view_name": "LayoutView",
            "align_content": null,
            "align_items": null,
            "align_self": null,
            "border": null,
            "bottom": null,
            "display": null,
            "flex": null,
            "flex_flow": null,
            "grid_area": null,
            "grid_auto_columns": null,
            "grid_auto_flow": null,
            "grid_auto_rows": null,
            "grid_column": null,
            "grid_gap": null,
            "grid_row": null,
            "grid_template_areas": null,
            "grid_template_columns": null,
            "grid_template_rows": null,
            "height": null,
            "justify_content": null,
            "justify_items": null,
            "left": null,
            "margin": null,
            "max_height": null,
            "max_width": null,
            "min_height": null,
            "min_width": null,
            "object_fit": null,
            "object_position": null,
            "order": null,
            "overflow": null,
            "overflow_x": null,
            "overflow_y": null,
            "padding": null,
            "right": null,
            "top": null,
            "visibility": null,
            "width": null
          }
        },
        "0a034f4c84c94ab1b33d7ca263ee808f": {
          "model_module": "@jupyter-widgets/controls",
          "model_name": "ProgressStyleModel",
          "model_module_version": "1.5.0",
          "state": {
            "_model_module": "@jupyter-widgets/controls",
            "_model_module_version": "1.5.0",
            "_model_name": "ProgressStyleModel",
            "_view_count": null,
            "_view_module": "@jupyter-widgets/base",
            "_view_module_version": "1.2.0",
            "_view_name": "StyleView",
            "bar_color": null,
            "description_width": ""
          }
        },
        "cf8627e6be4c4487a5bed265831d1334": {
          "model_module": "@jupyter-widgets/base",
          "model_name": "LayoutModel",
          "model_module_version": "1.2.0",
          "state": {
            "_model_module": "@jupyter-widgets/base",
            "_model_module_version": "1.2.0",
            "_model_name": "LayoutModel",
            "_view_count": null,
            "_view_module": "@jupyter-widgets/base",
            "_view_module_version": "1.2.0",
            "_view_name": "LayoutView",
            "align_content": null,
            "align_items": null,
            "align_self": null,
            "border": null,
            "bottom": null,
            "display": null,
            "flex": null,
            "flex_flow": null,
            "grid_area": null,
            "grid_auto_columns": null,
            "grid_auto_flow": null,
            "grid_auto_rows": null,
            "grid_column": null,
            "grid_gap": null,
            "grid_row": null,
            "grid_template_areas": null,
            "grid_template_columns": null,
            "grid_template_rows": null,
            "height": null,
            "justify_content": null,
            "justify_items": null,
            "left": null,
            "margin": null,
            "max_height": null,
            "max_width": null,
            "min_height": null,
            "min_width": null,
            "object_fit": null,
            "object_position": null,
            "order": null,
            "overflow": null,
            "overflow_x": null,
            "overflow_y": null,
            "padding": null,
            "right": null,
            "top": null,
            "visibility": null,
            "width": null
          }
        },
        "165f45e184a1406ba0bdd3580d2f87b0": {
          "model_module": "@jupyter-widgets/controls",
          "model_name": "DescriptionStyleModel",
          "model_module_version": "1.5.0",
          "state": {
            "_model_module": "@jupyter-widgets/controls",
            "_model_module_version": "1.5.0",
            "_model_name": "DescriptionStyleModel",
            "_view_count": null,
            "_view_module": "@jupyter-widgets/base",
            "_view_module_version": "1.2.0",
            "_view_name": "StyleView",
            "description_width": ""
          }
        }
      }
    },
    "accelerator": "GPU"
  },
  "cells": [
    {
      "cell_type": "markdown",
      "metadata": {
        "id": "view-in-github",
        "colab_type": "text"
      },
      "source": [
        "<a href=\"https://colab.research.google.com/github/Jagoda222/LoLa---group-8/blob/main/sentence_length.ipynb\" target=\"_parent\"><img src=\"https://colab.research.google.com/assets/colab-badge.svg\" alt=\"Open In Colab\"/></a>"
      ]
    },
    {
      "cell_type": "markdown",
      "source": [
        "#Imports\n",
        "\n",
        "\n",
        "\n"
      ],
      "metadata": {
        "id": "zHJuvHOh-44P"
      }
    },
    {
      "cell_type": "code",
      "source": [
        "!pip install accelerate -U\n",
        "!pip install datasets==2.14.5\n"
      ],
      "metadata": {
        "colab": {
          "base_uri": "https://localhost:8080/"
        },
        "id": "iQJCG8dDfT2J",
        "outputId": "09ec9445-b2dc-460b-9f89-87d52d84fb16"
      },
      "execution_count": 1,
      "outputs": [
        {
          "output_type": "stream",
          "name": "stdout",
          "text": [
            "Requirement already satisfied: accelerate in /usr/local/lib/python3.10/dist-packages (1.1.1)\n",
            "Collecting accelerate\n",
            "  Downloading accelerate-1.2.1-py3-none-any.whl.metadata (19 kB)\n",
            "Requirement already satisfied: numpy<3.0.0,>=1.17 in /usr/local/lib/python3.10/dist-packages (from accelerate) (1.26.4)\n",
            "Requirement already satisfied: packaging>=20.0 in /usr/local/lib/python3.10/dist-packages (from accelerate) (24.2)\n",
            "Requirement already satisfied: psutil in /usr/local/lib/python3.10/dist-packages (from accelerate) (5.9.5)\n",
            "Requirement already satisfied: pyyaml in /usr/local/lib/python3.10/dist-packages (from accelerate) (6.0.2)\n",
            "Requirement already satisfied: torch>=1.10.0 in /usr/local/lib/python3.10/dist-packages (from accelerate) (2.5.1+cu121)\n",
            "Requirement already satisfied: huggingface-hub>=0.21.0 in /usr/local/lib/python3.10/dist-packages (from accelerate) (0.26.5)\n",
            "Requirement already satisfied: safetensors>=0.4.3 in /usr/local/lib/python3.10/dist-packages (from accelerate) (0.4.5)\n",
            "Requirement already satisfied: filelock in /usr/local/lib/python3.10/dist-packages (from huggingface-hub>=0.21.0->accelerate) (3.16.1)\n",
            "Requirement already satisfied: fsspec>=2023.5.0 in /usr/local/lib/python3.10/dist-packages (from huggingface-hub>=0.21.0->accelerate) (2024.10.0)\n",
            "Requirement already satisfied: requests in /usr/local/lib/python3.10/dist-packages (from huggingface-hub>=0.21.0->accelerate) (2.32.3)\n",
            "Requirement already satisfied: tqdm>=4.42.1 in /usr/local/lib/python3.10/dist-packages (from huggingface-hub>=0.21.0->accelerate) (4.66.6)\n",
            "Requirement already satisfied: typing-extensions>=3.7.4.3 in /usr/local/lib/python3.10/dist-packages (from huggingface-hub>=0.21.0->accelerate) (4.12.2)\n",
            "Requirement already satisfied: networkx in /usr/local/lib/python3.10/dist-packages (from torch>=1.10.0->accelerate) (3.4.2)\n",
            "Requirement already satisfied: jinja2 in /usr/local/lib/python3.10/dist-packages (from torch>=1.10.0->accelerate) (3.1.4)\n",
            "Requirement already satisfied: sympy==1.13.1 in /usr/local/lib/python3.10/dist-packages (from torch>=1.10.0->accelerate) (1.13.1)\n",
            "Requirement already satisfied: mpmath<1.4,>=1.1.0 in /usr/local/lib/python3.10/dist-packages (from sympy==1.13.1->torch>=1.10.0->accelerate) (1.3.0)\n",
            "Requirement already satisfied: MarkupSafe>=2.0 in /usr/local/lib/python3.10/dist-packages (from jinja2->torch>=1.10.0->accelerate) (3.0.2)\n",
            "Requirement already satisfied: charset-normalizer<4,>=2 in /usr/local/lib/python3.10/dist-packages (from requests->huggingface-hub>=0.21.0->accelerate) (3.4.0)\n",
            "Requirement already satisfied: idna<4,>=2.5 in /usr/local/lib/python3.10/dist-packages (from requests->huggingface-hub>=0.21.0->accelerate) (3.10)\n",
            "Requirement already satisfied: urllib3<3,>=1.21.1 in /usr/local/lib/python3.10/dist-packages (from requests->huggingface-hub>=0.21.0->accelerate) (2.2.3)\n",
            "Requirement already satisfied: certifi>=2017.4.17 in /usr/local/lib/python3.10/dist-packages (from requests->huggingface-hub>=0.21.0->accelerate) (2024.8.30)\n",
            "Downloading accelerate-1.2.1-py3-none-any.whl (336 kB)\n",
            "\u001b[2K   \u001b[90m━━━━━━━━━━━━━━━━━━━━━━━━━━━━━━━━━━━━━━━━\u001b[0m \u001b[32m336.4/336.4 kB\u001b[0m \u001b[31m13.3 MB/s\u001b[0m eta \u001b[36m0:00:00\u001b[0m\n",
            "\u001b[?25hInstalling collected packages: accelerate\n",
            "  Attempting uninstall: accelerate\n",
            "    Found existing installation: accelerate 1.1.1\n",
            "    Uninstalling accelerate-1.1.1:\n",
            "      Successfully uninstalled accelerate-1.1.1\n",
            "Successfully installed accelerate-1.2.1\n",
            "Collecting datasets==2.14.5\n",
            "  Downloading datasets-2.14.5-py3-none-any.whl.metadata (19 kB)\n",
            "Requirement already satisfied: numpy>=1.17 in /usr/local/lib/python3.10/dist-packages (from datasets==2.14.5) (1.26.4)\n",
            "Requirement already satisfied: pyarrow>=8.0.0 in /usr/local/lib/python3.10/dist-packages (from datasets==2.14.5) (17.0.0)\n",
            "Collecting dill<0.3.8,>=0.3.0 (from datasets==2.14.5)\n",
            "  Downloading dill-0.3.7-py3-none-any.whl.metadata (9.9 kB)\n",
            "Requirement already satisfied: pandas in /usr/local/lib/python3.10/dist-packages (from datasets==2.14.5) (2.2.2)\n",
            "Requirement already satisfied: requests>=2.19.0 in /usr/local/lib/python3.10/dist-packages (from datasets==2.14.5) (2.32.3)\n",
            "Requirement already satisfied: tqdm>=4.62.1 in /usr/local/lib/python3.10/dist-packages (from datasets==2.14.5) (4.66.6)\n",
            "Collecting xxhash (from datasets==2.14.5)\n",
            "  Downloading xxhash-3.5.0-cp310-cp310-manylinux_2_17_x86_64.manylinux2014_x86_64.whl.metadata (12 kB)\n",
            "Collecting multiprocess (from datasets==2.14.5)\n",
            "  Downloading multiprocess-0.70.17-py310-none-any.whl.metadata (7.2 kB)\n",
            "Collecting fsspec<2023.9.0,>=2023.1.0 (from fsspec[http]<2023.9.0,>=2023.1.0->datasets==2.14.5)\n",
            "  Downloading fsspec-2023.6.0-py3-none-any.whl.metadata (6.7 kB)\n",
            "Requirement already satisfied: aiohttp in /usr/local/lib/python3.10/dist-packages (from datasets==2.14.5) (3.11.10)\n",
            "Requirement already satisfied: huggingface-hub<1.0.0,>=0.14.0 in /usr/local/lib/python3.10/dist-packages (from datasets==2.14.5) (0.26.5)\n",
            "Requirement already satisfied: packaging in /usr/local/lib/python3.10/dist-packages (from datasets==2.14.5) (24.2)\n",
            "Requirement already satisfied: pyyaml>=5.1 in /usr/local/lib/python3.10/dist-packages (from datasets==2.14.5) (6.0.2)\n",
            "Requirement already satisfied: aiohappyeyeballs>=2.3.0 in /usr/local/lib/python3.10/dist-packages (from aiohttp->datasets==2.14.5) (2.4.4)\n",
            "Requirement already satisfied: aiosignal>=1.1.2 in /usr/local/lib/python3.10/dist-packages (from aiohttp->datasets==2.14.5) (1.3.1)\n",
            "Requirement already satisfied: async-timeout<6.0,>=4.0 in /usr/local/lib/python3.10/dist-packages (from aiohttp->datasets==2.14.5) (4.0.3)\n",
            "Requirement already satisfied: attrs>=17.3.0 in /usr/local/lib/python3.10/dist-packages (from aiohttp->datasets==2.14.5) (24.2.0)\n",
            "Requirement already satisfied: frozenlist>=1.1.1 in /usr/local/lib/python3.10/dist-packages (from aiohttp->datasets==2.14.5) (1.5.0)\n",
            "Requirement already satisfied: multidict<7.0,>=4.5 in /usr/local/lib/python3.10/dist-packages (from aiohttp->datasets==2.14.5) (6.1.0)\n",
            "Requirement already satisfied: propcache>=0.2.0 in /usr/local/lib/python3.10/dist-packages (from aiohttp->datasets==2.14.5) (0.2.1)\n",
            "Requirement already satisfied: yarl<2.0,>=1.17.0 in /usr/local/lib/python3.10/dist-packages (from aiohttp->datasets==2.14.5) (1.18.3)\n",
            "Requirement already satisfied: filelock in /usr/local/lib/python3.10/dist-packages (from huggingface-hub<1.0.0,>=0.14.0->datasets==2.14.5) (3.16.1)\n",
            "Requirement already satisfied: typing-extensions>=3.7.4.3 in /usr/local/lib/python3.10/dist-packages (from huggingface-hub<1.0.0,>=0.14.0->datasets==2.14.5) (4.12.2)\n",
            "Requirement already satisfied: charset-normalizer<4,>=2 in /usr/local/lib/python3.10/dist-packages (from requests>=2.19.0->datasets==2.14.5) (3.4.0)\n",
            "Requirement already satisfied: idna<4,>=2.5 in /usr/local/lib/python3.10/dist-packages (from requests>=2.19.0->datasets==2.14.5) (3.10)\n",
            "Requirement already satisfied: urllib3<3,>=1.21.1 in /usr/local/lib/python3.10/dist-packages (from requests>=2.19.0->datasets==2.14.5) (2.2.3)\n",
            "Requirement already satisfied: certifi>=2017.4.17 in /usr/local/lib/python3.10/dist-packages (from requests>=2.19.0->datasets==2.14.5) (2024.8.30)\n",
            "INFO: pip is looking at multiple versions of multiprocess to determine which version is compatible with other requirements. This could take a while.\n",
            "Collecting multiprocess (from datasets==2.14.5)\n",
            "  Downloading multiprocess-0.70.16-py310-none-any.whl.metadata (7.2 kB)\n",
            "  Downloading multiprocess-0.70.15-py310-none-any.whl.metadata (7.2 kB)\n",
            "Requirement already satisfied: python-dateutil>=2.8.2 in /usr/local/lib/python3.10/dist-packages (from pandas->datasets==2.14.5) (2.8.2)\n",
            "Requirement already satisfied: pytz>=2020.1 in /usr/local/lib/python3.10/dist-packages (from pandas->datasets==2.14.5) (2024.2)\n",
            "Requirement already satisfied: tzdata>=2022.7 in /usr/local/lib/python3.10/dist-packages (from pandas->datasets==2.14.5) (2024.2)\n",
            "Requirement already satisfied: six>=1.5 in /usr/local/lib/python3.10/dist-packages (from python-dateutil>=2.8.2->pandas->datasets==2.14.5) (1.17.0)\n",
            "Downloading datasets-2.14.5-py3-none-any.whl (519 kB)\n",
            "\u001b[2K   \u001b[90m━━━━━━━━━━━━━━━━━━━━━━━━━━━━━━━━━━━━━━━━\u001b[0m \u001b[32m519.6/519.6 kB\u001b[0m \u001b[31m4.2 MB/s\u001b[0m eta \u001b[36m0:00:00\u001b[0m\n",
            "\u001b[?25hDownloading dill-0.3.7-py3-none-any.whl (115 kB)\n",
            "\u001b[2K   \u001b[90m━━━━━━━━━━━━━━━━━━━━━━━━━━━━━━━━━━━━━━━━\u001b[0m \u001b[32m115.3/115.3 kB\u001b[0m \u001b[31m871.4 kB/s\u001b[0m eta \u001b[36m0:00:00\u001b[0m\n",
            "\u001b[?25hDownloading fsspec-2023.6.0-py3-none-any.whl (163 kB)\n",
            "\u001b[2K   \u001b[90m━━━━━━━━━━━━━━━━━━━━━━━━━━━━━━━━━━━━━━━━\u001b[0m \u001b[32m163.8/163.8 kB\u001b[0m \u001b[31m10.7 MB/s\u001b[0m eta \u001b[36m0:00:00\u001b[0m\n",
            "\u001b[?25hDownloading multiprocess-0.70.15-py310-none-any.whl (134 kB)\n",
            "\u001b[2K   \u001b[90m━━━━━━━━━━━━━━━━━━━━━━━━━━━━━━━━━━━━━━━━\u001b[0m \u001b[32m134.8/134.8 kB\u001b[0m \u001b[31m12.6 MB/s\u001b[0m eta \u001b[36m0:00:00\u001b[0m\n",
            "\u001b[?25hDownloading xxhash-3.5.0-cp310-cp310-manylinux_2_17_x86_64.manylinux2014_x86_64.whl (194 kB)\n",
            "\u001b[2K   \u001b[90m━━━━━━━━━━━━━━━━━━━━━━━━━━━━━━━━━━━━━━━━\u001b[0m \u001b[32m194.1/194.1 kB\u001b[0m \u001b[31m13.5 MB/s\u001b[0m eta \u001b[36m0:00:00\u001b[0m\n",
            "\u001b[?25hInstalling collected packages: xxhash, fsspec, dill, multiprocess, datasets\n",
            "  Attempting uninstall: fsspec\n",
            "    Found existing installation: fsspec 2024.10.0\n",
            "    Uninstalling fsspec-2024.10.0:\n",
            "      Successfully uninstalled fsspec-2024.10.0\n",
            "\u001b[31mERROR: pip's dependency resolver does not currently take into account all the packages that are installed. This behaviour is the source of the following dependency conflicts.\n",
            "gcsfs 2024.10.0 requires fsspec==2024.10.0, but you have fsspec 2023.6.0 which is incompatible.\u001b[0m\u001b[31m\n",
            "\u001b[0mSuccessfully installed datasets-2.14.5 dill-0.3.7 fsspec-2023.6.0 multiprocess-0.70.15 xxhash-3.5.0\n"
          ]
        }
      ]
    },
    {
      "cell_type": "code",
      "execution_count": 14,
      "metadata": {
        "id": "8L69msstAIag"
      },
      "outputs": [],
      "source": [
        "import torch\n",
        "import pandas as pd\n",
        "from os import path as op\n",
        "import os\n",
        "import numpy as np\n",
        "from collections import Counter\n",
        "import datasets\n",
        "from datasets import load_dataset, load_metric, concatenate_datasets\n",
        "from transformers import AutoTokenizer\n",
        "from transformers import AutoModelForSequenceClassification, TrainingArguments, Trainer\n",
        "import matplotlib.pyplot as plt\n"
      ]
    },
    {
      "cell_type": "markdown",
      "source": [
        "# GPT2:\n",
        "## Working on the ordering by the sentence length\n",
        "\n",
        "Total time of running: +/- 5min\n",
        "\n",
        "![{7F897A14-8DAD-49BD-9813-CB96FB98F3B1}.png](data:image/png;base64,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)\n",
        "![{4E706BDF-1FA8-45F4-B62D-2262BEDA338F}.png](data:image/png;base64,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)"
      ],
      "metadata": {
        "id": "Oi5XMJ_kX8HV"
      }
    },
    {
      "cell_type": "code",
      "source": [
        "# META Variables\n",
        "# it is good to have certain directories for saving model checkpoints (e.g., on google drive)\n",
        "MODEL_DIR = 'model_checkpoints'\n",
        "MODEL_CHECKPOINT = \"gpt2\"\n",
        "BATCH_SIZE = 16\n",
        "tokenizer = AutoTokenizer.from_pretrained(MODEL_CHECKPOINT)\n",
        "metric = load_metric('glue', \"mnli\")\n",
        "tokenizer.pad_token = tokenizer.eos_token"
      ],
      "metadata": {
        "id": "jfeKLZkWfnSh",
        "collapsed": true
      },
      "execution_count": 15,
      "outputs": []
    },
    {
      "cell_type": "code",
      "source": [
        "def add_sentence_length(example):\n",
        "    combined_text = example['premise'] + \" \" + example['hypothesis']\n",
        "    example['sentence_length'] = len(combined_text.split())  # Word count\n",
        "    return example\n",
        "\n",
        "snli_data = load_dataset(\"snli\")\n",
        "print(Counter(snli_data['train']['label']))\n",
        "\n",
        "# SNLI data needs to be cleaned as it contains -1s as a label\n",
        "for k in snli_data:\n",
        "    snli_data[k] = snli_data[k].filter( lambda prob: prob['label'] >= 0 )\n",
        "\n",
        "# https://huggingface.co/transformers/preprocessing.html\n",
        "def preprocess_function(d):\n",
        "    return tokenizer(d['premise'], d['hypothesis'], truncation=True)"
      ],
      "metadata": {
        "colab": {
          "base_uri": "https://localhost:8080/"
        },
        "id": "2Cno2D0Fh8D2",
        "outputId": "884ea25f-1ca3-4c96-e67e-4f5f35490791"
      },
      "execution_count": 27,
      "outputs": [
        {
          "output_type": "stream",
          "name": "stdout",
          "text": [
            "Counter({0: 183416, 2: 183187, 1: 182764, -1: 785})\n",
            "DatasetDict({\n",
            "    test: Dataset({\n",
            "        features: ['premise', 'hypothesis', 'label'],\n",
            "        num_rows: 10000\n",
            "    })\n",
            "    validation: Dataset({\n",
            "        features: ['premise', 'hypothesis', 'label'],\n",
            "        num_rows: 10000\n",
            "    })\n",
            "    train: Dataset({\n",
            "        features: ['premise', 'hypothesis', 'label'],\n",
            "        num_rows: 550152\n",
            "    })\n",
            "})\n"
          ]
        }
      ]
    },
    {
      "cell_type": "code",
      "source": [
        "model = AutoModelForSequenceClassification.from_pretrained(MODEL_CHECKPOINT, num_labels=3)\n",
        "model.config.pad_token_id = model.config.eos_token_id"
      ],
      "metadata": {
        "colab": {
          "base_uri": "https://localhost:8080/"
        },
        "id": "ZkWO2Lazkk92",
        "outputId": "d466a1d5-0108-4401-d435-63d44215d05f"
      },
      "execution_count": 18,
      "outputs": [
        {
          "output_type": "stream",
          "name": "stderr",
          "text": [
            "Some weights of GPT2ForSequenceClassification were not initialized from the model checkpoint at gpt2 and are newly initialized: ['score.weight']\n",
            "You should probably TRAIN this model on a down-stream task to be able to use it for predictions and inference.\n"
          ]
        }
      ]
    },
    {
      "cell_type": "code",
      "source": [
        "snli_data[\"train\"] = snli_data[\"train\"].map(add_sentence_length)\n"
      ],
      "metadata": {
        "id": "rb6h-H4RkqcX"
      },
      "execution_count": 19,
      "outputs": []
    },
    {
      "cell_type": "code",
      "source": [
        "short_sentences = snli_data[\"train\"].filter(lambda x: x['sentence_length'] < 15).shuffle(seed=42).select(range(667))\n",
        "medium_sentences = snli_data[\"train\"].filter(lambda x: 15 <= x['sentence_length'] < 25).shuffle(seed=42).select(range(666))\n",
        "long_sentences = snli_data[\"train\"].filter(lambda x: x['sentence_length'] >= 25).shuffle(seed=42).select(range(667))\n",
        "\n",
        "# Combine sampled rows\n",
        "diverse_sentences = concatenate_datasets([short_sentences, medium_sentences, long_sentences])\n",
        "\n",
        "# Print the result\n",
        "print(diverse_sentences)\n",
        "print(f\"Total rows: {len(diverse_sentences)}\")\n",
        "\n",
        "# Verify sentence length distribution\n",
        "print(\"Sentence Length Distribution:\")\n",
        "print([row.get('sentence_length', None) for row in diverse_sentences])  # Use .get to safely access the key\n"
      ],
      "metadata": {
        "colab": {
          "base_uri": "https://localhost:8080/"
        },
        "id": "60XaCAS_kQIt",
        "outputId": "e7434a14-175b-451f-9d60-e74035c7ffc2"
      },
      "execution_count": 22,
      "outputs": [
        {
          "output_type": "stream",
          "name": "stdout",
          "text": [
            "Dataset({\n",
            "    features: ['premise', 'hypothesis', 'label', 'sentence_length'],\n",
            "    num_rows: 2000\n",
            "})\n",
            "Total rows: 2000\n",
            "Sentence Length Distribution:\n",
            "[10, 13, 12, 13, 13, 14, 11, 11, 9, 12, 12, 14, 14, 14, 13, 12, 13, 14, 13, 12, 13, 11, 10, 13, 11, 13, 14, 12, 12, 10, 11, 9, 14, 9, 10, 13, 11, 11, 14, 11, 13, 11, 12, 14, 10, 14, 13, 13, 14, 13, 13, 9, 14, 13, 13, 12, 14, 13, 11, 14, 14, 9, 11, 14, 13, 10, 12, 13, 12, 14, 14, 14, 12, 12, 11, 11, 10, 13, 11, 10, 14, 11, 13, 10, 12, 12, 12, 13, 12, 11, 14, 11, 13, 13, 14, 14, 12, 14, 12, 12, 14, 14, 13, 12, 13, 14, 14, 10, 13, 13, 14, 8, 14, 8, 12, 13, 11, 12, 14, 14, 13, 14, 12, 10, 10, 12, 13, 12, 11, 10, 14, 14, 14, 14, 14, 13, 10, 12, 9, 13, 14, 14, 14, 13, 13, 14, 14, 13, 11, 10, 12, 14, 12, 10, 12, 10, 14, 10, 13, 12, 11, 12, 12, 12, 13, 14, 11, 13, 9, 14, 14, 13, 14, 14, 12, 12, 13, 11, 13, 13, 14, 11, 14, 14, 13, 13, 13, 14, 12, 14, 13, 12, 10, 12, 11, 14, 14, 14, 14, 14, 14, 14, 11, 12, 13, 11, 13, 13, 13, 14, 13, 13, 11, 14, 13, 14, 13, 12, 14, 13, 12, 12, 14, 12, 13, 11, 14, 14, 12, 12, 14, 13, 10, 13, 14, 12, 14, 12, 13, 10, 12, 14, 12, 14, 13, 14, 12, 14, 12, 12, 11, 8, 14, 13, 11, 9, 14, 13, 14, 14, 14, 8, 10, 12, 13, 13, 12, 12, 13, 14, 13, 14, 10, 9, 13, 9, 12, 12, 14, 13, 14, 14, 10, 11, 11, 14, 14, 14, 14, 11, 12, 14, 14, 14, 12, 14, 14, 12, 14, 14, 12, 11, 14, 14, 14, 13, 14, 13, 14, 11, 11, 12, 14, 13, 14, 13, 12, 13, 13, 13, 13, 14, 13, 13, 13, 14, 12, 11, 14, 14, 10, 14, 14, 14, 12, 11, 14, 13, 11, 11, 11, 10, 10, 13, 14, 10, 14, 12, 11, 13, 12, 13, 13, 14, 13, 14, 14, 14, 11, 13, 14, 7, 11, 14, 11, 14, 10, 13, 12, 13, 12, 13, 14, 13, 13, 13, 13, 13, 12, 12, 14, 13, 14, 10, 11, 14, 14, 13, 9, 12, 14, 14, 12, 10, 13, 12, 13, 10, 9, 11, 14, 11, 13, 14, 14, 13, 12, 12, 12, 13, 14, 13, 14, 14, 13, 13, 14, 11, 14, 14, 11, 11, 9, 14, 13, 14, 12, 12, 10, 11, 14, 13, 12, 14, 14, 12, 12, 14, 12, 10, 14, 14, 13, 12, 6, 13, 10, 10, 14, 13, 10, 10, 10, 10, 14, 14, 13, 14, 11, 10, 14, 13, 10, 14, 14, 14, 14, 14, 12, 13, 13, 14, 10, 13, 12, 12, 10, 12, 13, 12, 14, 10, 11, 14, 12, 11, 14, 14, 11, 13, 12, 12, 14, 14, 14, 12, 10, 14, 12, 11, 10, 13, 11, 13, 12, 12, 14, 11, 14, 9, 13, 12, 14, 14, 11, 14, 13, 14, 14, 12, 13, 14, 12, 11, 11, 12, 10, 13, 11, 14, 14, 14, 14, 9, 13, 14, 12, 8, 10, 14, 14, 10, 11, 14, 9, 11, 13, 9, 14, 11, 13, 13, 13, 14, 8, 10, 13, 14, 12, 11, 12, 11, 13, 10, 12, 14, 10, 11, 13, 13, 13, 9, 13, 11, 10, 13, 13, 14, 13, 12, 12, 13, 11, 10, 14, 7, 14, 14, 14, 12, 14, 12, 14, 13, 12, 13, 12, 12, 12, 12, 14, 11, 14, 13, 14, 14, 13, 12, 11, 14, 13, 10, 12, 11, 13, 12, 14, 11, 14, 14, 10, 11, 13, 13, 11, 11, 13, 11, 9, 8, 13, 14, 11, 12, 11, 12, 11, 12, 11, 7, 11, 11, 13, 13, 13, 14, 10, 14, 10, 11, 9, 9, 11, 12, 11, 13, 14, 12, 13, 13, 14, 13, 14, 11, 13, 12, 14, 19, 21, 22, 21, 23, 19, 20, 22, 16, 20, 16, 18, 22, 17, 20, 21, 19, 24, 18, 24, 16, 18, 16, 18, 15, 20, 19, 18, 18, 20, 18, 17, 18, 19, 19, 22, 22, 17, 15, 16, 18, 22, 16, 18, 16, 19, 15, 16, 17, 20, 20, 18, 21, 19, 21, 15, 22, 16, 17, 16, 24, 17, 15, 16, 16, 24, 18, 15, 17, 23, 21, 16, 21, 16, 19, 17, 16, 18, 18, 23, 23, 17, 16, 23, 17, 17, 17, 19, 21, 15, 18, 16, 15, 16, 20, 15, 17, 17, 18, 17, 19, 17, 15, 20, 21, 17, 15, 16, 19, 18, 16, 21, 17, 18, 20, 21, 15, 18, 18, 15, 24, 20, 15, 15, 17, 16, 22, 20, 15, 17, 17, 17, 16, 19, 15, 15, 18, 21, 17, 22, 24, 21, 21, 20, 16, 21, 18, 23, 19, 17, 17, 20, 16, 21, 23, 19, 23, 21, 15, 15, 15, 18, 16, 15, 20, 22, 18, 20, 16, 21, 24, 16, 24, 20, 19, 23, 23, 24, 16, 20, 15, 16, 23, 15, 19, 17, 16, 20, 22, 21, 23, 21, 15, 18, 17, 18, 17, 21, 22, 21, 20, 16, 17, 17, 18, 15, 15, 18, 20, 23, 17, 16, 19, 24, 22, 16, 20, 18, 18, 16, 19, 16, 18, 18, 22, 20, 19, 18, 18, 21, 15, 17, 16, 18, 16, 16, 24, 24, 22, 22, 17, 20, 20, 23, 24, 17, 19, 18, 15, 22, 16, 16, 18, 19, 17, 15, 24, 16, 18, 20, 17, 20, 15, 21, 24, 20, 21, 20, 16, 19, 18, 15, 23, 18, 19, 19, 16, 20, 23, 24, 16, 22, 24, 21, 15, 18, 24, 15, 22, 20, 15, 24, 20, 18, 18, 20, 18, 21, 19, 21, 18, 18, 17, 19, 24, 15, 24, 15, 20, 16, 18, 20, 18, 18, 19, 20, 19, 21, 18, 16, 19, 20, 15, 22, 23, 24, 19, 23, 20, 21, 24, 20, 17, 22, 20, 19, 22, 16, 17, 17, 20, 20, 18, 17, 24, 24, 20, 15, 20, 24, 23, 16, 15, 21, 19, 19, 22, 15, 17, 16, 17, 22, 21, 18, 21, 22, 17, 22, 24, 21, 24, 20, 17, 16, 20, 15, 17, 17, 19, 17, 19, 18, 15, 17, 17, 19, 22, 15, 18, 22, 18, 20, 15, 18, 20, 21, 22, 19, 19, 17, 23, 24, 24, 17, 21, 18, 20, 22, 23, 20, 21, 20, 19, 15, 15, 20, 19, 20, 15, 20, 24, 18, 24, 24, 15, 21, 23, 17, 23, 17, 19, 18, 18, 22, 17, 16, 15, 15, 22, 16, 21, 15, 15, 24, 15, 16, 19, 21, 20, 24, 18, 17, 23, 22, 17, 19, 19, 17, 24, 20, 19, 17, 19, 20, 23, 16, 19, 15, 24, 19, 22, 16, 20, 22, 18, 16, 22, 19, 22, 18, 19, 16, 20, 22, 18, 16, 17, 22, 24, 21, 15, 21, 23, 17, 22, 23, 17, 18, 19, 17, 15, 16, 19, 19, 21, 20, 15, 21, 19, 20, 18, 19, 15, 15, 20, 24, 15, 20, 20, 20, 15, 20, 16, 17, 16, 18, 18, 19, 20, 22, 19, 18, 22, 17, 19, 19, 20, 17, 22, 19, 23, 17, 15, 21, 16, 22, 23, 21, 24, 16, 19, 24, 23, 23, 19, 21, 15, 19, 19, 15, 19, 15, 20, 16, 16, 20, 20, 18, 15, 19, 15, 19, 21, 22, 16, 19, 20, 19, 21, 24, 17, 18, 20, 15, 16, 20, 24, 18, 16, 20, 20, 18, 17, 18, 15, 17, 15, 15, 19, 15, 17, 22, 16, 22, 19, 19, 18, 16, 21, 18, 23, 17, 16, 23, 18, 23, 16, 18, 23, 21, 21, 23, 22, 15, 22, 15, 18, 17, 20, 16, 15, 21, 15, 16, 15, 16, 21, 16, 20, 24, 19, 20, 17, 20, 18, 20, 22, 17, 18, 16, 21, 19, 21, 15, 18, 24, 19, 24, 15, 21, 23, 20, 21, 20, 22, 22, 25, 32, 35, 26, 26, 32, 25, 29, 26, 31, 25, 29, 31, 26, 34, 28, 33, 38, 26, 32, 52, 33, 26, 28, 36, 34, 32, 30, 26, 27, 28, 29, 28, 52, 26, 34, 31, 27, 32, 26, 30, 26, 26, 28, 31, 28, 26, 39, 34, 38, 39, 29, 30, 27, 25, 32, 42, 30, 34, 31, 42, 31, 29, 32, 34, 27, 38, 29, 30, 34, 26, 32, 25, 29, 26, 25, 36, 27, 45, 27, 27, 41, 40, 26, 29, 28, 32, 47, 34, 26, 26, 41, 30, 32, 40, 40, 38, 27, 32, 26, 27, 26, 29, 29, 30, 29, 27, 28, 33, 39, 28, 28, 26, 29, 25, 28, 27, 40, 27, 26, 27, 26, 25, 32, 26, 29, 28, 29, 30, 28, 25, 40, 28, 60, 32, 32, 25, 40, 33, 26, 28, 32, 29, 34, 31, 38, 27, 25, 26, 27, 32, 27, 36, 45, 44, 25, 30, 25, 25, 27, 28, 41, 26, 33, 26, 27, 38, 33, 27, 57, 26, 30, 28, 33, 37, 30, 40, 31, 32, 29, 26, 33, 26, 25, 25, 35, 31, 41, 25, 26, 34, 33, 26, 29, 31, 29, 29, 28, 31, 31, 36, 31, 28, 25, 44, 27, 39, 25, 29, 29, 25, 25, 27, 37, 36, 38, 35, 26, 31, 31, 29, 30, 26, 26, 28, 27, 27, 29, 27, 25, 38, 29, 34, 26, 29, 25, 28, 32, 36, 33, 37, 25, 27, 31, 30, 32, 26, 30, 26, 37, 27, 30, 25, 26, 29, 27, 39, 28, 28, 26, 47, 25, 25, 26, 36, 26, 26, 27, 29, 25, 39, 26, 25, 27, 25, 35, 32, 29, 39, 31, 26, 25, 25, 25, 29, 30, 28, 26, 26, 33, 33, 26, 28, 26, 32, 33, 26, 25, 26, 31, 61, 38, 25, 31, 31, 30, 28, 36, 27, 32, 42, 26, 28, 28, 32, 27, 34, 49, 29, 26, 36, 28, 27, 29, 32, 25, 26, 34, 33, 28, 32, 25, 27, 42, 28, 27, 34, 26, 25, 49, 33, 26, 26, 25, 27, 35, 33, 32, 51, 27, 31, 25, 27, 33, 25, 28, 31, 29, 25, 31, 26, 25, 27, 28, 31, 28, 37, 25, 28, 42, 27, 29, 27, 35, 31, 29, 29, 37, 34, 31, 28, 34, 32, 30, 25, 26, 30, 25, 52, 26, 30, 48, 36, 25, 30, 26, 28, 30, 29, 27, 32, 25, 34, 25, 27, 33, 27, 25, 25, 27, 38, 37, 91, 26, 37, 33, 42, 29, 26, 28, 28, 31, 38, 35, 28, 29, 29, 25, 32, 25, 25, 28, 27, 30, 26, 25, 25, 30, 27, 25, 32, 29, 32, 27, 28, 28, 28, 28, 25, 32, 25, 25, 32, 26, 27, 30, 29, 26, 30, 25, 32, 32, 27, 26, 26, 32, 41, 32, 30, 31, 32, 35, 27, 26, 27, 40, 34, 32, 27, 34, 28, 36, 34, 26, 38, 32, 39, 26, 28, 43, 28, 27, 38, 26, 32, 27, 31, 31, 44, 25, 37, 30, 39, 25, 33, 28, 36, 28, 33, 27, 32, 30, 25, 27, 30, 26, 26, 31, 26, 39, 26, 32, 31, 25, 30, 26, 26, 33, 26, 25, 42, 35, 33, 27, 26, 28, 44, 28, 26, 28, 31, 31, 27, 27, 31, 31, 26, 35, 30, 36, 29, 28, 29, 30, 25, 25, 25, 40, 54, 30, 32, 29, 25, 25, 26, 26, 30, 28, 27, 46, 29, 34, 25, 32, 46, 28, 28, 30, 27, 27, 29, 25, 29, 28, 41, 28, 28, 30, 25, 28, 45, 39, 38, 26, 29, 25, 27, 25, 29, 28, 36, 26, 25, 25, 30, 30, 38, 25, 30, 26, 36, 27, 29, 36, 28, 29, 38, 25, 29, 33, 26, 34, 29, 31, 27, 36, 27, 26, 25, 28, 40, 25, 32, 60, 41, 35, 30, 27, 27, 26, 36, 41, 25, 37, 37, 29, 27, 28, 37, 28, 26, 28, 32, 28, 25, 28, 26, 29, 35, 32, 31, 25, 32, 29, 26, 26, 50]\n"
          ]
        }
      ]
    },
    {
      "cell_type": "code",
      "source": [
        "encoded_diverse_sentences = diverse_sentences.map(\n",
        "    preprocess_function,\n",
        "    batched=True,                # Tokenize multiple rows in parallel\n",
        "    load_from_cache_file=False   # Ensures preprocessing runs fresh\n",
        ")\n",
        "\n",
        "# Verify tokenization output\n",
        "print(encoded_diverse_sentences[0])"
      ],
      "metadata": {
        "colab": {
          "base_uri": "https://localhost:8080/",
          "height": 86,
          "referenced_widgets": [
            "b35c29cc68314e80a21bd9c94e3ddddb",
            "51261f06fb074579a9b33326a9d6ab90",
            "36ef8bd2c1ba4b4ebc715dcdf57231a7",
            "4bed39db0361470a889ba64108119510",
            "11a55af402ae475ebd158ab11ac0b49c",
            "d53e9481e0904e3aa908435637dd8df4",
            "843b979ef0f24b3a93d52dd29694e082",
            "2d8fec1c451d449080623b54ab752cfe",
            "bef5f1904c8743a393bffed8b86dceaf",
            "d15811befb0c4ba483df21a912a49e8f",
            "c54e516bc50d490c9c0094b9fc88d79e"
          ]
        },
        "id": "p44xEzvcmJVv",
        "outputId": "e491e2c0-a5c1-40ba-a283-a1f960513b5e"
      },
      "execution_count": 26,
      "outputs": [
        {
          "output_type": "display_data",
          "data": {
            "text/plain": [
              "Map:   0%|          | 0/2000 [00:00<?, ? examples/s]"
            ],
            "application/vnd.jupyter.widget-view+json": {
              "version_major": 2,
              "version_minor": 0,
              "model_id": "b35c29cc68314e80a21bd9c94e3ddddb"
            }
          },
          "metadata": {}
        },
        {
          "output_type": "stream",
          "name": "stdout",
          "text": [
            "{'premise': 'Workers dig around a house.', 'hypothesis': 'The workers are planting trees.', 'label': 1, 'sentence_length': 10, 'input_ids': [12468, 364, 3100, 1088, 257, 2156, 13, 464, 3259, 389, 26630, 7150, 13], 'attention_mask': [1, 1, 1, 1, 1, 1, 1, 1, 1, 1, 1, 1, 1]}\n"
          ]
        }
      ]
    },
    {
      "cell_type": "code",
      "source": [
        "\n",
        "# Step 2: Preprocess the sorted data\n",
        "\n",
        "encoded_snli_data = snli_data.map(preprocess_function, batched=True, load_from_cache_file=True)\n",
        "\n",
        "def compute_metrics(eval_pred):\n",
        "    predictions, labels = eval_pred\n",
        "    predictions = np.argmax(predictions, axis=1)\n",
        "    return metric.compute(predictions=predictions, references=labels)\n",
        "\n",
        "args = TrainingArguments(\n",
        "    output_dir=MODEL_DIR,\n",
        "    evaluation_strategy=\"steps\",\n",
        "    eval_steps=200,\n",
        "    save_steps=200,\n",
        "    logging_steps=100,\n",
        "    per_device_train_batch_size=4,\n",
        "    per_device_eval_batch_size=4,\n",
        "    learning_rate=5e-5,\n",
        "    num_train_epochs=3,\n",
        "    weight_decay=0.01,\n",
        "    warmup_steps=200,\n",
        "    save_total_limit=2,\n",
        "    load_best_model_at_end=True,\n",
        "    metric_for_best_model=\"accuracy\",\n",
        "    greater_is_better=True,\n",
        "    logging_dir=\"./logs\",\n",
        ")"
      ],
      "metadata": {
        "colab": {
          "base_uri": "https://localhost:8080/",
          "height": 168,
          "referenced_widgets": [
            "71d8bc41b84c4d89b385d2aa850607b8",
            "bbd59c6b25ee4ed698b31ca741b47426",
            "16073a99eeaa41c5a1f1143ae7b7a74f",
            "f556be92b1bf43489ccd5f38c4dd0c4e",
            "74079c460ffd402b965879c5608ce144",
            "76755102617647dd913f7793cf446396",
            "9242e57b5a684241af10fde6fabbfc3e",
            "891db1c8edce4af8b772e0eb9a5859f9",
            "eaa576ddb2b7428db7fd0b68c38a3777",
            "10f256f23ee04f34b50ba33f95f14dd6",
            "3c33ca637d0545ec8b2973ad0c8ea229",
            "e395d526182948b8b8ec615277819150",
            "f5b73dfd5ba045bf81b9914af2a8cd1c",
            "00c5a257728b4ecba6c7e7eb09633664",
            "57c93ee53195444ba1d64e6e5ce23f70",
            "ec5a4e868d9744b7b184c7f293a8de7e",
            "6d887ce04a394e79aa4111cc93d79dc2",
            "ccbb6c65c7844dd894aa01ac1fbcea96",
            "0146d342486c476292b16040fc2203dc",
            "f94a38099f9449b68a6ffe1936f18077",
            "e71a78795dcd4aab967e09b0311f07c6",
            "865dc7194d274f1d9a4f2afc0be20604",
            "5253133e5ae141d68bec0159861378d5",
            "577b4ab311f341d9ab7ea6d93084d552",
            "ac08291757814952aa2a9a52bdcc41e0",
            "5e367877548645a0b36628258f7dab3e",
            "d78e6972bf5a4385aa412f1d5b802459",
            "49b7f8e4ad9942fcaf1b90285b34bfdd",
            "1dec5518e11e425da21434155fffeb36",
            "6bd28299a00340cd8f7681d97726e932",
            "0a034f4c84c94ab1b33d7ca263ee808f",
            "cf8627e6be4c4487a5bed265831d1334",
            "165f45e184a1406ba0bdd3580d2f87b0"
          ]
        },
        "id": "KEQDPgVniBj5",
        "outputId": "8091c49d-2c00-4125-8ab6-30b7bc513370"
      },
      "execution_count": 28,
      "outputs": [
        {
          "output_type": "display_data",
          "data": {
            "text/plain": [
              "Map:   0%|          | 0/9824 [00:00<?, ? examples/s]"
            ],
            "application/vnd.jupyter.widget-view+json": {
              "version_major": 2,
              "version_minor": 0,
              "model_id": "71d8bc41b84c4d89b385d2aa850607b8"
            }
          },
          "metadata": {}
        },
        {
          "output_type": "display_data",
          "data": {
            "text/plain": [
              "Map:   0%|          | 0/9842 [00:00<?, ? examples/s]"
            ],
            "application/vnd.jupyter.widget-view+json": {
              "version_major": 2,
              "version_minor": 0,
              "model_id": "e395d526182948b8b8ec615277819150"
            }
          },
          "metadata": {}
        },
        {
          "output_type": "display_data",
          "data": {
            "text/plain": [
              "Map:   0%|          | 0/549367 [00:00<?, ? examples/s]"
            ],
            "application/vnd.jupyter.widget-view+json": {
              "version_major": 2,
              "version_minor": 0,
              "model_id": "5253133e5ae141d68bec0159861378d5"
            }
          },
          "metadata": {}
        },
        {
          "output_type": "stream",
          "name": "stderr",
          "text": [
            "/usr/local/lib/python3.10/dist-packages/transformers/training_args.py:1568: FutureWarning: `evaluation_strategy` is deprecated and will be removed in version 4.46 of 🤗 Transformers. Use `eval_strategy` instead\n",
            "  warnings.warn(\n"
          ]
        }
      ]
    },
    {
      "cell_type": "code",
      "source": [
        "print(encoded_snli_data['train'][0])"
      ],
      "metadata": {
        "colab": {
          "base_uri": "https://localhost:8080/"
        },
        "id": "WC2HyapgmqpK",
        "outputId": "1a67f3be-3298-475e-fe15-42fb84689ad4"
      },
      "execution_count": 30,
      "outputs": [
        {
          "output_type": "stream",
          "name": "stdout",
          "text": [
            "{'premise': 'A person on a horse jumps over a broken down airplane.', 'hypothesis': 'A person is training his horse for a competition.', 'label': 1, 'input_ids': [32, 1048, 319, 257, 8223, 18045, 625, 257, 5445, 866, 19401, 13, 32, 1048, 318, 3047, 465, 8223, 329, 257, 5449, 13], 'attention_mask': [1, 1, 1, 1, 1, 1, 1, 1, 1, 1, 1, 1, 1, 1, 1, 1, 1, 1, 1, 1, 1, 1]}\n"
          ]
        }
      ]
    },
    {
      "cell_type": "code",
      "source": [
        "train_df = pd.DataFrame(snli_data[\"train\"])\n",
        "\n",
        "# Plot a histogram of sentence lengths\n",
        "plt.figure(figsize=(8, 5))\n",
        "plt.hist(train_df['sentence_length'], bins=30, edgecolor='black')\n",
        "plt.title(\"Distribution of Sentence Lengths\")\n",
        "plt.xlabel(\"Sentence Length (Word Count)\")\n",
        "plt.ylabel(\"Frequency\")\n",
        "plt.show()\n",
        "\n",
        "# Basic statistics about sentence lengths\n",
        "print(train_df['sentence_length'].describe())"
      ],
      "metadata": {
        "colab": {
          "base_uri": "https://localhost:8080/",
          "height": 356
        },
        "id": "dItnN72siRAs",
        "outputId": "ef00a4ec-5735-4868-bb9f-1070cd8aebb6"
      },
      "execution_count": 24,
      "outputs": [
        {
          "output_type": "error",
          "ename": "KeyboardInterrupt",
          "evalue": "",
          "traceback": [
            "\u001b[0;31m---------------------------------------------------------------------------\u001b[0m",
            "\u001b[0;31mKeyboardInterrupt\u001b[0m                         Traceback (most recent call last)",
            "\u001b[0;32m<ipython-input-24-13700c46dc04>\u001b[0m in \u001b[0;36m<cell line: 1>\u001b[0;34m()\u001b[0m\n\u001b[0;32m----> 1\u001b[0;31m \u001b[0mtrain_df\u001b[0m \u001b[0;34m=\u001b[0m \u001b[0mpd\u001b[0m\u001b[0;34m.\u001b[0m\u001b[0mDataFrame\u001b[0m\u001b[0;34m(\u001b[0m\u001b[0msnli_data\u001b[0m\u001b[0;34m[\u001b[0m\u001b[0;34m\"train\"\u001b[0m\u001b[0;34m]\u001b[0m\u001b[0;34m)\u001b[0m\u001b[0;34m\u001b[0m\u001b[0;34m\u001b[0m\u001b[0m\n\u001b[0m\u001b[1;32m      2\u001b[0m \u001b[0;34m\u001b[0m\u001b[0m\n\u001b[1;32m      3\u001b[0m \u001b[0;31m# Plot a histogram of sentence lengths\u001b[0m\u001b[0;34m\u001b[0m\u001b[0;34m\u001b[0m\u001b[0m\n\u001b[1;32m      4\u001b[0m \u001b[0mplt\u001b[0m\u001b[0;34m.\u001b[0m\u001b[0mfigure\u001b[0m\u001b[0;34m(\u001b[0m\u001b[0mfigsize\u001b[0m\u001b[0;34m=\u001b[0m\u001b[0;34m(\u001b[0m\u001b[0;36m8\u001b[0m\u001b[0;34m,\u001b[0m \u001b[0;36m5\u001b[0m\u001b[0;34m)\u001b[0m\u001b[0;34m)\u001b[0m\u001b[0;34m\u001b[0m\u001b[0;34m\u001b[0m\u001b[0m\n\u001b[1;32m      5\u001b[0m \u001b[0mplt\u001b[0m\u001b[0;34m.\u001b[0m\u001b[0mhist\u001b[0m\u001b[0;34m(\u001b[0m\u001b[0mtrain_df\u001b[0m\u001b[0;34m[\u001b[0m\u001b[0;34m'sentence_length'\u001b[0m\u001b[0;34m]\u001b[0m\u001b[0;34m,\u001b[0m \u001b[0mbins\u001b[0m\u001b[0;34m=\u001b[0m\u001b[0;36m30\u001b[0m\u001b[0;34m,\u001b[0m \u001b[0medgecolor\u001b[0m\u001b[0;34m=\u001b[0m\u001b[0;34m'black'\u001b[0m\u001b[0;34m)\u001b[0m\u001b[0;34m\u001b[0m\u001b[0;34m\u001b[0m\u001b[0m\n",
            "\u001b[0;32m/usr/local/lib/python3.10/dist-packages/pandas/core/frame.py\u001b[0m in \u001b[0;36m__init__\u001b[0;34m(self, data, index, columns, dtype, copy)\u001b[0m\n\u001b[1;32m    841\u001b[0m                     \u001b[0mdata\u001b[0m \u001b[0;34m=\u001b[0m \u001b[0mnp\u001b[0m\u001b[0;34m.\u001b[0m\u001b[0masarray\u001b[0m\u001b[0;34m(\u001b[0m\u001b[0mdata\u001b[0m\u001b[0;34m)\u001b[0m\u001b[0;34m\u001b[0m\u001b[0;34m\u001b[0m\u001b[0m\n\u001b[1;32m    842\u001b[0m                 \u001b[0;32melse\u001b[0m\u001b[0;34m:\u001b[0m\u001b[0;34m\u001b[0m\u001b[0;34m\u001b[0m\u001b[0m\n\u001b[0;32m--> 843\u001b[0;31m                     \u001b[0mdata\u001b[0m \u001b[0;34m=\u001b[0m \u001b[0mlist\u001b[0m\u001b[0;34m(\u001b[0m\u001b[0mdata\u001b[0m\u001b[0;34m)\u001b[0m\u001b[0;34m\u001b[0m\u001b[0;34m\u001b[0m\u001b[0m\n\u001b[0m\u001b[1;32m    844\u001b[0m             \u001b[0;32mif\u001b[0m \u001b[0mlen\u001b[0m\u001b[0;34m(\u001b[0m\u001b[0mdata\u001b[0m\u001b[0;34m)\u001b[0m \u001b[0;34m>\u001b[0m \u001b[0;36m0\u001b[0m\u001b[0;34m:\u001b[0m\u001b[0;34m\u001b[0m\u001b[0;34m\u001b[0m\u001b[0m\n\u001b[1;32m    845\u001b[0m                 \u001b[0;32mif\u001b[0m \u001b[0mis_dataclass\u001b[0m\u001b[0;34m(\u001b[0m\u001b[0mdata\u001b[0m\u001b[0;34m[\u001b[0m\u001b[0;36m0\u001b[0m\u001b[0;34m]\u001b[0m\u001b[0;34m)\u001b[0m\u001b[0;34m:\u001b[0m\u001b[0;34m\u001b[0m\u001b[0;34m\u001b[0m\u001b[0m\n",
            "\u001b[0;32m/usr/local/lib/python3.10/dist-packages/datasets/arrow_dataset.py\u001b[0m in \u001b[0;36m__iter__\u001b[0;34m(self)\u001b[0m\n\u001b[1;32m   2382\u001b[0m                 \u001b[0;32mfor\u001b[0m \u001b[0mi\u001b[0m \u001b[0;32min\u001b[0m \u001b[0mrange\u001b[0m\u001b[0;34m(\u001b[0m\u001b[0mpa_subtable\u001b[0m\u001b[0;34m.\u001b[0m\u001b[0mnum_rows\u001b[0m\u001b[0;34m)\u001b[0m\u001b[0;34m:\u001b[0m\u001b[0;34m\u001b[0m\u001b[0;34m\u001b[0m\u001b[0m\n\u001b[1;32m   2383\u001b[0m                     \u001b[0mpa_subtable_ex\u001b[0m \u001b[0;34m=\u001b[0m \u001b[0mpa_subtable\u001b[0m\u001b[0;34m.\u001b[0m\u001b[0mslice\u001b[0m\u001b[0;34m(\u001b[0m\u001b[0mi\u001b[0m\u001b[0;34m,\u001b[0m \u001b[0;36m1\u001b[0m\u001b[0;34m)\u001b[0m\u001b[0;34m\u001b[0m\u001b[0;34m\u001b[0m\u001b[0m\n\u001b[0;32m-> 2384\u001b[0;31m                     formatted_output = format_table(\n\u001b[0m\u001b[1;32m   2385\u001b[0m                         \u001b[0mpa_subtable_ex\u001b[0m\u001b[0;34m,\u001b[0m\u001b[0;34m\u001b[0m\u001b[0;34m\u001b[0m\u001b[0m\n\u001b[1;32m   2386\u001b[0m                         \u001b[0;36m0\u001b[0m\u001b[0;34m,\u001b[0m\u001b[0;34m\u001b[0m\u001b[0;34m\u001b[0m\u001b[0m\n",
            "\u001b[0;32m/usr/local/lib/python3.10/dist-packages/datasets/formatting/formatting.py\u001b[0m in \u001b[0;36mformat_table\u001b[0;34m(table, key, formatter, format_columns, output_all_columns)\u001b[0m\n\u001b[1;32m    627\u001b[0m     \u001b[0mpython_formatter\u001b[0m \u001b[0;34m=\u001b[0m \u001b[0mPythonFormatter\u001b[0m\u001b[0;34m(\u001b[0m\u001b[0mfeatures\u001b[0m\u001b[0;34m=\u001b[0m\u001b[0;32mNone\u001b[0m\u001b[0;34m)\u001b[0m\u001b[0;34m\u001b[0m\u001b[0;34m\u001b[0m\u001b[0m\n\u001b[1;32m    628\u001b[0m     \u001b[0;32mif\u001b[0m \u001b[0mformat_columns\u001b[0m \u001b[0;32mis\u001b[0m \u001b[0;32mNone\u001b[0m\u001b[0;34m:\u001b[0m\u001b[0;34m\u001b[0m\u001b[0;34m\u001b[0m\u001b[0m\n\u001b[0;32m--> 629\u001b[0;31m         \u001b[0;32mreturn\u001b[0m \u001b[0mformatter\u001b[0m\u001b[0;34m(\u001b[0m\u001b[0mpa_table\u001b[0m\u001b[0;34m,\u001b[0m \u001b[0mquery_type\u001b[0m\u001b[0;34m=\u001b[0m\u001b[0mquery_type\u001b[0m\u001b[0;34m)\u001b[0m\u001b[0;34m\u001b[0m\u001b[0;34m\u001b[0m\u001b[0m\n\u001b[0m\u001b[1;32m    630\u001b[0m     \u001b[0;32melif\u001b[0m \u001b[0mquery_type\u001b[0m \u001b[0;34m==\u001b[0m \u001b[0;34m\"column\"\u001b[0m\u001b[0;34m:\u001b[0m\u001b[0;34m\u001b[0m\u001b[0;34m\u001b[0m\u001b[0m\n\u001b[1;32m    631\u001b[0m         \u001b[0;32mif\u001b[0m \u001b[0mkey\u001b[0m \u001b[0;32min\u001b[0m \u001b[0mformat_columns\u001b[0m\u001b[0;34m:\u001b[0m\u001b[0;34m\u001b[0m\u001b[0;34m\u001b[0m\u001b[0m\n",
            "\u001b[0;32m/usr/local/lib/python3.10/dist-packages/datasets/formatting/formatting.py\u001b[0m in \u001b[0;36m__call__\u001b[0;34m(self, pa_table, query_type)\u001b[0m\n\u001b[1;32m    394\u001b[0m     \u001b[0;32mdef\u001b[0m \u001b[0m__call__\u001b[0m\u001b[0;34m(\u001b[0m\u001b[0mself\u001b[0m\u001b[0;34m,\u001b[0m \u001b[0mpa_table\u001b[0m\u001b[0;34m:\u001b[0m \u001b[0mpa\u001b[0m\u001b[0;34m.\u001b[0m\u001b[0mTable\u001b[0m\u001b[0;34m,\u001b[0m \u001b[0mquery_type\u001b[0m\u001b[0;34m:\u001b[0m \u001b[0mstr\u001b[0m\u001b[0;34m)\u001b[0m \u001b[0;34m->\u001b[0m \u001b[0mUnion\u001b[0m\u001b[0;34m[\u001b[0m\u001b[0mRowFormat\u001b[0m\u001b[0;34m,\u001b[0m \u001b[0mColumnFormat\u001b[0m\u001b[0;34m,\u001b[0m \u001b[0mBatchFormat\u001b[0m\u001b[0;34m]\u001b[0m\u001b[0;34m:\u001b[0m\u001b[0;34m\u001b[0m\u001b[0;34m\u001b[0m\u001b[0m\n\u001b[1;32m    395\u001b[0m         \u001b[0;32mif\u001b[0m \u001b[0mquery_type\u001b[0m \u001b[0;34m==\u001b[0m \u001b[0;34m\"row\"\u001b[0m\u001b[0;34m:\u001b[0m\u001b[0;34m\u001b[0m\u001b[0;34m\u001b[0m\u001b[0m\n\u001b[0;32m--> 396\u001b[0;31m             \u001b[0;32mreturn\u001b[0m \u001b[0mself\u001b[0m\u001b[0;34m.\u001b[0m\u001b[0mformat_row\u001b[0m\u001b[0;34m(\u001b[0m\u001b[0mpa_table\u001b[0m\u001b[0;34m)\u001b[0m\u001b[0;34m\u001b[0m\u001b[0;34m\u001b[0m\u001b[0m\n\u001b[0m\u001b[1;32m    397\u001b[0m         \u001b[0;32melif\u001b[0m \u001b[0mquery_type\u001b[0m \u001b[0;34m==\u001b[0m \u001b[0;34m\"column\"\u001b[0m\u001b[0;34m:\u001b[0m\u001b[0;34m\u001b[0m\u001b[0;34m\u001b[0m\u001b[0m\n\u001b[1;32m    398\u001b[0m             \u001b[0;32mreturn\u001b[0m \u001b[0mself\u001b[0m\u001b[0;34m.\u001b[0m\u001b[0mformat_column\u001b[0m\u001b[0;34m(\u001b[0m\u001b[0mpa_table\u001b[0m\u001b[0;34m)\u001b[0m\u001b[0;34m\u001b[0m\u001b[0;34m\u001b[0m\u001b[0m\n",
            "\u001b[0;32m/usr/local/lib/python3.10/dist-packages/datasets/formatting/formatting.py\u001b[0m in \u001b[0;36mformat_row\u001b[0;34m(self, pa_table)\u001b[0m\n\u001b[1;32m    435\u001b[0m             \u001b[0;32mreturn\u001b[0m \u001b[0mLazyRow\u001b[0m\u001b[0;34m(\u001b[0m\u001b[0mpa_table\u001b[0m\u001b[0;34m,\u001b[0m \u001b[0mself\u001b[0m\u001b[0;34m)\u001b[0m\u001b[0;34m\u001b[0m\u001b[0;34m\u001b[0m\u001b[0m\n\u001b[1;32m    436\u001b[0m         \u001b[0mrow\u001b[0m \u001b[0;34m=\u001b[0m \u001b[0mself\u001b[0m\u001b[0;34m.\u001b[0m\u001b[0mpython_arrow_extractor\u001b[0m\u001b[0;34m(\u001b[0m\u001b[0;34m)\u001b[0m\u001b[0;34m.\u001b[0m\u001b[0mextract_row\u001b[0m\u001b[0;34m(\u001b[0m\u001b[0mpa_table\u001b[0m\u001b[0;34m)\u001b[0m\u001b[0;34m\u001b[0m\u001b[0;34m\u001b[0m\u001b[0m\n\u001b[0;32m--> 437\u001b[0;31m         \u001b[0mrow\u001b[0m \u001b[0;34m=\u001b[0m \u001b[0mself\u001b[0m\u001b[0;34m.\u001b[0m\u001b[0mpython_features_decoder\u001b[0m\u001b[0;34m.\u001b[0m\u001b[0mdecode_row\u001b[0m\u001b[0;34m(\u001b[0m\u001b[0mrow\u001b[0m\u001b[0;34m)\u001b[0m\u001b[0;34m\u001b[0m\u001b[0;34m\u001b[0m\u001b[0m\n\u001b[0m\u001b[1;32m    438\u001b[0m         \u001b[0;32mreturn\u001b[0m \u001b[0mrow\u001b[0m\u001b[0;34m\u001b[0m\u001b[0;34m\u001b[0m\u001b[0m\n\u001b[1;32m    439\u001b[0m \u001b[0;34m\u001b[0m\u001b[0m\n",
            "\u001b[0;32m/usr/local/lib/python3.10/dist-packages/datasets/formatting/formatting.py\u001b[0m in \u001b[0;36mdecode_row\u001b[0;34m(self, row)\u001b[0m\n\u001b[1;32m    213\u001b[0m \u001b[0;34m\u001b[0m\u001b[0m\n\u001b[1;32m    214\u001b[0m     \u001b[0;32mdef\u001b[0m \u001b[0mdecode_row\u001b[0m\u001b[0;34m(\u001b[0m\u001b[0mself\u001b[0m\u001b[0;34m,\u001b[0m \u001b[0mrow\u001b[0m\u001b[0;34m:\u001b[0m \u001b[0mdict\u001b[0m\u001b[0;34m)\u001b[0m \u001b[0;34m->\u001b[0m \u001b[0mdict\u001b[0m\u001b[0;34m:\u001b[0m\u001b[0;34m\u001b[0m\u001b[0;34m\u001b[0m\u001b[0m\n\u001b[0;32m--> 215\u001b[0;31m         \u001b[0;32mreturn\u001b[0m \u001b[0mself\u001b[0m\u001b[0;34m.\u001b[0m\u001b[0mfeatures\u001b[0m\u001b[0;34m.\u001b[0m\u001b[0mdecode_example\u001b[0m\u001b[0;34m(\u001b[0m\u001b[0mrow\u001b[0m\u001b[0;34m)\u001b[0m \u001b[0;32mif\u001b[0m \u001b[0mself\u001b[0m\u001b[0;34m.\u001b[0m\u001b[0mfeatures\u001b[0m \u001b[0;32melse\u001b[0m \u001b[0mrow\u001b[0m\u001b[0;34m\u001b[0m\u001b[0;34m\u001b[0m\u001b[0m\n\u001b[0m\u001b[1;32m    216\u001b[0m \u001b[0;34m\u001b[0m\u001b[0m\n\u001b[1;32m    217\u001b[0m     \u001b[0;32mdef\u001b[0m \u001b[0mdecode_column\u001b[0m\u001b[0;34m(\u001b[0m\u001b[0mself\u001b[0m\u001b[0;34m,\u001b[0m \u001b[0mcolumn\u001b[0m\u001b[0;34m:\u001b[0m \u001b[0mlist\u001b[0m\u001b[0;34m,\u001b[0m \u001b[0mcolumn_name\u001b[0m\u001b[0;34m:\u001b[0m \u001b[0mstr\u001b[0m\u001b[0;34m)\u001b[0m \u001b[0;34m->\u001b[0m \u001b[0mlist\u001b[0m\u001b[0;34m:\u001b[0m\u001b[0;34m\u001b[0m\u001b[0;34m\u001b[0m\u001b[0m\n",
            "\u001b[0;32m/usr/local/lib/python3.10/dist-packages/datasets/features/features.py\u001b[0m in \u001b[0;36mdecode_example\u001b[0;34m(self, example, token_per_repo_id)\u001b[0m\n\u001b[1;32m   1901\u001b[0m         \"\"\"\n\u001b[1;32m   1902\u001b[0m \u001b[0;34m\u001b[0m\u001b[0m\n\u001b[0;32m-> 1903\u001b[0;31m         return {\n\u001b[0m\u001b[1;32m   1904\u001b[0m             \u001b[0mcolumn_name\u001b[0m\u001b[0;34m:\u001b[0m \u001b[0mdecode_nested_example\u001b[0m\u001b[0;34m(\u001b[0m\u001b[0mfeature\u001b[0m\u001b[0;34m,\u001b[0m \u001b[0mvalue\u001b[0m\u001b[0;34m,\u001b[0m \u001b[0mtoken_per_repo_id\u001b[0m\u001b[0;34m=\u001b[0m\u001b[0mtoken_per_repo_id\u001b[0m\u001b[0;34m)\u001b[0m\u001b[0;34m\u001b[0m\u001b[0;34m\u001b[0m\u001b[0m\n\u001b[1;32m   1905\u001b[0m             \u001b[0;32mif\u001b[0m \u001b[0mself\u001b[0m\u001b[0;34m.\u001b[0m\u001b[0m_column_requires_decoding\u001b[0m\u001b[0;34m[\u001b[0m\u001b[0mcolumn_name\u001b[0m\u001b[0;34m]\u001b[0m\u001b[0;34m\u001b[0m\u001b[0;34m\u001b[0m\u001b[0m\n",
            "\u001b[0;32m/usr/local/lib/python3.10/dist-packages/datasets/features/features.py\u001b[0m in \u001b[0;36m<dictcomp>\u001b[0;34m(.0)\u001b[0m\n\u001b[1;32m   1902\u001b[0m \u001b[0;34m\u001b[0m\u001b[0m\n\u001b[1;32m   1903\u001b[0m         return {\n\u001b[0;32m-> 1904\u001b[0;31m             \u001b[0mcolumn_name\u001b[0m\u001b[0;34m:\u001b[0m \u001b[0mdecode_nested_example\u001b[0m\u001b[0;34m(\u001b[0m\u001b[0mfeature\u001b[0m\u001b[0;34m,\u001b[0m \u001b[0mvalue\u001b[0m\u001b[0;34m,\u001b[0m \u001b[0mtoken_per_repo_id\u001b[0m\u001b[0;34m=\u001b[0m\u001b[0mtoken_per_repo_id\u001b[0m\u001b[0;34m)\u001b[0m\u001b[0;34m\u001b[0m\u001b[0;34m\u001b[0m\u001b[0m\n\u001b[0m\u001b[1;32m   1905\u001b[0m             \u001b[0;32mif\u001b[0m \u001b[0mself\u001b[0m\u001b[0;34m.\u001b[0m\u001b[0m_column_requires_decoding\u001b[0m\u001b[0;34m[\u001b[0m\u001b[0mcolumn_name\u001b[0m\u001b[0;34m]\u001b[0m\u001b[0;34m\u001b[0m\u001b[0;34m\u001b[0m\u001b[0m\n\u001b[1;32m   1906\u001b[0m             \u001b[0;32melse\u001b[0m \u001b[0mvalue\u001b[0m\u001b[0;34m\u001b[0m\u001b[0;34m\u001b[0m\u001b[0m\n",
            "\u001b[0;31mKeyboardInterrupt\u001b[0m: "
          ]
        }
      ]
    },
    {
      "cell_type": "code",
      "source": [
        "trainer = Trainer(\n",
        "    model,\n",
        "    args,\n",
        "    train_dataset=encoded_diverse_sentences,\n",
        "    eval_dataset=encoded_snli_data[\"validation\"],\n",
        "    # You could use \"test\" here but it will be cheating then\n",
        "    # to select the model checkpoint which gets highest score on test\n",
        "    tokenizer=tokenizer,\n",
        "    compute_metrics=compute_metrics\n",
        ")\n",
        "\n",
        "trainer.train()"
      ],
      "metadata": {
        "colab": {
          "base_uri": "https://localhost:8080/",
          "height": 401
        },
        "id": "qN6-D_JGZFXS",
        "outputId": "ee5771e8-1f03-4770-9491-59094e017cf7"
      },
      "execution_count": 32,
      "outputs": [
        {
          "output_type": "stream",
          "name": "stderr",
          "text": [
            "<ipython-input-32-426f16effd4a>:1: FutureWarning: `tokenizer` is deprecated and will be removed in version 5.0.0 for `Trainer.__init__`. Use `processing_class` instead.\n",
            "  trainer = Trainer(\n"
          ]
        },
        {
          "output_type": "display_data",
          "data": {
            "text/plain": [
              "<IPython.core.display.HTML object>"
            ],
            "text/html": [
              "\n",
              "    <div>\n",
              "      \n",
              "      <progress value='1500' max='1500' style='width:300px; height:20px; vertical-align: middle;'></progress>\n",
              "      [1500/1500 08:19, Epoch 3/3]\n",
              "    </div>\n",
              "    <table border=\"1\" class=\"dataframe\">\n",
              "  <thead>\n",
              " <tr style=\"text-align: left;\">\n",
              "      <th>Step</th>\n",
              "      <th>Training Loss</th>\n",
              "      <th>Validation Loss</th>\n",
              "      <th>Accuracy</th>\n",
              "    </tr>\n",
              "  </thead>\n",
              "  <tbody>\n",
              "    <tr>\n",
              "      <td>200</td>\n",
              "      <td>1.077400</td>\n",
              "      <td>0.998353</td>\n",
              "      <td>0.526519</td>\n",
              "    </tr>\n",
              "    <tr>\n",
              "      <td>400</td>\n",
              "      <td>0.948700</td>\n",
              "      <td>0.794433</td>\n",
              "      <td>0.650884</td>\n",
              "    </tr>\n",
              "    <tr>\n",
              "      <td>600</td>\n",
              "      <td>0.788200</td>\n",
              "      <td>0.870786</td>\n",
              "      <td>0.674253</td>\n",
              "    </tr>\n",
              "    <tr>\n",
              "      <td>800</td>\n",
              "      <td>0.624900</td>\n",
              "      <td>0.889642</td>\n",
              "      <td>0.702296</td>\n",
              "    </tr>\n",
              "    <tr>\n",
              "      <td>1000</td>\n",
              "      <td>0.743000</td>\n",
              "      <td>0.719121</td>\n",
              "      <td>0.716216</td>\n",
              "    </tr>\n",
              "    <tr>\n",
              "      <td>1200</td>\n",
              "      <td>0.519600</td>\n",
              "      <td>1.194273</td>\n",
              "      <td>0.737858</td>\n",
              "    </tr>\n",
              "    <tr>\n",
              "      <td>1400</td>\n",
              "      <td>0.605600</td>\n",
              "      <td>1.149548</td>\n",
              "      <td>0.744259</td>\n",
              "    </tr>\n",
              "  </tbody>\n",
              "</table><p>"
            ]
          },
          "metadata": {}
        },
        {
          "output_type": "execute_result",
          "data": {
            "text/plain": [
              "TrainOutput(global_step=1500, training_loss=0.7696232096354166, metrics={'train_runtime': 499.3651, 'train_samples_per_second': 12.015, 'train_steps_per_second': 3.004, 'total_flos': 104787067262976.0, 'train_loss': 0.7696232096354166, 'epoch': 3.0})"
            ]
          },
          "metadata": {},
          "execution_count": 32
        }
      ]
    },
    {
      "cell_type": "code",
      "source": [
        "# evaluation of a particular model\n",
        "\n",
        "# if you want to load a model from a checkpoint for evaluation\n",
        "# ft_model = AutoModelForSequenceClassification.from_pretrained(op.join(MODEL_DIR, 'checkpoint-5000'))\n",
        "\n",
        "trainer_eval = Trainer(\n",
        "    trainer.model, # model that you want to evaluate, In this case this is the best model based on the fine-tuning\n",
        "    args,\n",
        "    train_dataset=encoded_diverse_sentences,\n",
        "    eval_dataset=encoded_snli_data[\"test\"], # you want to evaluate on test\n",
        "    tokenizer=tokenizer,\n",
        "    compute_metrics=compute_metrics\n",
        ")\n",
        "\n",
        "trainer_eval.evaluate()"
      ],
      "metadata": {
        "colab": {
          "base_uri": "https://localhost:8080/",
          "height": 196
        },
        "id": "jlUejAWmGQ0i",
        "outputId": "0f11204d-3b72-4bd1-c580-3b47a9ef1320"
      },
      "execution_count": 33,
      "outputs": [
        {
          "output_type": "stream",
          "name": "stderr",
          "text": [
            "<ipython-input-33-f176052f2637>:6: FutureWarning: `tokenizer` is deprecated and will be removed in version 5.0.0 for `Trainer.__init__`. Use `processing_class` instead.\n",
            "  trainer_eval = Trainer(\n"
          ]
        },
        {
          "output_type": "display_data",
          "data": {
            "text/plain": [
              "<IPython.core.display.HTML object>"
            ],
            "text/html": [
              "\n",
              "    <div>\n",
              "      \n",
              "      <progress value='2456' max='2456' style='width:300px; height:20px; vertical-align: middle;'></progress>\n",
              "      [2456/2456 00:32]\n",
              "    </div>\n",
              "    "
            ]
          },
          "metadata": {}
        },
        {
          "output_type": "execute_result",
          "data": {
            "text/plain": [
              "{'eval_loss': 1.1369422674179077,\n",
              " 'eval_model_preparation_time': 0.0031,\n",
              " 'eval_accuracy': 0.7505089576547231,\n",
              " 'eval_runtime': 32.7217,\n",
              " 'eval_samples_per_second': 300.229,\n",
              " 'eval_steps_per_second': 75.057}"
            ]
          },
          "metadata": {},
          "execution_count": 33
        }
      ]
    }
  ]
}