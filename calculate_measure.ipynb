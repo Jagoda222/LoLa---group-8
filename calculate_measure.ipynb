{
  "nbformat": 4,
  "nbformat_minor": 0,
  "metadata": {
    "colab": {
      "provenance": [],
      "gpuType": "T4",
      "authorship_tag": "ABX9TyNxT+8oBH1J3ortRT+moY0z",
      "include_colab_link": true
    },
    "kernelspec": {
      "name": "python3",
      "display_name": "Python 3"
    },
    "language_info": {
      "name": "python"
    },
    "accelerator": "GPU"
  },
  "cells": [
    {
      "cell_type": "markdown",
      "metadata": {
        "id": "view-in-github",
        "colab_type": "text"
      },
      "source": [
        "<a href=\"https://colab.research.google.com/github/Jagoda222/LoLa---group-8/blob/main/calculate_measure.ipynb\" target=\"_parent\"><img src=\"https://colab.research.google.com/assets/colab-badge.svg\" alt=\"Open In Colab\"/></a>"
      ]
    },
    {
      "cell_type": "markdown",
      "source": [
        "# Measure calculation and sampling the data (700 triplets)"
      ],
      "metadata": {
        "id": "KXAKUCitXzob"
      }
    },
    {
      "cell_type": "code",
      "source": [
        "#!pip install -U datasets\n",
        "!pip install stanza"
      ],
      "metadata": {
        "colab": {
          "base_uri": "https://localhost:8080/"
        },
        "id": "c6DeRwL0XjDV",
        "outputId": "154b6544-1931-49e0-bf28-f9b43e6a6831"
      },
      "execution_count": null,
      "outputs": [
        {
          "output_type": "stream",
          "name": "stdout",
          "text": [
            "Collecting stanza\n",
            "  Downloading stanza-1.10.1-py3-none-any.whl.metadata (13 kB)\n",
            "Collecting emoji (from stanza)\n",
            "  Downloading emoji-2.14.1-py3-none-any.whl.metadata (5.7 kB)\n",
            "Requirement already satisfied: numpy in /usr/local/lib/python3.11/dist-packages (from stanza) (1.26.4)\n",
            "Requirement already satisfied: protobuf>=3.15.0 in /usr/local/lib/python3.11/dist-packages (from stanza) (4.25.6)\n",
            "Requirement already satisfied: requests in /usr/local/lib/python3.11/dist-packages (from stanza) (2.32.3)\n",
            "Requirement already satisfied: networkx in /usr/local/lib/python3.11/dist-packages (from stanza) (3.4.2)\n",
            "Requirement already satisfied: torch>=1.3.0 in /usr/local/lib/python3.11/dist-packages (from stanza) (2.5.1+cu124)\n",
            "Requirement already satisfied: tqdm in /usr/local/lib/python3.11/dist-packages (from stanza) (4.67.1)\n",
            "Requirement already satisfied: filelock in /usr/local/lib/python3.11/dist-packages (from torch>=1.3.0->stanza) (3.17.0)\n",
            "Requirement already satisfied: typing-extensions>=4.8.0 in /usr/local/lib/python3.11/dist-packages (from torch>=1.3.0->stanza) (4.12.2)\n",
            "Requirement already satisfied: jinja2 in /usr/local/lib/python3.11/dist-packages (from torch>=1.3.0->stanza) (3.1.5)\n",
            "Requirement already satisfied: fsspec in /usr/local/lib/python3.11/dist-packages (from torch>=1.3.0->stanza) (2024.10.0)\n",
            "Collecting nvidia-cuda-nvrtc-cu12==12.4.127 (from torch>=1.3.0->stanza)\n",
            "  Downloading nvidia_cuda_nvrtc_cu12-12.4.127-py3-none-manylinux2014_x86_64.whl.metadata (1.5 kB)\n",
            "Collecting nvidia-cuda-runtime-cu12==12.4.127 (from torch>=1.3.0->stanza)\n",
            "  Downloading nvidia_cuda_runtime_cu12-12.4.127-py3-none-manylinux2014_x86_64.whl.metadata (1.5 kB)\n",
            "Collecting nvidia-cuda-cupti-cu12==12.4.127 (from torch>=1.3.0->stanza)\n",
            "  Downloading nvidia_cuda_cupti_cu12-12.4.127-py3-none-manylinux2014_x86_64.whl.metadata (1.6 kB)\n",
            "Collecting nvidia-cudnn-cu12==9.1.0.70 (from torch>=1.3.0->stanza)\n",
            "  Downloading nvidia_cudnn_cu12-9.1.0.70-py3-none-manylinux2014_x86_64.whl.metadata (1.6 kB)\n",
            "Collecting nvidia-cublas-cu12==12.4.5.8 (from torch>=1.3.0->stanza)\n",
            "  Downloading nvidia_cublas_cu12-12.4.5.8-py3-none-manylinux2014_x86_64.whl.metadata (1.5 kB)\n",
            "Collecting nvidia-cufft-cu12==11.2.1.3 (from torch>=1.3.0->stanza)\n",
            "  Downloading nvidia_cufft_cu12-11.2.1.3-py3-none-manylinux2014_x86_64.whl.metadata (1.5 kB)\n",
            "Collecting nvidia-curand-cu12==10.3.5.147 (from torch>=1.3.0->stanza)\n",
            "  Downloading nvidia_curand_cu12-10.3.5.147-py3-none-manylinux2014_x86_64.whl.metadata (1.5 kB)\n",
            "Collecting nvidia-cusolver-cu12==11.6.1.9 (from torch>=1.3.0->stanza)\n",
            "  Downloading nvidia_cusolver_cu12-11.6.1.9-py3-none-manylinux2014_x86_64.whl.metadata (1.6 kB)\n",
            "Collecting nvidia-cusparse-cu12==12.3.1.170 (from torch>=1.3.0->stanza)\n",
            "  Downloading nvidia_cusparse_cu12-12.3.1.170-py3-none-manylinux2014_x86_64.whl.metadata (1.6 kB)\n",
            "Requirement already satisfied: nvidia-nccl-cu12==2.21.5 in /usr/local/lib/python3.11/dist-packages (from torch>=1.3.0->stanza) (2.21.5)\n",
            "Requirement already satisfied: nvidia-nvtx-cu12==12.4.127 in /usr/local/lib/python3.11/dist-packages (from torch>=1.3.0->stanza) (12.4.127)\n",
            "Collecting nvidia-nvjitlink-cu12==12.4.127 (from torch>=1.3.0->stanza)\n",
            "  Downloading nvidia_nvjitlink_cu12-12.4.127-py3-none-manylinux2014_x86_64.whl.metadata (1.5 kB)\n",
            "Requirement already satisfied: triton==3.1.0 in /usr/local/lib/python3.11/dist-packages (from torch>=1.3.0->stanza) (3.1.0)\n",
            "Requirement already satisfied: sympy==1.13.1 in /usr/local/lib/python3.11/dist-packages (from torch>=1.3.0->stanza) (1.13.1)\n",
            "Requirement already satisfied: mpmath<1.4,>=1.1.0 in /usr/local/lib/python3.11/dist-packages (from sympy==1.13.1->torch>=1.3.0->stanza) (1.3.0)\n",
            "Requirement already satisfied: charset-normalizer<4,>=2 in /usr/local/lib/python3.11/dist-packages (from requests->stanza) (3.4.1)\n",
            "Requirement already satisfied: idna<4,>=2.5 in /usr/local/lib/python3.11/dist-packages (from requests->stanza) (3.10)\n",
            "Requirement already satisfied: urllib3<3,>=1.21.1 in /usr/local/lib/python3.11/dist-packages (from requests->stanza) (2.3.0)\n",
            "Requirement already satisfied: certifi>=2017.4.17 in /usr/local/lib/python3.11/dist-packages (from requests->stanza) (2024.12.14)\n",
            "Requirement already satisfied: MarkupSafe>=2.0 in /usr/local/lib/python3.11/dist-packages (from jinja2->torch>=1.3.0->stanza) (3.0.2)\n",
            "Downloading stanza-1.10.1-py3-none-any.whl (1.1 MB)\n",
            "\u001b[2K   \u001b[90m━━━━━━━━━━━━━━━━━━━━━━━━━━━━━━━━━━━━━━━━\u001b[0m \u001b[32m1.1/1.1 MB\u001b[0m \u001b[31m21.5 MB/s\u001b[0m eta \u001b[36m0:00:00\u001b[0m\n",
            "\u001b[?25hDownloading nvidia_cublas_cu12-12.4.5.8-py3-none-manylinux2014_x86_64.whl (363.4 MB)\n",
            "\u001b[2K   \u001b[90m━━━━━━━━━━━━━━━━━━━━━━━━━━━━━━━━━━━━━━━━\u001b[0m \u001b[32m363.4/363.4 MB\u001b[0m \u001b[31m1.3 MB/s\u001b[0m eta \u001b[36m0:00:00\u001b[0m\n",
            "\u001b[?25hDownloading nvidia_cuda_cupti_cu12-12.4.127-py3-none-manylinux2014_x86_64.whl (13.8 MB)\n",
            "\u001b[2K   \u001b[90m━━━━━━━━━━━━━━━━━━━━━━━━━━━━━━━━━━━━━━━━\u001b[0m \u001b[32m13.8/13.8 MB\u001b[0m \u001b[31m108.0 MB/s\u001b[0m eta \u001b[36m0:00:00\u001b[0m\n",
            "\u001b[?25hDownloading nvidia_cuda_nvrtc_cu12-12.4.127-py3-none-manylinux2014_x86_64.whl (24.6 MB)\n",
            "\u001b[2K   \u001b[90m━━━━━━━━━━━━━━━━━━━━━━━━━━━━━━━━━━━━━━━━\u001b[0m \u001b[32m24.6/24.6 MB\u001b[0m \u001b[31m80.9 MB/s\u001b[0m eta \u001b[36m0:00:00\u001b[0m\n",
            "\u001b[?25hDownloading nvidia_cuda_runtime_cu12-12.4.127-py3-none-manylinux2014_x86_64.whl (883 kB)\n",
            "\u001b[2K   \u001b[90m━━━━━━━━━━━━━━━━━━━━━━━━━━━━━━━━━━━━━━━━\u001b[0m \u001b[32m883.7/883.7 kB\u001b[0m \u001b[31m54.6 MB/s\u001b[0m eta \u001b[36m0:00:00\u001b[0m\n",
            "\u001b[?25hDownloading nvidia_cudnn_cu12-9.1.0.70-py3-none-manylinux2014_x86_64.whl (664.8 MB)\n",
            "\u001b[2K   \u001b[90m━━━━━━━━━━━━━━━━━━━━━━━━━━━━━━━━━━━━━━━━\u001b[0m \u001b[32m664.8/664.8 MB\u001b[0m \u001b[31m2.0 MB/s\u001b[0m eta \u001b[36m0:00:00\u001b[0m\n",
            "\u001b[?25hDownloading nvidia_cufft_cu12-11.2.1.3-py3-none-manylinux2014_x86_64.whl (211.5 MB)\n",
            "\u001b[2K   \u001b[90m━━━━━━━━━━━━━━━━━━━━━━━━━━━━━━━━━━━━━━━━\u001b[0m \u001b[32m211.5/211.5 MB\u001b[0m \u001b[31m5.8 MB/s\u001b[0m eta \u001b[36m0:00:00\u001b[0m\n",
            "\u001b[?25hDownloading nvidia_curand_cu12-10.3.5.147-py3-none-manylinux2014_x86_64.whl (56.3 MB)\n",
            "\u001b[2K   \u001b[90m━━━━━━━━━━━━━━━━━━━━━━━━━━━━━━━━━━━━━━━━\u001b[0m \u001b[32m56.3/56.3 MB\u001b[0m \u001b[31m12.1 MB/s\u001b[0m eta \u001b[36m0:00:00\u001b[0m\n",
            "\u001b[?25hDownloading nvidia_cusolver_cu12-11.6.1.9-py3-none-manylinux2014_x86_64.whl (127.9 MB)\n",
            "\u001b[2K   \u001b[90m━━━━━━━━━━━━━━━━━━━━━━━━━━━━━━━━━━━━━━━━\u001b[0m \u001b[32m127.9/127.9 MB\u001b[0m \u001b[31m8.2 MB/s\u001b[0m eta \u001b[36m0:00:00\u001b[0m\n",
            "\u001b[?25hDownloading nvidia_cusparse_cu12-12.3.1.170-py3-none-manylinux2014_x86_64.whl (207.5 MB)\n",
            "\u001b[2K   \u001b[90m━━━━━━━━━━━━━━━━━━━━━━━━━━━━━━━━━━━━━━━━\u001b[0m \u001b[32m207.5/207.5 MB\u001b[0m \u001b[31m5.8 MB/s\u001b[0m eta \u001b[36m0:00:00\u001b[0m\n",
            "\u001b[?25hDownloading nvidia_nvjitlink_cu12-12.4.127-py3-none-manylinux2014_x86_64.whl (21.1 MB)\n",
            "\u001b[2K   \u001b[90m━━━━━━━━━━━━━━━━━━━━━━━━━━━━━━━━━━━━━━━━\u001b[0m \u001b[32m21.1/21.1 MB\u001b[0m \u001b[31m89.9 MB/s\u001b[0m eta \u001b[36m0:00:00\u001b[0m\n",
            "\u001b[?25hDownloading emoji-2.14.1-py3-none-any.whl (590 kB)\n",
            "\u001b[2K   \u001b[90m━━━━━━━━━━━━━━━━━━━━━━━━━━━━━━━━━━━━━━━━\u001b[0m \u001b[32m590.6/590.6 kB\u001b[0m \u001b[31m43.5 MB/s\u001b[0m eta \u001b[36m0:00:00\u001b[0m\n",
            "\u001b[?25hInstalling collected packages: nvidia-nvjitlink-cu12, nvidia-curand-cu12, nvidia-cufft-cu12, nvidia-cuda-runtime-cu12, nvidia-cuda-nvrtc-cu12, nvidia-cuda-cupti-cu12, nvidia-cublas-cu12, emoji, nvidia-cusparse-cu12, nvidia-cudnn-cu12, nvidia-cusolver-cu12, stanza\n",
            "  Attempting uninstall: nvidia-nvjitlink-cu12\n",
            "    Found existing installation: nvidia-nvjitlink-cu12 12.5.82\n",
            "    Uninstalling nvidia-nvjitlink-cu12-12.5.82:\n",
            "      Successfully uninstalled nvidia-nvjitlink-cu12-12.5.82\n",
            "  Attempting uninstall: nvidia-curand-cu12\n",
            "    Found existing installation: nvidia-curand-cu12 10.3.6.82\n",
            "    Uninstalling nvidia-curand-cu12-10.3.6.82:\n",
            "      Successfully uninstalled nvidia-curand-cu12-10.3.6.82\n",
            "  Attempting uninstall: nvidia-cufft-cu12\n",
            "    Found existing installation: nvidia-cufft-cu12 11.2.3.61\n",
            "    Uninstalling nvidia-cufft-cu12-11.2.3.61:\n",
            "      Successfully uninstalled nvidia-cufft-cu12-11.2.3.61\n",
            "  Attempting uninstall: nvidia-cuda-runtime-cu12\n",
            "    Found existing installation: nvidia-cuda-runtime-cu12 12.5.82\n",
            "    Uninstalling nvidia-cuda-runtime-cu12-12.5.82:\n",
            "      Successfully uninstalled nvidia-cuda-runtime-cu12-12.5.82\n",
            "  Attempting uninstall: nvidia-cuda-nvrtc-cu12\n",
            "    Found existing installation: nvidia-cuda-nvrtc-cu12 12.5.82\n",
            "    Uninstalling nvidia-cuda-nvrtc-cu12-12.5.82:\n",
            "      Successfully uninstalled nvidia-cuda-nvrtc-cu12-12.5.82\n",
            "  Attempting uninstall: nvidia-cuda-cupti-cu12\n",
            "    Found existing installation: nvidia-cuda-cupti-cu12 12.5.82\n",
            "    Uninstalling nvidia-cuda-cupti-cu12-12.5.82:\n",
            "      Successfully uninstalled nvidia-cuda-cupti-cu12-12.5.82\n",
            "  Attempting uninstall: nvidia-cublas-cu12\n",
            "    Found existing installation: nvidia-cublas-cu12 12.5.3.2\n",
            "    Uninstalling nvidia-cublas-cu12-12.5.3.2:\n",
            "      Successfully uninstalled nvidia-cublas-cu12-12.5.3.2\n",
            "  Attempting uninstall: nvidia-cusparse-cu12\n",
            "    Found existing installation: nvidia-cusparse-cu12 12.5.1.3\n",
            "    Uninstalling nvidia-cusparse-cu12-12.5.1.3:\n",
            "      Successfully uninstalled nvidia-cusparse-cu12-12.5.1.3\n",
            "  Attempting uninstall: nvidia-cudnn-cu12\n",
            "    Found existing installation: nvidia-cudnn-cu12 9.3.0.75\n",
            "    Uninstalling nvidia-cudnn-cu12-9.3.0.75:\n",
            "      Successfully uninstalled nvidia-cudnn-cu12-9.3.0.75\n",
            "  Attempting uninstall: nvidia-cusolver-cu12\n",
            "    Found existing installation: nvidia-cusolver-cu12 11.6.3.83\n",
            "    Uninstalling nvidia-cusolver-cu12-11.6.3.83:\n",
            "      Successfully uninstalled nvidia-cusolver-cu12-11.6.3.83\n",
            "Successfully installed emoji-2.14.1 nvidia-cublas-cu12-12.4.5.8 nvidia-cuda-cupti-cu12-12.4.127 nvidia-cuda-nvrtc-cu12-12.4.127 nvidia-cuda-runtime-cu12-12.4.127 nvidia-cudnn-cu12-9.1.0.70 nvidia-cufft-cu12-11.2.1.3 nvidia-curand-cu12-10.3.5.147 nvidia-cusolver-cu12-11.6.1.9 nvidia-cusparse-cu12-12.3.1.170 nvidia-nvjitlink-cu12-12.4.127 stanza-1.10.1\n"
          ]
        }
      ]
    },
    {
      "cell_type": "code",
      "source": [
        "!pip install --upgrade pandas"
      ],
      "metadata": {
        "colab": {
          "base_uri": "https://localhost:8080/"
        },
        "id": "fPd1ABy74HLL",
        "outputId": "649be76d-692e-45c6-9023-bad37e2dd876"
      },
      "execution_count": null,
      "outputs": [
        {
          "output_type": "stream",
          "name": "stdout",
          "text": [
            "Requirement already satisfied: pandas in /usr/local/lib/python3.11/dist-packages (2.2.2)\n",
            "Collecting pandas\n",
            "  Downloading pandas-2.2.3-cp311-cp311-manylinux_2_17_x86_64.manylinux2014_x86_64.whl.metadata (89 kB)\n",
            "\u001b[2K     \u001b[90m━━━━━━━━━━━━━━━━━━━━━━━━━━━━━━━━━━━━━━━━\u001b[0m \u001b[32m89.9/89.9 kB\u001b[0m \u001b[31m2.6 MB/s\u001b[0m eta \u001b[36m0:00:00\u001b[0m\n",
            "\u001b[?25hRequirement already satisfied: numpy>=1.23.2 in /usr/local/lib/python3.11/dist-packages (from pandas) (1.26.4)\n",
            "Requirement already satisfied: python-dateutil>=2.8.2 in /usr/local/lib/python3.11/dist-packages (from pandas) (2.8.2)\n",
            "Requirement already satisfied: pytz>=2020.1 in /usr/local/lib/python3.11/dist-packages (from pandas) (2024.2)\n",
            "Requirement already satisfied: tzdata>=2022.7 in /usr/local/lib/python3.11/dist-packages (from pandas) (2025.1)\n",
            "Requirement already satisfied: six>=1.5 in /usr/local/lib/python3.11/dist-packages (from python-dateutil>=2.8.2->pandas) (1.17.0)\n",
            "Downloading pandas-2.2.3-cp311-cp311-manylinux_2_17_x86_64.manylinux2014_x86_64.whl (13.1 MB)\n",
            "\u001b[2K   \u001b[90m━━━━━━━━━━━━━━━━━━━━━━━━━━━━━━━━━━━━━━━━\u001b[0m \u001b[32m13.1/13.1 MB\u001b[0m \u001b[31m45.0 MB/s\u001b[0m eta \u001b[36m0:00:00\u001b[0m\n",
            "\u001b[?25hInstalling collected packages: pandas\n",
            "  Attempting uninstall: pandas\n",
            "    Found existing installation: pandas 2.2.2\n",
            "    Uninstalling pandas-2.2.2:\n",
            "      Successfully uninstalled pandas-2.2.2\n",
            "\u001b[31mERROR: pip's dependency resolver does not currently take into account all the packages that are installed. This behaviour is the source of the following dependency conflicts.\n",
            "google-colab 1.0.0 requires pandas==2.2.2, but you have pandas 2.2.3 which is incompatible.\u001b[0m\u001b[31m\n",
            "\u001b[0mSuccessfully installed pandas-2.2.3\n"
          ]
        }
      ]
    },
    {
      "cell_type": "code",
      "source": [
        "import pandas as pd\n",
        "#from datasets import load_dataset, load_metric, concatenate_datasets\n",
        "from transformers import AutoTokenizer\n",
        "from transformers import AutoModelForSequenceClassification, TrainingArguments, Trainer\n",
        "from transformers import EarlyStoppingCallback\n",
        "import numpy as np\n",
        "import pandas as pd\n",
        "import os\n",
        "import numpy as np\n",
        "from sentence_transformers import SentenceTransformer, util\n",
        "import spacy\n",
        "from sentence_transformers import SentenceTransformer, util\n",
        "import torch\n"
      ],
      "metadata": {
        "id": "CjUbKdCJnYSu"
      },
      "execution_count": null,
      "outputs": []
    },
    {
      "cell_type": "code",
      "source": [
        "data = open('/content/sampled_snli_10000.csv')\n",
        "df = pd.read_csv(data)\n"
      ],
      "metadata": {
        "colab": {
          "base_uri": "https://localhost:8080/",
          "height": 165
        },
        "id": "4AUwMBu3qxmc",
        "outputId": "6f6f19ff-37e2-4c61-f866-6b247d6cc63b"
      },
      "execution_count": null,
      "outputs": [
        {
          "output_type": "error",
          "ename": "NameError",
          "evalue": "name 'pd' is not defined",
          "traceback": [
            "\u001b[0;31m---------------------------------------------------------------------------\u001b[0m",
            "\u001b[0;31mNameError\u001b[0m                                 Traceback (most recent call last)",
            "\u001b[0;32m<ipython-input-1-7033177c5461>\u001b[0m in \u001b[0;36m<cell line: 0>\u001b[0;34m()\u001b[0m\n\u001b[1;32m      1\u001b[0m \u001b[0mdata\u001b[0m \u001b[0;34m=\u001b[0m \u001b[0mopen\u001b[0m\u001b[0;34m(\u001b[0m\u001b[0;34m'/content/sampled_snli_10000.csv'\u001b[0m\u001b[0;34m)\u001b[0m\u001b[0;34m\u001b[0m\u001b[0;34m\u001b[0m\u001b[0m\n\u001b[0;32m----> 2\u001b[0;31m \u001b[0mdf\u001b[0m \u001b[0;34m=\u001b[0m \u001b[0mpd\u001b[0m\u001b[0;34m.\u001b[0m\u001b[0mread_csv\u001b[0m\u001b[0;34m(\u001b[0m\u001b[0mdata\u001b[0m\u001b[0;34m)\u001b[0m\u001b[0;34m\u001b[0m\u001b[0;34m\u001b[0m\u001b[0m\n\u001b[0m",
            "\u001b[0;31mNameError\u001b[0m: name 'pd' is not defined"
          ]
        }
      ]
    },
    {
      "cell_type": "code",
      "source": [
        "import pandas as pd\n",
        "\n",
        "# Load the dataset\n",
        "file_path = '/content/sampled_snli_10000.csv'  # Update the path if needed\n",
        "df = pd.read_csv(file_path)\n",
        "\n",
        "# Calculate sentence lengths\n",
        "df['premise_length'] = df['premise'].apply(lambda x: len(str(x).split()))\n",
        "df['hypothesis_length'] = df['hypothesis'].apply(lambda x: len(str(x).split()))\n",
        "\n",
        "# Find the maximum sentence length between both columns\n",
        "max_length = max(df['premise_length'].max(), df['hypothesis_length'].max())\n",
        "\n",
        "print(\"Maximum sentence length:\", max_length)\n"
      ],
      "metadata": {
        "colab": {
          "base_uri": "https://localhost:8080/"
        },
        "id": "42Xj6HJAhb93",
        "outputId": "ebbafa9a-29e0-4445-92f2-a6f739b74bbd"
      },
      "execution_count": null,
      "outputs": [
        {
          "output_type": "stream",
          "name": "stdout",
          "text": [
            "Maximum sentence length: 78\n"
          ]
        }
      ]
    },
    {
      "cell_type": "code",
      "execution_count": null,
      "metadata": {
        "id": "PNH7S7BMnVXv"
      },
      "outputs": [],
      "source": [
        "def process_snli_dataset_with_measures(file_path, sample_size=700, num_bins=7, measures=None):\n",
        "    \"\"\"\n",
        "    Process an SNLI dataset for curriculum learning with one measure at a time and proportional sampling.\n",
        "\n",
        "    Args:\n",
        "        file_path (str): Path to the CSV file containing the dataset.\n",
        "        sample_size (int): The number of triplets to sample from the dataset. Default is 700.\n",
        "        num_bins (int): Number of bins for dividing measure values. Default is 7.\n",
        "        measures (list): List of functions to calculate complexity measures.\n",
        "\n",
        "    Returns:\n",
        "        dict: Dictionary containing two DataFrames (increasing and decreasing) for each measure.\n",
        "    \"\"\"\n",
        "\n",
        "    # Step 1: Load dataset\n",
        "    data = pd.read_csv(file_path)\n",
        "    print(f\"Dataset loaded: {len(data)} rows\")\n",
        "\n",
        "    data['premise'] = data['premise'].fillna(\"\").astype(str)\n",
        "    data['hypothesis'] = data['hypothesis'].fillna(\"\").astype(str)\n",
        "\n",
        "    # Store results\n",
        "    result = {}\n",
        "\n",
        "    # Step 2: Process for each measure separately\n",
        "    for idx, measure_func in enumerate(measures):\n",
        "        measure_name = f\"measure_{idx+1}\"\n",
        "\n",
        "        # Calculate the measure for each row\n",
        "        data[measure_name] = data.apply(measure_func, axis=1)\n",
        "\n",
        "        # Step 3: Calculate triplet-level averages for the current measure\n",
        "        triplet_avg = data.groupby('triplet_nr')[measure_name].mean().reset_index(name='triplet_avg')\n",
        "\n",
        "        # Step 4: Bin triplets based on the current measure's triplet average\n",
        "        bin_edges = np.linspace(triplet_avg['triplet_avg'].min(), triplet_avg['triplet_avg'].max(), num_bins + 1)\n",
        "        triplet_avg['range_bin'] = pd.cut(triplet_avg['triplet_avg'], bins=bin_edges, labels=False, include_lowest=True)\n",
        "\n",
        "        # Step 5: Calculate how many triplets to sample from each bin\n",
        "        bin_distribution = triplet_avg['range_bin'].value_counts().sort_index()\n",
        "        print(f\"\\nDistribution of triplets across bins for {measure_name}:\\n{bin_distribution}\")\n",
        "\n",
        "        triplets_per_bin = (bin_distribution / bin_distribution.sum() * sample_size).astype(int)\n",
        "\n",
        "        # Adjust sample size if needed\n",
        "        while triplets_per_bin.sum() < sample_size:\n",
        "            residuals = (bin_distribution / bin_distribution.sum() * sample_size) - triplets_per_bin\n",
        "            triplets_per_bin[residuals.idxmax()] += 1\n",
        "\n",
        "        while triplets_per_bin.sum() > sample_size:\n",
        "            residuals = (bin_distribution / bin_distribution.sum() * sample_size) - triplets_per_bin\n",
        "            triplets_per_bin[residuals.idxmin()] -= 1\n",
        "\n",
        "        # Step 6: Sample triplets proportionally from each bin\n",
        "        sampled_triplets = []\n",
        "        for bin_id, sample_count in triplets_per_bin.items():\n",
        "            if sample_count > 0:\n",
        "                triplets_in_bin = triplet_avg[triplet_avg['range_bin'] == bin_id]['triplet_nr'].values\n",
        "                sampled_triplet_ids = np.random.choice(triplets_in_bin, size=min(sample_count, len(triplets_in_bin)), replace=False)\n",
        "                sampled_triplets.append(data[data['triplet_nr'].isin(sampled_triplet_ids)])\n",
        "\n",
        "        # Combine sampled triplets into a single DataFrame\n",
        "        final_sample = pd.concat(sampled_triplets).reset_index(drop=True)\n",
        "\n",
        "        # Step 7: Merge back the triplet averages\n",
        "        final_sample = final_sample.merge(triplet_avg[['triplet_nr', 'triplet_avg']], on='triplet_nr')\n",
        "\n",
        "        # Step 8: Sort by increasing and decreasing order\n",
        "        final_sample_increasing = final_sample.sort_values(by='triplet_avg').reset_index(drop=True)\n",
        "        final_sample_decreasing = final_sample.sort_values(by='triplet_avg', ascending=False).reset_index(drop=True)\n",
        "\n",
        "        # Store results for this measure\n",
        "        result[measure_name] = {\n",
        "            'increasing': final_sample_increasing,\n",
        "            'decreasing': final_sample_decreasing\n",
        "        }\n",
        "\n",
        "    print(f\"Processed {sample_size} triplets and returned ordered DataFrames for each measure.\")\n",
        "    return result\n",
        "\n",
        "\n"
      ]
    },
    {
      "cell_type": "code",
      "source": [
        "import numpy as np\n",
        "import pandas as pd\n"
      ],
      "metadata": {
        "id": "SJpKwWG3yUOl"
      },
      "execution_count": null,
      "outputs": []
    },
    {
      "cell_type": "code",
      "source": [
        "def measure_1(row):\n",
        "    \"\"\"Calculate combined complexity score using syntactic overlap, lexical diversity, and sentence length.\"\"\"\n",
        "\n",
        "    # Extract premise and hypothesis from the row\n",
        "    premise = row['premise']\n",
        "    hypothesis = row['hypothesis']\n",
        "\n",
        "    def longest_common_subsequence(X, Y):\n",
        "        \"\"\"Calculate the length of the longest common subsequence between two sentences.\"\"\"\n",
        "        m, n = len(X), len(Y)\n",
        "        dp = [[0] * (n + 1) for _ in range(m + 1)]\n",
        "\n",
        "        # Fill DP table\n",
        "        for i in range(1, m + 1):\n",
        "            for j in range(1, n + 1):\n",
        "                if X[i - 1] == Y[j - 1]:\n",
        "                    dp[i][j] = dp[i - 1][j - 1] + 1\n",
        "                else:\n",
        "                    dp[i][j] = max(dp[i - 1][j], dp[i][j - 1])\n",
        "        return dp[m][n]\n",
        "\n",
        "    def syntactic_overlap(premise, hypothesis):\n",
        "        \"\"\"Calculate syntactic overlap using longest common subsequence.\"\"\"\n",
        "        premise_words = premise.split()\n",
        "        hypothesis_words = hypothesis.split()\n",
        "        lcs_length = longest_common_subsequence(premise_words, hypothesis_words)\n",
        "        return lcs_length / max(len(premise_words), len(hypothesis_words))\n",
        "\n",
        "    def lexical_diversity_comparison(premise, hypothesis):\n",
        "        \"\"\"Calculate lexical diversity comparison between premise and hypothesis.\"\"\"\n",
        "        premise_words = set(premise.split())\n",
        "        hypothesis_words = set(hypothesis.split())\n",
        "        shared_unique_words = len(premise_words & hypothesis_words)\n",
        "        total_words = len(premise.split()) + len(hypothesis.split())\n",
        "        return shared_unique_words / total_words if total_words > 0 else 0\n",
        "\n",
        "    # Step 1: Calculate syntactic overlap (higher difference -> more complex)\n",
        "    syntactic_diff = 1 - syntactic_overlap(premise, hypothesis)\n",
        "\n",
        "    # Step 2: Calculate lexical diversity comparison (higher diversity -> more complex)\n",
        "    lexical_diversity_score = 1 - lexical_diversity_comparison(premise, hypothesis)\n",
        "\n",
        "    # Step 3: Calculate normalized sentence length\n",
        "    max_length = 78  # Maximum sentence length for normalization\n",
        "    combined_length = len(premise.split()) + len(hypothesis.split())\n",
        "    normalized_length = combined_length / max_length\n",
        "\n",
        "    # Step 4: Combine using weights\n",
        "    w1, w2, w3 = 0.5, 0.3, 0.2  # Weights for syntactic overlap, lexical diversity, and length\n",
        "    complexity_score = (w1 * syntactic_diff) + (w2 * lexical_diversity_score) + (w3 * normalized_length)\n",
        "\n",
        "    return complexity_score\n",
        "\n",
        "\n",
        "\n"
      ],
      "metadata": {
        "id": "WVytZqVUTXZM"
      },
      "execution_count": null,
      "outputs": []
    },
    {
      "cell_type": "code",
      "source": [
        "# Usage\n",
        "file_path = \"/content/sampled_snli_10000.csv\"\n",
        "result = process_snli_dataset_with_measures(file_path, sample_size=700, num_bins=7, measures=[measure_1])\n",
        "\n",
        "# Step to save increasing and decreasing DataFrames for each measure\n",
        "for measure_name, dataframes in result.items():\n",
        "    # Extract increasing and decreasing DataFrames\n",
        "    increasing_df = dataframes['increasing']\n",
        "    decreasing_df = dataframes['decreasing']\n",
        "\n",
        "    # Save to CSV\n",
        "    increasing_df.to_csv(f\"/content/{measure_name}_increasing.csv\", index=False)\n",
        "    decreasing_df.to_csv(f\"/content/{measure_name}_decreasing.csv\", index=False)\n",
        "\n",
        "    print(f\"Saved {measure_name} DataFrames to CSV:\")\n",
        "    print(f\"/content/{measure_name}_increasing.csv\")\n",
        "    print(f\"/content/{measure_name}_decreasing.csv\")\n"
      ],
      "metadata": {
        "colab": {
          "base_uri": "https://localhost:8080/"
        },
        "id": "SARFGcpHTZe3",
        "outputId": "21cdb104-2fe6-4dad-e4b1-7da5a1bd1d2f"
      },
      "execution_count": null,
      "outputs": [
        {
          "output_type": "stream",
          "name": "stdout",
          "text": [
            "Dataset loaded: 30000 rows\n",
            "\n",
            "Distribution of triplets across bins for measure_1:\n",
            "range_bin\n",
            "0     135\n",
            "1     138\n",
            "2     699\n",
            "3    2468\n",
            "4    4641\n",
            "5    1910\n",
            "6       9\n",
            "Name: count, dtype: int64\n",
            "Processed 700 triplets and returned ordered DataFrames for each measure.\n",
            "Saved measure_1 DataFrames to CSV:\n",
            "/content/measure_1_increasing.csv\n",
            "/content/measure_1_decreasing.csv\n"
          ]
        }
      ]
    },
    {
      "cell_type": "markdown",
      "source": [
        "#Running models on the sampled data"
      ],
      "metadata": {
        "id": "4yYDY9Z3XuOI"
      }
    },
    {
      "cell_type": "code",
      "source": [
        "!pip install evaluate"
      ],
      "metadata": {
        "colab": {
          "base_uri": "https://localhost:8080/"
        },
        "id": "RD8VtoZo8g_k",
        "outputId": "ae46befd-b0bc-4cea-bda7-518bcb146166"
      },
      "execution_count": null,
      "outputs": [
        {
          "output_type": "stream",
          "name": "stdout",
          "text": [
            "Collecting evaluate\n",
            "  Downloading evaluate-0.4.3-py3-none-any.whl.metadata (9.2 kB)\n",
            "Requirement already satisfied: datasets>=2.0.0 in /usr/local/lib/python3.11/dist-packages (from evaluate) (3.2.0)\n",
            "Requirement already satisfied: numpy>=1.17 in /usr/local/lib/python3.11/dist-packages (from evaluate) (1.26.4)\n",
            "Requirement already satisfied: dill in /usr/local/lib/python3.11/dist-packages (from evaluate) (0.3.6)\n",
            "Requirement already satisfied: pandas in /usr/local/lib/python3.11/dist-packages (from evaluate) (2.2.3)\n",
            "Requirement already satisfied: requests>=2.19.0 in /usr/local/lib/python3.11/dist-packages (from evaluate) (2.32.3)\n",
            "Requirement already satisfied: tqdm>=4.62.1 in /usr/local/lib/python3.11/dist-packages (from evaluate) (4.67.1)\n",
            "Requirement already satisfied: xxhash in /usr/local/lib/python3.11/dist-packages (from evaluate) (3.5.0)\n",
            "Requirement already satisfied: multiprocess in /usr/local/lib/python3.11/dist-packages (from evaluate) (0.70.14)\n",
            "Requirement already satisfied: fsspec>=2021.05.0 in /usr/local/lib/python3.11/dist-packages (from fsspec[http]>=2021.05.0->evaluate) (2024.9.0)\n",
            "Requirement already satisfied: huggingface-hub>=0.7.0 in /usr/local/lib/python3.11/dist-packages (from evaluate) (0.27.1)\n",
            "Requirement already satisfied: packaging in /usr/local/lib/python3.11/dist-packages (from evaluate) (24.2)\n",
            "Requirement already satisfied: filelock in /usr/local/lib/python3.11/dist-packages (from datasets>=2.0.0->evaluate) (3.17.0)\n",
            "Requirement already satisfied: pyarrow>=15.0.0 in /usr/local/lib/python3.11/dist-packages (from datasets>=2.0.0->evaluate) (17.0.0)\n",
            "Requirement already satisfied: aiohttp in /usr/local/lib/python3.11/dist-packages (from datasets>=2.0.0->evaluate) (3.11.11)\n",
            "Requirement already satisfied: pyyaml>=5.1 in /usr/local/lib/python3.11/dist-packages (from datasets>=2.0.0->evaluate) (6.0.2)\n",
            "Requirement already satisfied: typing-extensions>=3.7.4.3 in /usr/local/lib/python3.11/dist-packages (from huggingface-hub>=0.7.0->evaluate) (4.12.2)\n",
            "Requirement already satisfied: charset-normalizer<4,>=2 in /usr/local/lib/python3.11/dist-packages (from requests>=2.19.0->evaluate) (3.4.1)\n",
            "Requirement already satisfied: idna<4,>=2.5 in /usr/local/lib/python3.11/dist-packages (from requests>=2.19.0->evaluate) (3.10)\n",
            "Requirement already satisfied: urllib3<3,>=1.21.1 in /usr/local/lib/python3.11/dist-packages (from requests>=2.19.0->evaluate) (2.3.0)\n",
            "Requirement already satisfied: certifi>=2017.4.17 in /usr/local/lib/python3.11/dist-packages (from requests>=2.19.0->evaluate) (2024.12.14)\n",
            "Requirement already satisfied: python-dateutil>=2.8.2 in /usr/local/lib/python3.11/dist-packages (from pandas->evaluate) (2.8.2)\n",
            "Requirement already satisfied: pytz>=2020.1 in /usr/local/lib/python3.11/dist-packages (from pandas->evaluate) (2024.2)\n",
            "Requirement already satisfied: tzdata>=2022.7 in /usr/local/lib/python3.11/dist-packages (from pandas->evaluate) (2025.1)\n",
            "Requirement already satisfied: aiohappyeyeballs>=2.3.0 in /usr/local/lib/python3.11/dist-packages (from aiohttp->datasets>=2.0.0->evaluate) (2.4.4)\n",
            "Requirement already satisfied: aiosignal>=1.1.2 in /usr/local/lib/python3.11/dist-packages (from aiohttp->datasets>=2.0.0->evaluate) (1.3.2)\n",
            "Requirement already satisfied: attrs>=17.3.0 in /usr/local/lib/python3.11/dist-packages (from aiohttp->datasets>=2.0.0->evaluate) (25.1.0)\n",
            "Requirement already satisfied: frozenlist>=1.1.1 in /usr/local/lib/python3.11/dist-packages (from aiohttp->datasets>=2.0.0->evaluate) (1.5.0)\n",
            "Requirement already satisfied: multidict<7.0,>=4.5 in /usr/local/lib/python3.11/dist-packages (from aiohttp->datasets>=2.0.0->evaluate) (6.1.0)\n",
            "Requirement already satisfied: propcache>=0.2.0 in /usr/local/lib/python3.11/dist-packages (from aiohttp->datasets>=2.0.0->evaluate) (0.2.1)\n",
            "Requirement already satisfied: yarl<2.0,>=1.17.0 in /usr/local/lib/python3.11/dist-packages (from aiohttp->datasets>=2.0.0->evaluate) (1.18.3)\n",
            "Requirement already satisfied: six>=1.5 in /usr/local/lib/python3.11/dist-packages (from python-dateutil>=2.8.2->pandas->evaluate) (1.17.0)\n",
            "Downloading evaluate-0.4.3-py3-none-any.whl (84 kB)\n",
            "\u001b[2K   \u001b[90m━━━━━━━━━━━━━━━━━━━━━━━━━━━━━━━━━━━━━━━━\u001b[0m \u001b[32m84.0/84.0 kB\u001b[0m \u001b[31m2.0 MB/s\u001b[0m eta \u001b[36m0:00:00\u001b[0m\n",
            "\u001b[?25hInstalling collected packages: evaluate\n",
            "Successfully installed evaluate-0.4.3\n"
          ]
        }
      ]
    },
    {
      "cell_type": "code",
      "source": [
        "import os\n",
        "import pandas as pd\n",
        "import numpy as np\n",
        "from datasets import load_dataset, Dataset\n",
        "from evaluate import load # Import load instead of load_metric\n",
        "from transformers import AutoTokenizer, AutoModelForSequenceClassification, TrainingArguments, Trainer"
      ],
      "metadata": {
        "id": "v7W3HxdxG8BL"
      },
      "execution_count": null,
      "outputs": []
    },
    {
      "cell_type": "code",
      "source": [
        "\n",
        "MODEL_DIR = 'model_checkpoints'\n",
        "MODEL_CHECKPOINT = \"microsoft/deberta-v3-small\"\n",
        "BATCH_SIZE = 16\n",
        "FILE_TO_TRAIN = \"/content/measure_1_increasing.csv\"\n",
        "\n",
        "# Load the evaluation dataset from SNLI\n",
        "snli = load_dataset(\"snli\")\n",
        "snli = snli.filter(lambda example: example[\"label\"] >= 0)  # Filter labels directly\n",
        "\n",
        "train_dataset = load_dataset(\"csv\", data_files=FILE_TO_TRAIN)[\"train\"]\n",
        "\n",
        "# Tokenizer\n",
        "tokenizer = AutoTokenizer.from_pretrained(MODEL_CHECKPOINT)\n",
        "\n",
        "def preprocess_function(examples):\n",
        "    return tokenizer(examples['premise'], examples['hypothesis'], truncation=True)\n",
        "\n",
        "# Preprocess both training and validation datasets\n",
        "encoded_train_dataset = train_dataset.map(preprocess_function, batched=True)\n",
        "encoded_snli = snli.map(preprocess_function, batched=True, load_from_cache_file=True)\n",
        "\n",
        "# Training arguments\n",
        "args = TrainingArguments(\n",
        "    output_dir=MODEL_DIR,\n",
        "    evaluation_strategy=\"steps\",  # Evaluate periodically during training\n",
        "    eval_steps=200,  # Frequency of evaluation during training\n",
        "    save_steps=200,  # Save model checkpoints periodically\n",
        "    logging_steps=100,  # Log training metrics periodically\n",
        "    per_device_train_batch_size=BATCH_SIZE,\n",
        "    per_device_eval_batch_size=BATCH_SIZE,\n",
        "    learning_rate=5.1e-05,\n",
        "    num_train_epochs=4,\n",
        "    weight_decay=0.0074,\n",
        "    warmup_steps=211,\n",
        "    save_total_limit=2,\n",
        "    load_best_model_at_end=True,\n",
        "    logging_dir=\"./logs\",\n",
        "    fp16=True,  # Enable mixed precision training\n",
        "    lr_scheduler_type=\"cosine\"\n",
        ")\n",
        "\n",
        "# Initialize model\n",
        "model = AutoModelForSequenceClassification.from_pretrained(MODEL_CHECKPOINT, num_labels=3)\n",
        "\n",
        "# Define compute_metrics function\n",
        "metric = load('glue', \"mnli\")\n",
        "\n",
        "\n",
        "def compute_metrics(eval_pred):\n",
        "    predictions, labels = eval_pred\n",
        "    predictions = np.argmax(predictions, axis=1)\n",
        "    return metric.compute(predictions=predictions, references=labels)\n",
        "\n",
        "# Trainer setup\n",
        "trainer = Trainer(\n",
        "    model=model,\n",
        "    args=args,\n",
        "    train_dataset=encoded_train_dataset,\n",
        "    eval_dataset=encoded_snli[\"validation\"],\n",
        "    tokenizer=tokenizer,\n",
        "    compute_metrics=compute_metrics\n",
        ")\n",
        "\n",
        "# Train the model\n",
        "trainer.train()\n",
        "\n",
        "# Save final model and tokenizer\n",
        "trainer.save_model(os.path.join(MODEL_DIR, \"final_model\"))\n",
        "tokenizer.save_pretrained(os.path.join(MODEL_DIR, \"final_model\"))\n",
        "\n",
        "print(f\"Training completed. Model and tokenizer saved to: {os.path.join(MODEL_DIR, 'final_model')}\")"
      ],
      "metadata": {
        "id": "-gtkIaNbXr7s",
        "colab": {
          "base_uri": "https://localhost:8080/",
          "height": 371
        },
        "outputId": "1c46f172-3a5a-4ea0-8caf-39f205e403f5"
      },
      "execution_count": null,
      "outputs": [
        {
          "output_type": "error",
          "ename": "KeyboardInterrupt",
          "evalue": "",
          "traceback": [
            "\u001b[0;31m---------------------------------------------------------------------------\u001b[0m",
            "\u001b[0;31mKeyboardInterrupt\u001b[0m                         Traceback (most recent call last)",
            "\u001b[0;32m<ipython-input-6-75dff4adb264>\u001b[0m in \u001b[0;36m<cell line: 0>\u001b[0;34m()\u001b[0m\n\u001b[1;32m     13\u001b[0m \u001b[0;34m\u001b[0m\u001b[0m\n\u001b[1;32m     14\u001b[0m \u001b[0;31m# Load the evaluation dataset from SNLI\u001b[0m\u001b[0;34m\u001b[0m\u001b[0;34m\u001b[0m\u001b[0m\n\u001b[0;32m---> 15\u001b[0;31m \u001b[0msnli\u001b[0m \u001b[0;34m=\u001b[0m \u001b[0mload_dataset\u001b[0m\u001b[0;34m(\u001b[0m\u001b[0;34m\"snli\"\u001b[0m\u001b[0;34m)\u001b[0m\u001b[0;34m\u001b[0m\u001b[0;34m\u001b[0m\u001b[0m\n\u001b[0m\u001b[1;32m     16\u001b[0m \u001b[0;32mfor\u001b[0m \u001b[0mk\u001b[0m \u001b[0;32min\u001b[0m \u001b[0msnli\u001b[0m\u001b[0;34m:\u001b[0m\u001b[0;34m\u001b[0m\u001b[0;34m\u001b[0m\u001b[0m\n\u001b[1;32m     17\u001b[0m     \u001b[0msnli\u001b[0m\u001b[0;34m[\u001b[0m\u001b[0mk\u001b[0m\u001b[0;34m]\u001b[0m \u001b[0;34m=\u001b[0m \u001b[0msnli\u001b[0m\u001b[0;34m[\u001b[0m\u001b[0mk\u001b[0m\u001b[0;34m]\u001b[0m\u001b[0;34m.\u001b[0m\u001b[0mfilter\u001b[0m\u001b[0;34m(\u001b[0m \u001b[0;32mlambda\u001b[0m \u001b[0mprob\u001b[0m\u001b[0;34m:\u001b[0m \u001b[0mprob\u001b[0m\u001b[0;34m[\u001b[0m\u001b[0;34m'label'\u001b[0m\u001b[0;34m]\u001b[0m \u001b[0;34m>=\u001b[0m \u001b[0;36m0\u001b[0m \u001b[0;34m)\u001b[0m\u001b[0;34m\u001b[0m\u001b[0;34m\u001b[0m\u001b[0m\n",
            "\u001b[0;32m/usr/local/lib/python3.11/dist-packages/datasets/load.py\u001b[0m in \u001b[0;36mload_dataset\u001b[0;34m(path, name, data_dir, data_files, split, cache_dir, features, download_config, download_mode, verification_mode, keep_in_memory, save_infos, revision, token, streaming, num_proc, storage_options, trust_remote_code, **config_kwargs)\u001b[0m\n\u001b[1;32m   2127\u001b[0m \u001b[0;34m\u001b[0m\u001b[0m\n\u001b[1;32m   2128\u001b[0m     \u001b[0;31m# Create a dataset builder\u001b[0m\u001b[0;34m\u001b[0m\u001b[0;34m\u001b[0m\u001b[0m\n\u001b[0;32m-> 2129\u001b[0;31m     builder_instance = load_dataset_builder(\n\u001b[0m\u001b[1;32m   2130\u001b[0m         \u001b[0mpath\u001b[0m\u001b[0;34m=\u001b[0m\u001b[0mpath\u001b[0m\u001b[0;34m,\u001b[0m\u001b[0;34m\u001b[0m\u001b[0;34m\u001b[0m\u001b[0m\n\u001b[1;32m   2131\u001b[0m         \u001b[0mname\u001b[0m\u001b[0;34m=\u001b[0m\u001b[0mname\u001b[0m\u001b[0;34m,\u001b[0m\u001b[0;34m\u001b[0m\u001b[0;34m\u001b[0m\u001b[0m\n",
            "\u001b[0;32m/usr/local/lib/python3.11/dist-packages/datasets/load.py\u001b[0m in \u001b[0;36mload_dataset_builder\u001b[0;34m(path, name, data_dir, data_files, cache_dir, features, download_config, download_mode, revision, token, storage_options, trust_remote_code, _require_default_config_name, **config_kwargs)\u001b[0m\n\u001b[1;32m   1884\u001b[0m     \u001b[0mbuilder_cls\u001b[0m \u001b[0;34m=\u001b[0m \u001b[0mget_dataset_builder_class\u001b[0m\u001b[0;34m(\u001b[0m\u001b[0mdataset_module\u001b[0m\u001b[0;34m,\u001b[0m \u001b[0mdataset_name\u001b[0m\u001b[0;34m=\u001b[0m\u001b[0mdataset_name\u001b[0m\u001b[0;34m)\u001b[0m\u001b[0;34m\u001b[0m\u001b[0;34m\u001b[0m\u001b[0m\n\u001b[1;32m   1885\u001b[0m     \u001b[0;31m# Instantiate the dataset builder\u001b[0m\u001b[0;34m\u001b[0m\u001b[0;34m\u001b[0m\u001b[0m\n\u001b[0;32m-> 1886\u001b[0;31m     builder_instance: DatasetBuilder = builder_cls(\n\u001b[0m\u001b[1;32m   1887\u001b[0m         \u001b[0mcache_dir\u001b[0m\u001b[0;34m=\u001b[0m\u001b[0mcache_dir\u001b[0m\u001b[0;34m,\u001b[0m\u001b[0;34m\u001b[0m\u001b[0;34m\u001b[0m\u001b[0m\n\u001b[1;32m   1888\u001b[0m         \u001b[0mdataset_name\u001b[0m\u001b[0;34m=\u001b[0m\u001b[0mdataset_name\u001b[0m\u001b[0;34m,\u001b[0m\u001b[0;34m\u001b[0m\u001b[0;34m\u001b[0m\u001b[0m\n",
            "\u001b[0;32m/usr/local/lib/python3.11/dist-packages/datasets/builder.py\u001b[0m in \u001b[0;36m__init__\u001b[0;34m(self, cache_dir, dataset_name, config_name, hash, base_path, info, features, token, repo_id, data_files, data_dir, storage_options, writer_batch_size, **config_kwargs)\u001b[0m\n\u001b[1;32m    340\u001b[0m             \u001b[0mconfig_kwargs\u001b[0m\u001b[0;34m[\u001b[0m\u001b[0;34m\"data_dir\"\u001b[0m\u001b[0;34m]\u001b[0m \u001b[0;34m=\u001b[0m \u001b[0mdata_dir\u001b[0m\u001b[0;34m\u001b[0m\u001b[0;34m\u001b[0m\u001b[0m\n\u001b[1;32m    341\u001b[0m         \u001b[0mself\u001b[0m\u001b[0;34m.\u001b[0m\u001b[0mconfig_kwargs\u001b[0m \u001b[0;34m=\u001b[0m \u001b[0mconfig_kwargs\u001b[0m\u001b[0;34m\u001b[0m\u001b[0;34m\u001b[0m\u001b[0m\n\u001b[0;32m--> 342\u001b[0;31m         self.config, self.config_id = self._create_builder_config(\n\u001b[0m\u001b[1;32m    343\u001b[0m             \u001b[0mconfig_name\u001b[0m\u001b[0;34m=\u001b[0m\u001b[0mconfig_name\u001b[0m\u001b[0;34m,\u001b[0m\u001b[0;34m\u001b[0m\u001b[0;34m\u001b[0m\u001b[0m\n\u001b[1;32m    344\u001b[0m             \u001b[0mcustom_features\u001b[0m\u001b[0;34m=\u001b[0m\u001b[0mfeatures\u001b[0m\u001b[0;34m,\u001b[0m\u001b[0;34m\u001b[0m\u001b[0;34m\u001b[0m\u001b[0m\n",
            "\u001b[0;32m/usr/local/lib/python3.11/dist-packages/datasets/builder.py\u001b[0m in \u001b[0;36m_create_builder_config\u001b[0;34m(self, config_name, custom_features, **config_kwargs)\u001b[0m\n\u001b[1;32m    595\u001b[0m \u001b[0;34m\u001b[0m\u001b[0m\n\u001b[1;32m    596\u001b[0m         \u001b[0;31m# resolve data files if needed\u001b[0m\u001b[0;34m\u001b[0m\u001b[0;34m\u001b[0m\u001b[0m\n\u001b[0;32m--> 597\u001b[0;31m         builder_config._resolve_data_files(\n\u001b[0m\u001b[1;32m    598\u001b[0m             \u001b[0mbase_path\u001b[0m\u001b[0;34m=\u001b[0m\u001b[0mself\u001b[0m\u001b[0;34m.\u001b[0m\u001b[0mbase_path\u001b[0m\u001b[0;34m,\u001b[0m\u001b[0;34m\u001b[0m\u001b[0;34m\u001b[0m\u001b[0m\n\u001b[1;32m    599\u001b[0m             \u001b[0mdownload_config\u001b[0m\u001b[0;34m=\u001b[0m\u001b[0mDownloadConfig\u001b[0m\u001b[0;34m(\u001b[0m\u001b[0mtoken\u001b[0m\u001b[0;34m=\u001b[0m\u001b[0mself\u001b[0m\u001b[0;34m.\u001b[0m\u001b[0mtoken\u001b[0m\u001b[0;34m,\u001b[0m \u001b[0mstorage_options\u001b[0m\u001b[0;34m=\u001b[0m\u001b[0mself\u001b[0m\u001b[0;34m.\u001b[0m\u001b[0mstorage_options\u001b[0m\u001b[0;34m)\u001b[0m\u001b[0;34m,\u001b[0m\u001b[0;34m\u001b[0m\u001b[0;34m\u001b[0m\u001b[0m\n",
            "\u001b[0;32m/usr/local/lib/python3.11/dist-packages/datasets/builder.py\u001b[0m in \u001b[0;36m_resolve_data_files\u001b[0;34m(self, base_path, download_config)\u001b[0m\n\u001b[1;32m    204\u001b[0m         \u001b[0;32mif\u001b[0m \u001b[0misinstance\u001b[0m\u001b[0;34m(\u001b[0m\u001b[0mself\u001b[0m\u001b[0;34m.\u001b[0m\u001b[0mdata_files\u001b[0m\u001b[0;34m,\u001b[0m \u001b[0mDataFilesPatternsDict\u001b[0m\u001b[0;34m)\u001b[0m\u001b[0;34m:\u001b[0m\u001b[0;34m\u001b[0m\u001b[0;34m\u001b[0m\u001b[0m\n\u001b[1;32m    205\u001b[0m             \u001b[0mbase_path\u001b[0m \u001b[0;34m=\u001b[0m \u001b[0mxjoin\u001b[0m\u001b[0;34m(\u001b[0m\u001b[0mbase_path\u001b[0m\u001b[0;34m,\u001b[0m \u001b[0mself\u001b[0m\u001b[0;34m.\u001b[0m\u001b[0mdata_dir\u001b[0m\u001b[0;34m)\u001b[0m \u001b[0;32mif\u001b[0m \u001b[0mself\u001b[0m\u001b[0;34m.\u001b[0m\u001b[0mdata_dir\u001b[0m \u001b[0;32melse\u001b[0m \u001b[0mbase_path\u001b[0m\u001b[0;34m\u001b[0m\u001b[0;34m\u001b[0m\u001b[0m\n\u001b[0;32m--> 206\u001b[0;31m             \u001b[0mself\u001b[0m\u001b[0;34m.\u001b[0m\u001b[0mdata_files\u001b[0m \u001b[0;34m=\u001b[0m \u001b[0mself\u001b[0m\u001b[0;34m.\u001b[0m\u001b[0mdata_files\u001b[0m\u001b[0;34m.\u001b[0m\u001b[0mresolve\u001b[0m\u001b[0;34m(\u001b[0m\u001b[0mbase_path\u001b[0m\u001b[0;34m,\u001b[0m \u001b[0mdownload_config\u001b[0m\u001b[0;34m)\u001b[0m\u001b[0;34m\u001b[0m\u001b[0;34m\u001b[0m\u001b[0m\n\u001b[0m\u001b[1;32m    207\u001b[0m \u001b[0;34m\u001b[0m\u001b[0m\n\u001b[1;32m    208\u001b[0m \u001b[0;34m\u001b[0m\u001b[0m\n",
            "\u001b[0;32m/usr/local/lib/python3.11/dist-packages/datasets/data_files.py\u001b[0m in \u001b[0;36mresolve\u001b[0;34m(self, base_path, download_config)\u001b[0m\n\u001b[1;32m    816\u001b[0m         \u001b[0mout\u001b[0m \u001b[0;34m=\u001b[0m \u001b[0mDataFilesDict\u001b[0m\u001b[0;34m(\u001b[0m\u001b[0;34m)\u001b[0m\u001b[0;34m\u001b[0m\u001b[0;34m\u001b[0m\u001b[0m\n\u001b[1;32m    817\u001b[0m         \u001b[0;32mfor\u001b[0m \u001b[0mkey\u001b[0m\u001b[0;34m,\u001b[0m \u001b[0mdata_files_patterns_list\u001b[0m \u001b[0;32min\u001b[0m \u001b[0mself\u001b[0m\u001b[0;34m.\u001b[0m\u001b[0mitems\u001b[0m\u001b[0;34m(\u001b[0m\u001b[0;34m)\u001b[0m\u001b[0;34m:\u001b[0m\u001b[0;34m\u001b[0m\u001b[0;34m\u001b[0m\u001b[0m\n\u001b[0;32m--> 818\u001b[0;31m             \u001b[0mout\u001b[0m\u001b[0;34m[\u001b[0m\u001b[0mkey\u001b[0m\u001b[0;34m]\u001b[0m \u001b[0;34m=\u001b[0m \u001b[0mdata_files_patterns_list\u001b[0m\u001b[0;34m.\u001b[0m\u001b[0mresolve\u001b[0m\u001b[0;34m(\u001b[0m\u001b[0mbase_path\u001b[0m\u001b[0;34m,\u001b[0m \u001b[0mdownload_config\u001b[0m\u001b[0;34m)\u001b[0m\u001b[0;34m\u001b[0m\u001b[0;34m\u001b[0m\u001b[0m\n\u001b[0m\u001b[1;32m    819\u001b[0m         \u001b[0;32mreturn\u001b[0m \u001b[0mout\u001b[0m\u001b[0;34m\u001b[0m\u001b[0;34m\u001b[0m\u001b[0m\n\u001b[1;32m    820\u001b[0m \u001b[0;34m\u001b[0m\u001b[0m\n",
            "\u001b[0;32m/usr/local/lib/python3.11/dist-packages/datasets/data_files.py\u001b[0m in \u001b[0;36mresolve\u001b[0;34m(self, base_path, download_config)\u001b[0m\n\u001b[1;32m    769\u001b[0m             \u001b[0;32mtry\u001b[0m\u001b[0;34m:\u001b[0m\u001b[0;34m\u001b[0m\u001b[0;34m\u001b[0m\u001b[0m\n\u001b[1;32m    770\u001b[0m                 data_files.extend(\n\u001b[0;32m--> 771\u001b[0;31m                     resolve_pattern(\n\u001b[0m\u001b[1;32m    772\u001b[0m                         \u001b[0mpattern\u001b[0m\u001b[0;34m,\u001b[0m\u001b[0;34m\u001b[0m\u001b[0;34m\u001b[0m\u001b[0m\n\u001b[1;32m    773\u001b[0m                         \u001b[0mbase_path\u001b[0m\u001b[0;34m=\u001b[0m\u001b[0mbase_path\u001b[0m\u001b[0;34m,\u001b[0m\u001b[0;34m\u001b[0m\u001b[0;34m\u001b[0m\u001b[0m\n",
            "\u001b[0;32m/usr/local/lib/python3.11/dist-packages/datasets/data_files.py\u001b[0m in \u001b[0;36mresolve_pattern\u001b[0;34m(pattern, base_path, allowed_extensions, download_config)\u001b[0m\n\u001b[1;32m    386\u001b[0m     matched_paths = [\n\u001b[1;32m    387\u001b[0m         \u001b[0mfilepath\u001b[0m \u001b[0;32mif\u001b[0m \u001b[0mfilepath\u001b[0m\u001b[0;34m.\u001b[0m\u001b[0mstartswith\u001b[0m\u001b[0;34m(\u001b[0m\u001b[0mprotocol_prefix\u001b[0m\u001b[0;34m)\u001b[0m \u001b[0;32melse\u001b[0m \u001b[0mprotocol_prefix\u001b[0m \u001b[0;34m+\u001b[0m \u001b[0mfilepath\u001b[0m\u001b[0;34m\u001b[0m\u001b[0;34m\u001b[0m\u001b[0m\n\u001b[0;32m--> 388\u001b[0;31m         \u001b[0;32mfor\u001b[0m \u001b[0mfilepath\u001b[0m\u001b[0;34m,\u001b[0m \u001b[0minfo\u001b[0m \u001b[0;32min\u001b[0m \u001b[0mfs\u001b[0m\u001b[0;34m.\u001b[0m\u001b[0mglob\u001b[0m\u001b[0;34m(\u001b[0m\u001b[0mpattern\u001b[0m\u001b[0;34m,\u001b[0m \u001b[0mdetail\u001b[0m\u001b[0;34m=\u001b[0m\u001b[0;32mTrue\u001b[0m\u001b[0;34m,\u001b[0m \u001b[0;34m**\u001b[0m\u001b[0mglob_kwargs\u001b[0m\u001b[0;34m)\u001b[0m\u001b[0;34m.\u001b[0m\u001b[0mitems\u001b[0m\u001b[0;34m(\u001b[0m\u001b[0;34m)\u001b[0m\u001b[0;34m\u001b[0m\u001b[0;34m\u001b[0m\u001b[0m\n\u001b[0m\u001b[1;32m    389\u001b[0m         \u001b[0;32mif\u001b[0m \u001b[0minfo\u001b[0m\u001b[0;34m[\u001b[0m\u001b[0;34m\"type\"\u001b[0m\u001b[0;34m]\u001b[0m \u001b[0;34m==\u001b[0m \u001b[0;34m\"file\"\u001b[0m\u001b[0;34m\u001b[0m\u001b[0;34m\u001b[0m\u001b[0m\n\u001b[1;32m    390\u001b[0m         \u001b[0;32mand\u001b[0m \u001b[0;34m(\u001b[0m\u001b[0mxbasename\u001b[0m\u001b[0;34m(\u001b[0m\u001b[0mfilepath\u001b[0m\u001b[0;34m)\u001b[0m \u001b[0;32mnot\u001b[0m \u001b[0;32min\u001b[0m \u001b[0mfiles_to_ignore\u001b[0m\u001b[0;34m)\u001b[0m\u001b[0;34m\u001b[0m\u001b[0;34m\u001b[0m\u001b[0m\n",
            "\u001b[0;32m/usr/local/lib/python3.11/dist-packages/huggingface_hub/hf_file_system.py\u001b[0m in \u001b[0;36mglob\u001b[0;34m(self, path, **kwargs)\u001b[0m\n\u001b[1;32m    519\u001b[0m         \u001b[0mkwargs\u001b[0m \u001b[0;34m=\u001b[0m \u001b[0;34m{\u001b[0m\u001b[0;34m\"expand_info\"\u001b[0m\u001b[0;34m:\u001b[0m \u001b[0mkwargs\u001b[0m\u001b[0;34m.\u001b[0m\u001b[0mget\u001b[0m\u001b[0;34m(\u001b[0m\u001b[0;34m\"detail\"\u001b[0m\u001b[0;34m,\u001b[0m \u001b[0;32mFalse\u001b[0m\u001b[0;34m)\u001b[0m\u001b[0;34m,\u001b[0m \u001b[0;34m**\u001b[0m\u001b[0mkwargs\u001b[0m\u001b[0;34m}\u001b[0m\u001b[0;34m\u001b[0m\u001b[0;34m\u001b[0m\u001b[0m\n\u001b[1;32m    520\u001b[0m         \u001b[0mpath\u001b[0m \u001b[0;34m=\u001b[0m \u001b[0mself\u001b[0m\u001b[0;34m.\u001b[0m\u001b[0mresolve_path\u001b[0m\u001b[0;34m(\u001b[0m\u001b[0mpath\u001b[0m\u001b[0;34m,\u001b[0m \u001b[0mrevision\u001b[0m\u001b[0;34m=\u001b[0m\u001b[0mkwargs\u001b[0m\u001b[0;34m.\u001b[0m\u001b[0mget\u001b[0m\u001b[0;34m(\u001b[0m\u001b[0;34m\"revision\"\u001b[0m\u001b[0;34m)\u001b[0m\u001b[0;34m)\u001b[0m\u001b[0;34m.\u001b[0m\u001b[0munresolve\u001b[0m\u001b[0;34m(\u001b[0m\u001b[0;34m)\u001b[0m\u001b[0;34m\u001b[0m\u001b[0;34m\u001b[0m\u001b[0m\n\u001b[0;32m--> 521\u001b[0;31m         \u001b[0;32mreturn\u001b[0m \u001b[0msuper\u001b[0m\u001b[0;34m(\u001b[0m\u001b[0;34m)\u001b[0m\u001b[0;34m.\u001b[0m\u001b[0mglob\u001b[0m\u001b[0;34m(\u001b[0m\u001b[0mpath\u001b[0m\u001b[0;34m,\u001b[0m \u001b[0;34m**\u001b[0m\u001b[0mkwargs\u001b[0m\u001b[0;34m)\u001b[0m\u001b[0;34m\u001b[0m\u001b[0;34m\u001b[0m\u001b[0m\n\u001b[0m\u001b[1;32m    522\u001b[0m \u001b[0;34m\u001b[0m\u001b[0m\n\u001b[1;32m    523\u001b[0m     def find(\n",
            "\u001b[0;32m/usr/local/lib/python3.11/dist-packages/fsspec/spec.py\u001b[0m in \u001b[0;36mglob\u001b[0;34m(self, path, maxdepth, **kwargs)\u001b[0m\n\u001b[1;32m    609\u001b[0m                 \u001b[0mdepth\u001b[0m \u001b[0;34m=\u001b[0m \u001b[0;32mNone\u001b[0m\u001b[0;34m\u001b[0m\u001b[0;34m\u001b[0m\u001b[0m\n\u001b[1;32m    610\u001b[0m \u001b[0;34m\u001b[0m\u001b[0m\n\u001b[0;32m--> 611\u001b[0;31m         \u001b[0mallpaths\u001b[0m \u001b[0;34m=\u001b[0m \u001b[0mself\u001b[0m\u001b[0;34m.\u001b[0m\u001b[0mfind\u001b[0m\u001b[0;34m(\u001b[0m\u001b[0mroot\u001b[0m\u001b[0;34m,\u001b[0m \u001b[0mmaxdepth\u001b[0m\u001b[0;34m=\u001b[0m\u001b[0mdepth\u001b[0m\u001b[0;34m,\u001b[0m \u001b[0mwithdirs\u001b[0m\u001b[0;34m=\u001b[0m\u001b[0;32mTrue\u001b[0m\u001b[0;34m,\u001b[0m \u001b[0mdetail\u001b[0m\u001b[0;34m=\u001b[0m\u001b[0;32mTrue\u001b[0m\u001b[0;34m,\u001b[0m \u001b[0;34m**\u001b[0m\u001b[0mkwargs\u001b[0m\u001b[0;34m)\u001b[0m\u001b[0;34m\u001b[0m\u001b[0;34m\u001b[0m\u001b[0m\n\u001b[0m\u001b[1;32m    612\u001b[0m \u001b[0;34m\u001b[0m\u001b[0m\n\u001b[1;32m    613\u001b[0m         \u001b[0mpattern\u001b[0m \u001b[0;34m=\u001b[0m \u001b[0mglob_translate\u001b[0m\u001b[0;34m(\u001b[0m\u001b[0mpath\u001b[0m \u001b[0;34m+\u001b[0m \u001b[0;34m(\u001b[0m\u001b[0;34m\"/\"\u001b[0m \u001b[0;32mif\u001b[0m \u001b[0mends_with_sep\u001b[0m \u001b[0;32melse\u001b[0m \u001b[0;34m\"\"\u001b[0m\u001b[0;34m)\u001b[0m\u001b[0;34m)\u001b[0m\u001b[0;34m\u001b[0m\u001b[0;34m\u001b[0m\u001b[0m\n",
            "\u001b[0;32m/usr/local/lib/python3.11/dist-packages/huggingface_hub/hf_file_system.py\u001b[0m in \u001b[0;36mfind\u001b[0;34m(self, path, maxdepth, withdirs, detail, refresh, revision, **kwargs)\u001b[0m\n\u001b[1;32m    554\u001b[0m         \"\"\"\n\u001b[1;32m    555\u001b[0m         \u001b[0;32mif\u001b[0m \u001b[0mmaxdepth\u001b[0m\u001b[0;34m:\u001b[0m\u001b[0;34m\u001b[0m\u001b[0;34m\u001b[0m\u001b[0m\n\u001b[0;32m--> 556\u001b[0;31m             return super().find(\n\u001b[0m\u001b[1;32m    557\u001b[0m                 \u001b[0mpath\u001b[0m\u001b[0;34m,\u001b[0m \u001b[0mmaxdepth\u001b[0m\u001b[0;34m=\u001b[0m\u001b[0mmaxdepth\u001b[0m\u001b[0;34m,\u001b[0m \u001b[0mwithdirs\u001b[0m\u001b[0;34m=\u001b[0m\u001b[0mwithdirs\u001b[0m\u001b[0;34m,\u001b[0m \u001b[0mdetail\u001b[0m\u001b[0;34m=\u001b[0m\u001b[0mdetail\u001b[0m\u001b[0;34m,\u001b[0m \u001b[0mrefresh\u001b[0m\u001b[0;34m=\u001b[0m\u001b[0mrefresh\u001b[0m\u001b[0;34m,\u001b[0m \u001b[0mrevision\u001b[0m\u001b[0;34m=\u001b[0m\u001b[0mrevision\u001b[0m\u001b[0;34m,\u001b[0m \u001b[0;34m**\u001b[0m\u001b[0mkwargs\u001b[0m\u001b[0;34m\u001b[0m\u001b[0;34m\u001b[0m\u001b[0m\n\u001b[1;32m    558\u001b[0m             )\n",
            "\u001b[0;32m/usr/local/lib/python3.11/dist-packages/fsspec/spec.py\u001b[0m in \u001b[0;36mfind\u001b[0;34m(self, path, maxdepth, withdirs, detail, **kwargs)\u001b[0m\n\u001b[1;32m    500\u001b[0m         \u001b[0;31m# This is needed for posix glob compliance\u001b[0m\u001b[0;34m\u001b[0m\u001b[0;34m\u001b[0m\u001b[0m\n\u001b[1;32m    501\u001b[0m         \u001b[0;32mif\u001b[0m \u001b[0mwithdirs\u001b[0m \u001b[0;32mand\u001b[0m \u001b[0mpath\u001b[0m \u001b[0;34m!=\u001b[0m \u001b[0;34m\"\"\u001b[0m \u001b[0;32mand\u001b[0m \u001b[0mself\u001b[0m\u001b[0;34m.\u001b[0m\u001b[0misdir\u001b[0m\u001b[0;34m(\u001b[0m\u001b[0mpath\u001b[0m\u001b[0;34m)\u001b[0m\u001b[0;34m:\u001b[0m\u001b[0;34m\u001b[0m\u001b[0;34m\u001b[0m\u001b[0m\n\u001b[0;32m--> 502\u001b[0;31m             \u001b[0mout\u001b[0m\u001b[0;34m[\u001b[0m\u001b[0mpath\u001b[0m\u001b[0;34m]\u001b[0m \u001b[0;34m=\u001b[0m \u001b[0mself\u001b[0m\u001b[0;34m.\u001b[0m\u001b[0minfo\u001b[0m\u001b[0;34m(\u001b[0m\u001b[0mpath\u001b[0m\u001b[0;34m)\u001b[0m\u001b[0;34m\u001b[0m\u001b[0;34m\u001b[0m\u001b[0m\n\u001b[0m\u001b[1;32m    503\u001b[0m \u001b[0;34m\u001b[0m\u001b[0m\n\u001b[1;32m    504\u001b[0m         \u001b[0;32mfor\u001b[0m \u001b[0m_\u001b[0m\u001b[0;34m,\u001b[0m \u001b[0mdirs\u001b[0m\u001b[0;34m,\u001b[0m \u001b[0mfiles\u001b[0m \u001b[0;32min\u001b[0m \u001b[0mself\u001b[0m\u001b[0;34m.\u001b[0m\u001b[0mwalk\u001b[0m\u001b[0;34m(\u001b[0m\u001b[0mpath\u001b[0m\u001b[0;34m,\u001b[0m \u001b[0mmaxdepth\u001b[0m\u001b[0;34m,\u001b[0m \u001b[0mdetail\u001b[0m\u001b[0;34m=\u001b[0m\u001b[0;32mTrue\u001b[0m\u001b[0;34m,\u001b[0m \u001b[0;34m**\u001b[0m\u001b[0mkwargs\u001b[0m\u001b[0;34m)\u001b[0m\u001b[0;34m:\u001b[0m\u001b[0;34m\u001b[0m\u001b[0;34m\u001b[0m\u001b[0m\n",
            "\u001b[0;32m/usr/local/lib/python3.11/dist-packages/huggingface_hub/hf_file_system.py\u001b[0m in \u001b[0;36minfo\u001b[0;34m(self, path, refresh, revision, **kwargs)\u001b[0m\n\u001b[1;32m    717\u001b[0m                 \u001b[0mout\u001b[0m \u001b[0;34m=\u001b[0m \u001b[0mout1\u001b[0m\u001b[0;34m[\u001b[0m\u001b[0;36m0\u001b[0m\u001b[0;34m]\u001b[0m\u001b[0;34m\u001b[0m\u001b[0;34m\u001b[0m\u001b[0m\n\u001b[1;32m    718\u001b[0m             \u001b[0;32mif\u001b[0m \u001b[0mrefresh\u001b[0m \u001b[0;32mor\u001b[0m \u001b[0mout\u001b[0m \u001b[0;32mis\u001b[0m \u001b[0;32mNone\u001b[0m \u001b[0;32mor\u001b[0m \u001b[0;34m(\u001b[0m\u001b[0mexpand_info\u001b[0m \u001b[0;32mand\u001b[0m \u001b[0mout\u001b[0m \u001b[0;32mand\u001b[0m \u001b[0mout\u001b[0m\u001b[0;34m[\u001b[0m\u001b[0;34m\"last_commit\"\u001b[0m\u001b[0;34m]\u001b[0m \u001b[0;32mis\u001b[0m \u001b[0;32mNone\u001b[0m\u001b[0;34m)\u001b[0m\u001b[0;34m:\u001b[0m\u001b[0;34m\u001b[0m\u001b[0;34m\u001b[0m\u001b[0m\n\u001b[0;32m--> 719\u001b[0;31m                 paths_info = self._api.get_paths_info(\n\u001b[0m\u001b[1;32m    720\u001b[0m                     \u001b[0mresolved_path\u001b[0m\u001b[0;34m.\u001b[0m\u001b[0mrepo_id\u001b[0m\u001b[0;34m,\u001b[0m\u001b[0;34m\u001b[0m\u001b[0;34m\u001b[0m\u001b[0m\n\u001b[1;32m    721\u001b[0m                     \u001b[0mresolved_path\u001b[0m\u001b[0;34m.\u001b[0m\u001b[0mpath_in_repo\u001b[0m\u001b[0;34m,\u001b[0m\u001b[0;34m\u001b[0m\u001b[0;34m\u001b[0m\u001b[0m\n",
            "\u001b[0;32m/usr/local/lib/python3.11/dist-packages/huggingface_hub/utils/_validators.py\u001b[0m in \u001b[0;36m_inner_fn\u001b[0;34m(*args, **kwargs)\u001b[0m\n\u001b[1;32m    112\u001b[0m             \u001b[0mkwargs\u001b[0m \u001b[0;34m=\u001b[0m \u001b[0msmoothly_deprecate_use_auth_token\u001b[0m\u001b[0;34m(\u001b[0m\u001b[0mfn_name\u001b[0m\u001b[0;34m=\u001b[0m\u001b[0mfn\u001b[0m\u001b[0;34m.\u001b[0m\u001b[0m__name__\u001b[0m\u001b[0;34m,\u001b[0m \u001b[0mhas_token\u001b[0m\u001b[0;34m=\u001b[0m\u001b[0mhas_token\u001b[0m\u001b[0;34m,\u001b[0m \u001b[0mkwargs\u001b[0m\u001b[0;34m=\u001b[0m\u001b[0mkwargs\u001b[0m\u001b[0;34m)\u001b[0m\u001b[0;34m\u001b[0m\u001b[0;34m\u001b[0m\u001b[0m\n\u001b[1;32m    113\u001b[0m \u001b[0;34m\u001b[0m\u001b[0m\n\u001b[0;32m--> 114\u001b[0;31m         \u001b[0;32mreturn\u001b[0m \u001b[0mfn\u001b[0m\u001b[0;34m(\u001b[0m\u001b[0;34m*\u001b[0m\u001b[0margs\u001b[0m\u001b[0;34m,\u001b[0m \u001b[0;34m**\u001b[0m\u001b[0mkwargs\u001b[0m\u001b[0;34m)\u001b[0m\u001b[0;34m\u001b[0m\u001b[0;34m\u001b[0m\u001b[0m\n\u001b[0m\u001b[1;32m    115\u001b[0m \u001b[0;34m\u001b[0m\u001b[0m\n\u001b[1;32m    116\u001b[0m     \u001b[0;32mreturn\u001b[0m \u001b[0m_inner_fn\u001b[0m  \u001b[0;31m# type: ignore\u001b[0m\u001b[0;34m\u001b[0m\u001b[0;34m\u001b[0m\u001b[0m\n",
            "\u001b[0;32m/usr/local/lib/python3.11/dist-packages/huggingface_hub/hf_api.py\u001b[0m in \u001b[0;36mget_paths_info\u001b[0;34m(self, repo_id, paths, expand, revision, repo_type, token)\u001b[0m\n\u001b[1;32m   3293\u001b[0m         \u001b[0mheaders\u001b[0m \u001b[0;34m=\u001b[0m \u001b[0mself\u001b[0m\u001b[0;34m.\u001b[0m\u001b[0m_build_hf_headers\u001b[0m\u001b[0;34m(\u001b[0m\u001b[0mtoken\u001b[0m\u001b[0;34m=\u001b[0m\u001b[0mtoken\u001b[0m\u001b[0;34m)\u001b[0m\u001b[0;34m\u001b[0m\u001b[0;34m\u001b[0m\u001b[0m\n\u001b[1;32m   3294\u001b[0m \u001b[0;34m\u001b[0m\u001b[0m\n\u001b[0;32m-> 3295\u001b[0;31m         response = get_session().post(\n\u001b[0m\u001b[1;32m   3296\u001b[0m             \u001b[0;34mf\"{self.endpoint}/api/{repo_type}s/{repo_id}/paths-info/{revision}\"\u001b[0m\u001b[0;34m,\u001b[0m\u001b[0;34m\u001b[0m\u001b[0;34m\u001b[0m\u001b[0m\n\u001b[1;32m   3297\u001b[0m             data={\n",
            "\u001b[0;32m/usr/local/lib/python3.11/dist-packages/requests/sessions.py\u001b[0m in \u001b[0;36mpost\u001b[0;34m(self, url, data, json, **kwargs)\u001b[0m\n\u001b[1;32m    635\u001b[0m         \"\"\"\n\u001b[1;32m    636\u001b[0m \u001b[0;34m\u001b[0m\u001b[0m\n\u001b[0;32m--> 637\u001b[0;31m         \u001b[0;32mreturn\u001b[0m \u001b[0mself\u001b[0m\u001b[0;34m.\u001b[0m\u001b[0mrequest\u001b[0m\u001b[0;34m(\u001b[0m\u001b[0;34m\"POST\"\u001b[0m\u001b[0;34m,\u001b[0m \u001b[0murl\u001b[0m\u001b[0;34m,\u001b[0m \u001b[0mdata\u001b[0m\u001b[0;34m=\u001b[0m\u001b[0mdata\u001b[0m\u001b[0;34m,\u001b[0m \u001b[0mjson\u001b[0m\u001b[0;34m=\u001b[0m\u001b[0mjson\u001b[0m\u001b[0;34m,\u001b[0m \u001b[0;34m**\u001b[0m\u001b[0mkwargs\u001b[0m\u001b[0;34m)\u001b[0m\u001b[0;34m\u001b[0m\u001b[0;34m\u001b[0m\u001b[0m\n\u001b[0m\u001b[1;32m    638\u001b[0m \u001b[0;34m\u001b[0m\u001b[0m\n\u001b[1;32m    639\u001b[0m     \u001b[0;32mdef\u001b[0m \u001b[0mput\u001b[0m\u001b[0;34m(\u001b[0m\u001b[0mself\u001b[0m\u001b[0;34m,\u001b[0m \u001b[0murl\u001b[0m\u001b[0;34m,\u001b[0m \u001b[0mdata\u001b[0m\u001b[0;34m=\u001b[0m\u001b[0;32mNone\u001b[0m\u001b[0;34m,\u001b[0m \u001b[0;34m**\u001b[0m\u001b[0mkwargs\u001b[0m\u001b[0;34m)\u001b[0m\u001b[0;34m:\u001b[0m\u001b[0;34m\u001b[0m\u001b[0;34m\u001b[0m\u001b[0m\n",
            "\u001b[0;32m/usr/local/lib/python3.11/dist-packages/requests/sessions.py\u001b[0m in \u001b[0;36mrequest\u001b[0;34m(self, method, url, params, data, headers, cookies, files, auth, timeout, allow_redirects, proxies, hooks, stream, verify, cert, json)\u001b[0m\n\u001b[1;32m    587\u001b[0m         }\n\u001b[1;32m    588\u001b[0m         \u001b[0msend_kwargs\u001b[0m\u001b[0;34m.\u001b[0m\u001b[0mupdate\u001b[0m\u001b[0;34m(\u001b[0m\u001b[0msettings\u001b[0m\u001b[0;34m)\u001b[0m\u001b[0;34m\u001b[0m\u001b[0;34m\u001b[0m\u001b[0m\n\u001b[0;32m--> 589\u001b[0;31m         \u001b[0mresp\u001b[0m \u001b[0;34m=\u001b[0m \u001b[0mself\u001b[0m\u001b[0;34m.\u001b[0m\u001b[0msend\u001b[0m\u001b[0;34m(\u001b[0m\u001b[0mprep\u001b[0m\u001b[0;34m,\u001b[0m \u001b[0;34m**\u001b[0m\u001b[0msend_kwargs\u001b[0m\u001b[0;34m)\u001b[0m\u001b[0;34m\u001b[0m\u001b[0;34m\u001b[0m\u001b[0m\n\u001b[0m\u001b[1;32m    590\u001b[0m \u001b[0;34m\u001b[0m\u001b[0m\n\u001b[1;32m    591\u001b[0m         \u001b[0;32mreturn\u001b[0m \u001b[0mresp\u001b[0m\u001b[0;34m\u001b[0m\u001b[0;34m\u001b[0m\u001b[0m\n",
            "\u001b[0;32m/usr/local/lib/python3.11/dist-packages/requests/sessions.py\u001b[0m in \u001b[0;36msend\u001b[0;34m(self, request, **kwargs)\u001b[0m\n\u001b[1;32m    722\u001b[0m             \u001b[0;31m# Redirect resolving generator.\u001b[0m\u001b[0;34m\u001b[0m\u001b[0;34m\u001b[0m\u001b[0m\n\u001b[1;32m    723\u001b[0m             \u001b[0mgen\u001b[0m \u001b[0;34m=\u001b[0m \u001b[0mself\u001b[0m\u001b[0;34m.\u001b[0m\u001b[0mresolve_redirects\u001b[0m\u001b[0;34m(\u001b[0m\u001b[0mr\u001b[0m\u001b[0;34m,\u001b[0m \u001b[0mrequest\u001b[0m\u001b[0;34m,\u001b[0m \u001b[0;34m**\u001b[0m\u001b[0mkwargs\u001b[0m\u001b[0;34m)\u001b[0m\u001b[0;34m\u001b[0m\u001b[0;34m\u001b[0m\u001b[0m\n\u001b[0;32m--> 724\u001b[0;31m             \u001b[0mhistory\u001b[0m \u001b[0;34m=\u001b[0m \u001b[0;34m[\u001b[0m\u001b[0mresp\u001b[0m \u001b[0;32mfor\u001b[0m \u001b[0mresp\u001b[0m \u001b[0;32min\u001b[0m \u001b[0mgen\u001b[0m\u001b[0;34m]\u001b[0m\u001b[0;34m\u001b[0m\u001b[0;34m\u001b[0m\u001b[0m\n\u001b[0m\u001b[1;32m    725\u001b[0m         \u001b[0;32melse\u001b[0m\u001b[0;34m:\u001b[0m\u001b[0;34m\u001b[0m\u001b[0;34m\u001b[0m\u001b[0m\n\u001b[1;32m    726\u001b[0m             \u001b[0mhistory\u001b[0m \u001b[0;34m=\u001b[0m \u001b[0;34m[\u001b[0m\u001b[0;34m]\u001b[0m\u001b[0;34m\u001b[0m\u001b[0;34m\u001b[0m\u001b[0m\n",
            "\u001b[0;32m/usr/local/lib/python3.11/dist-packages/requests/sessions.py\u001b[0m in \u001b[0;36m<listcomp>\u001b[0;34m(.0)\u001b[0m\n\u001b[1;32m    722\u001b[0m             \u001b[0;31m# Redirect resolving generator.\u001b[0m\u001b[0;34m\u001b[0m\u001b[0;34m\u001b[0m\u001b[0m\n\u001b[1;32m    723\u001b[0m             \u001b[0mgen\u001b[0m \u001b[0;34m=\u001b[0m \u001b[0mself\u001b[0m\u001b[0;34m.\u001b[0m\u001b[0mresolve_redirects\u001b[0m\u001b[0;34m(\u001b[0m\u001b[0mr\u001b[0m\u001b[0;34m,\u001b[0m \u001b[0mrequest\u001b[0m\u001b[0;34m,\u001b[0m \u001b[0;34m**\u001b[0m\u001b[0mkwargs\u001b[0m\u001b[0;34m)\u001b[0m\u001b[0;34m\u001b[0m\u001b[0;34m\u001b[0m\u001b[0m\n\u001b[0;32m--> 724\u001b[0;31m             \u001b[0mhistory\u001b[0m \u001b[0;34m=\u001b[0m \u001b[0;34m[\u001b[0m\u001b[0mresp\u001b[0m \u001b[0;32mfor\u001b[0m \u001b[0mresp\u001b[0m \u001b[0;32min\u001b[0m \u001b[0mgen\u001b[0m\u001b[0;34m]\u001b[0m\u001b[0;34m\u001b[0m\u001b[0;34m\u001b[0m\u001b[0m\n\u001b[0m\u001b[1;32m    725\u001b[0m         \u001b[0;32melse\u001b[0m\u001b[0;34m:\u001b[0m\u001b[0;34m\u001b[0m\u001b[0;34m\u001b[0m\u001b[0m\n\u001b[1;32m    726\u001b[0m             \u001b[0mhistory\u001b[0m \u001b[0;34m=\u001b[0m \u001b[0;34m[\u001b[0m\u001b[0;34m]\u001b[0m\u001b[0;34m\u001b[0m\u001b[0;34m\u001b[0m\u001b[0m\n",
            "\u001b[0;32m/usr/local/lib/python3.11/dist-packages/requests/sessions.py\u001b[0m in \u001b[0;36mresolve_redirects\u001b[0;34m(self, resp, req, stream, timeout, verify, cert, proxies, yield_requests, **adapter_kwargs)\u001b[0m\n\u001b[1;32m    263\u001b[0m                 \u001b[0;32myield\u001b[0m \u001b[0mreq\u001b[0m\u001b[0;34m\u001b[0m\u001b[0;34m\u001b[0m\u001b[0m\n\u001b[1;32m    264\u001b[0m             \u001b[0;32melse\u001b[0m\u001b[0;34m:\u001b[0m\u001b[0;34m\u001b[0m\u001b[0;34m\u001b[0m\u001b[0m\n\u001b[0;32m--> 265\u001b[0;31m                 resp = self.send(\n\u001b[0m\u001b[1;32m    266\u001b[0m                     \u001b[0mreq\u001b[0m\u001b[0;34m,\u001b[0m\u001b[0;34m\u001b[0m\u001b[0;34m\u001b[0m\u001b[0m\n\u001b[1;32m    267\u001b[0m                     \u001b[0mstream\u001b[0m\u001b[0;34m=\u001b[0m\u001b[0mstream\u001b[0m\u001b[0;34m,\u001b[0m\u001b[0;34m\u001b[0m\u001b[0;34m\u001b[0m\u001b[0m\n",
            "\u001b[0;32m/usr/local/lib/python3.11/dist-packages/requests/sessions.py\u001b[0m in \u001b[0;36msend\u001b[0;34m(self, request, **kwargs)\u001b[0m\n\u001b[1;32m    701\u001b[0m \u001b[0;34m\u001b[0m\u001b[0m\n\u001b[1;32m    702\u001b[0m         \u001b[0;31m# Send the request\u001b[0m\u001b[0;34m\u001b[0m\u001b[0;34m\u001b[0m\u001b[0m\n\u001b[0;32m--> 703\u001b[0;31m         \u001b[0mr\u001b[0m \u001b[0;34m=\u001b[0m \u001b[0madapter\u001b[0m\u001b[0;34m.\u001b[0m\u001b[0msend\u001b[0m\u001b[0;34m(\u001b[0m\u001b[0mrequest\u001b[0m\u001b[0;34m,\u001b[0m \u001b[0;34m**\u001b[0m\u001b[0mkwargs\u001b[0m\u001b[0;34m)\u001b[0m\u001b[0;34m\u001b[0m\u001b[0;34m\u001b[0m\u001b[0m\n\u001b[0m\u001b[1;32m    704\u001b[0m \u001b[0;34m\u001b[0m\u001b[0m\n\u001b[1;32m    705\u001b[0m         \u001b[0;31m# Total elapsed time of the request (approximately)\u001b[0m\u001b[0;34m\u001b[0m\u001b[0;34m\u001b[0m\u001b[0m\n",
            "\u001b[0;32m/usr/local/lib/python3.11/dist-packages/huggingface_hub/utils/_http.py\u001b[0m in \u001b[0;36msend\u001b[0;34m(self, request, *args, **kwargs)\u001b[0m\n\u001b[1;32m     91\u001b[0m         \u001b[0;34m\"\"\"Catch any RequestException to append request id to the error message for debugging.\"\"\"\u001b[0m\u001b[0;34m\u001b[0m\u001b[0;34m\u001b[0m\u001b[0m\n\u001b[1;32m     92\u001b[0m         \u001b[0;32mtry\u001b[0m\u001b[0;34m:\u001b[0m\u001b[0;34m\u001b[0m\u001b[0;34m\u001b[0m\u001b[0m\n\u001b[0;32m---> 93\u001b[0;31m             \u001b[0;32mreturn\u001b[0m \u001b[0msuper\u001b[0m\u001b[0;34m(\u001b[0m\u001b[0;34m)\u001b[0m\u001b[0;34m.\u001b[0m\u001b[0msend\u001b[0m\u001b[0;34m(\u001b[0m\u001b[0mrequest\u001b[0m\u001b[0;34m,\u001b[0m \u001b[0;34m*\u001b[0m\u001b[0margs\u001b[0m\u001b[0;34m,\u001b[0m \u001b[0;34m**\u001b[0m\u001b[0mkwargs\u001b[0m\u001b[0;34m)\u001b[0m\u001b[0;34m\u001b[0m\u001b[0;34m\u001b[0m\u001b[0m\n\u001b[0m\u001b[1;32m     94\u001b[0m         \u001b[0;32mexcept\u001b[0m \u001b[0mrequests\u001b[0m\u001b[0;34m.\u001b[0m\u001b[0mRequestException\u001b[0m \u001b[0;32mas\u001b[0m \u001b[0me\u001b[0m\u001b[0;34m:\u001b[0m\u001b[0;34m\u001b[0m\u001b[0;34m\u001b[0m\u001b[0m\n\u001b[1;32m     95\u001b[0m             \u001b[0mrequest_id\u001b[0m \u001b[0;34m=\u001b[0m \u001b[0mrequest\u001b[0m\u001b[0;34m.\u001b[0m\u001b[0mheaders\u001b[0m\u001b[0;34m.\u001b[0m\u001b[0mget\u001b[0m\u001b[0;34m(\u001b[0m\u001b[0mX_AMZN_TRACE_ID\u001b[0m\u001b[0;34m)\u001b[0m\u001b[0;34m\u001b[0m\u001b[0;34m\u001b[0m\u001b[0m\n",
            "\u001b[0;32m/usr/local/lib/python3.11/dist-packages/requests/adapters.py\u001b[0m in \u001b[0;36msend\u001b[0;34m(self, request, stream, timeout, verify, cert, proxies)\u001b[0m\n\u001b[1;32m    665\u001b[0m \u001b[0;34m\u001b[0m\u001b[0m\n\u001b[1;32m    666\u001b[0m         \u001b[0;32mtry\u001b[0m\u001b[0;34m:\u001b[0m\u001b[0;34m\u001b[0m\u001b[0;34m\u001b[0m\u001b[0m\n\u001b[0;32m--> 667\u001b[0;31m             resp = conn.urlopen(\n\u001b[0m\u001b[1;32m    668\u001b[0m                 \u001b[0mmethod\u001b[0m\u001b[0;34m=\u001b[0m\u001b[0mrequest\u001b[0m\u001b[0;34m.\u001b[0m\u001b[0mmethod\u001b[0m\u001b[0;34m,\u001b[0m\u001b[0;34m\u001b[0m\u001b[0;34m\u001b[0m\u001b[0m\n\u001b[1;32m    669\u001b[0m                 \u001b[0murl\u001b[0m\u001b[0;34m=\u001b[0m\u001b[0murl\u001b[0m\u001b[0;34m,\u001b[0m\u001b[0;34m\u001b[0m\u001b[0;34m\u001b[0m\u001b[0m\n",
            "\u001b[0;32m/usr/local/lib/python3.11/dist-packages/urllib3/connectionpool.py\u001b[0m in \u001b[0;36murlopen\u001b[0;34m(self, method, url, body, headers, retries, redirect, assert_same_host, timeout, pool_timeout, release_conn, chunked, body_pos, preload_content, decode_content, **response_kw)\u001b[0m\n\u001b[1;32m    785\u001b[0m \u001b[0;34m\u001b[0m\u001b[0m\n\u001b[1;32m    786\u001b[0m             \u001b[0;31m# Make the request on the HTTPConnection object\u001b[0m\u001b[0;34m\u001b[0m\u001b[0;34m\u001b[0m\u001b[0m\n\u001b[0;32m--> 787\u001b[0;31m             response = self._make_request(\n\u001b[0m\u001b[1;32m    788\u001b[0m                 \u001b[0mconn\u001b[0m\u001b[0;34m,\u001b[0m\u001b[0;34m\u001b[0m\u001b[0;34m\u001b[0m\u001b[0m\n\u001b[1;32m    789\u001b[0m                 \u001b[0mmethod\u001b[0m\u001b[0;34m,\u001b[0m\u001b[0;34m\u001b[0m\u001b[0;34m\u001b[0m\u001b[0m\n",
            "\u001b[0;32m/usr/local/lib/python3.11/dist-packages/urllib3/connectionpool.py\u001b[0m in \u001b[0;36m_make_request\u001b[0;34m(self, conn, method, url, body, headers, retries, timeout, chunked, response_conn, preload_content, decode_content, enforce_content_length)\u001b[0m\n\u001b[1;32m    532\u001b[0m         \u001b[0;31m# Receive the response from the server\u001b[0m\u001b[0;34m\u001b[0m\u001b[0;34m\u001b[0m\u001b[0m\n\u001b[1;32m    533\u001b[0m         \u001b[0;32mtry\u001b[0m\u001b[0;34m:\u001b[0m\u001b[0;34m\u001b[0m\u001b[0;34m\u001b[0m\u001b[0m\n\u001b[0;32m--> 534\u001b[0;31m             \u001b[0mresponse\u001b[0m \u001b[0;34m=\u001b[0m \u001b[0mconn\u001b[0m\u001b[0;34m.\u001b[0m\u001b[0mgetresponse\u001b[0m\u001b[0;34m(\u001b[0m\u001b[0;34m)\u001b[0m\u001b[0;34m\u001b[0m\u001b[0;34m\u001b[0m\u001b[0m\n\u001b[0m\u001b[1;32m    535\u001b[0m         \u001b[0;32mexcept\u001b[0m \u001b[0;34m(\u001b[0m\u001b[0mBaseSSLError\u001b[0m\u001b[0;34m,\u001b[0m \u001b[0mOSError\u001b[0m\u001b[0;34m)\u001b[0m \u001b[0;32mas\u001b[0m \u001b[0me\u001b[0m\u001b[0;34m:\u001b[0m\u001b[0;34m\u001b[0m\u001b[0;34m\u001b[0m\u001b[0m\n\u001b[1;32m    536\u001b[0m             \u001b[0mself\u001b[0m\u001b[0;34m.\u001b[0m\u001b[0m_raise_timeout\u001b[0m\u001b[0;34m(\u001b[0m\u001b[0merr\u001b[0m\u001b[0;34m=\u001b[0m\u001b[0me\u001b[0m\u001b[0;34m,\u001b[0m \u001b[0murl\u001b[0m\u001b[0;34m=\u001b[0m\u001b[0murl\u001b[0m\u001b[0;34m,\u001b[0m \u001b[0mtimeout_value\u001b[0m\u001b[0;34m=\u001b[0m\u001b[0mread_timeout\u001b[0m\u001b[0;34m)\u001b[0m\u001b[0;34m\u001b[0m\u001b[0;34m\u001b[0m\u001b[0m\n",
            "\u001b[0;32m/usr/local/lib/python3.11/dist-packages/urllib3/connection.py\u001b[0m in \u001b[0;36mgetresponse\u001b[0;34m(self)\u001b[0m\n\u001b[1;32m    514\u001b[0m \u001b[0;34m\u001b[0m\u001b[0m\n\u001b[1;32m    515\u001b[0m         \u001b[0;31m# Get the response from http.client.HTTPConnection\u001b[0m\u001b[0;34m\u001b[0m\u001b[0;34m\u001b[0m\u001b[0m\n\u001b[0;32m--> 516\u001b[0;31m         \u001b[0mhttplib_response\u001b[0m \u001b[0;34m=\u001b[0m \u001b[0msuper\u001b[0m\u001b[0;34m(\u001b[0m\u001b[0;34m)\u001b[0m\u001b[0;34m.\u001b[0m\u001b[0mgetresponse\u001b[0m\u001b[0;34m(\u001b[0m\u001b[0;34m)\u001b[0m\u001b[0;34m\u001b[0m\u001b[0;34m\u001b[0m\u001b[0m\n\u001b[0m\u001b[1;32m    517\u001b[0m \u001b[0;34m\u001b[0m\u001b[0m\n\u001b[1;32m    518\u001b[0m         \u001b[0;32mtry\u001b[0m\u001b[0;34m:\u001b[0m\u001b[0;34m\u001b[0m\u001b[0;34m\u001b[0m\u001b[0m\n",
            "\u001b[0;32m/usr/lib/python3.11/http/client.py\u001b[0m in \u001b[0;36mgetresponse\u001b[0;34m(self)\u001b[0m\n\u001b[1;32m   1393\u001b[0m         \u001b[0;32mtry\u001b[0m\u001b[0;34m:\u001b[0m\u001b[0;34m\u001b[0m\u001b[0;34m\u001b[0m\u001b[0m\n\u001b[1;32m   1394\u001b[0m             \u001b[0;32mtry\u001b[0m\u001b[0;34m:\u001b[0m\u001b[0;34m\u001b[0m\u001b[0;34m\u001b[0m\u001b[0m\n\u001b[0;32m-> 1395\u001b[0;31m                 \u001b[0mresponse\u001b[0m\u001b[0;34m.\u001b[0m\u001b[0mbegin\u001b[0m\u001b[0;34m(\u001b[0m\u001b[0;34m)\u001b[0m\u001b[0;34m\u001b[0m\u001b[0;34m\u001b[0m\u001b[0m\n\u001b[0m\u001b[1;32m   1396\u001b[0m             \u001b[0;32mexcept\u001b[0m \u001b[0mConnectionError\u001b[0m\u001b[0;34m:\u001b[0m\u001b[0;34m\u001b[0m\u001b[0;34m\u001b[0m\u001b[0m\n\u001b[1;32m   1397\u001b[0m                 \u001b[0mself\u001b[0m\u001b[0;34m.\u001b[0m\u001b[0mclose\u001b[0m\u001b[0;34m(\u001b[0m\u001b[0;34m)\u001b[0m\u001b[0;34m\u001b[0m\u001b[0;34m\u001b[0m\u001b[0m\n",
            "\u001b[0;32m/usr/lib/python3.11/http/client.py\u001b[0m in \u001b[0;36mbegin\u001b[0;34m(self)\u001b[0m\n\u001b[1;32m    323\u001b[0m         \u001b[0;31m# read until we get a non-100 response\u001b[0m\u001b[0;34m\u001b[0m\u001b[0;34m\u001b[0m\u001b[0m\n\u001b[1;32m    324\u001b[0m         \u001b[0;32mwhile\u001b[0m \u001b[0;32mTrue\u001b[0m\u001b[0;34m:\u001b[0m\u001b[0;34m\u001b[0m\u001b[0;34m\u001b[0m\u001b[0m\n\u001b[0;32m--> 325\u001b[0;31m             \u001b[0mversion\u001b[0m\u001b[0;34m,\u001b[0m \u001b[0mstatus\u001b[0m\u001b[0;34m,\u001b[0m \u001b[0mreason\u001b[0m \u001b[0;34m=\u001b[0m \u001b[0mself\u001b[0m\u001b[0;34m.\u001b[0m\u001b[0m_read_status\u001b[0m\u001b[0;34m(\u001b[0m\u001b[0;34m)\u001b[0m\u001b[0;34m\u001b[0m\u001b[0;34m\u001b[0m\u001b[0m\n\u001b[0m\u001b[1;32m    326\u001b[0m             \u001b[0;32mif\u001b[0m \u001b[0mstatus\u001b[0m \u001b[0;34m!=\u001b[0m \u001b[0mCONTINUE\u001b[0m\u001b[0;34m:\u001b[0m\u001b[0;34m\u001b[0m\u001b[0;34m\u001b[0m\u001b[0m\n\u001b[1;32m    327\u001b[0m                 \u001b[0;32mbreak\u001b[0m\u001b[0;34m\u001b[0m\u001b[0;34m\u001b[0m\u001b[0m\n",
            "\u001b[0;32m/usr/lib/python3.11/http/client.py\u001b[0m in \u001b[0;36m_read_status\u001b[0;34m(self)\u001b[0m\n\u001b[1;32m    284\u001b[0m \u001b[0;34m\u001b[0m\u001b[0m\n\u001b[1;32m    285\u001b[0m     \u001b[0;32mdef\u001b[0m \u001b[0m_read_status\u001b[0m\u001b[0;34m(\u001b[0m\u001b[0mself\u001b[0m\u001b[0;34m)\u001b[0m\u001b[0;34m:\u001b[0m\u001b[0;34m\u001b[0m\u001b[0;34m\u001b[0m\u001b[0m\n\u001b[0;32m--> 286\u001b[0;31m         \u001b[0mline\u001b[0m \u001b[0;34m=\u001b[0m \u001b[0mstr\u001b[0m\u001b[0;34m(\u001b[0m\u001b[0mself\u001b[0m\u001b[0;34m.\u001b[0m\u001b[0mfp\u001b[0m\u001b[0;34m.\u001b[0m\u001b[0mreadline\u001b[0m\u001b[0;34m(\u001b[0m\u001b[0m_MAXLINE\u001b[0m \u001b[0;34m+\u001b[0m \u001b[0;36m1\u001b[0m\u001b[0;34m)\u001b[0m\u001b[0;34m,\u001b[0m \u001b[0;34m\"iso-8859-1\"\u001b[0m\u001b[0;34m)\u001b[0m\u001b[0;34m\u001b[0m\u001b[0;34m\u001b[0m\u001b[0m\n\u001b[0m\u001b[1;32m    287\u001b[0m         \u001b[0;32mif\u001b[0m \u001b[0mlen\u001b[0m\u001b[0;34m(\u001b[0m\u001b[0mline\u001b[0m\u001b[0;34m)\u001b[0m \u001b[0;34m>\u001b[0m \u001b[0m_MAXLINE\u001b[0m\u001b[0;34m:\u001b[0m\u001b[0;34m\u001b[0m\u001b[0;34m\u001b[0m\u001b[0m\n\u001b[1;32m    288\u001b[0m             \u001b[0;32mraise\u001b[0m \u001b[0mLineTooLong\u001b[0m\u001b[0;34m(\u001b[0m\u001b[0;34m\"status line\"\u001b[0m\u001b[0;34m)\u001b[0m\u001b[0;34m\u001b[0m\u001b[0;34m\u001b[0m\u001b[0m\n",
            "\u001b[0;32m/usr/lib/python3.11/socket.py\u001b[0m in \u001b[0;36mreadinto\u001b[0;34m(self, b)\u001b[0m\n\u001b[1;32m    716\u001b[0m         \u001b[0;32mwhile\u001b[0m \u001b[0;32mTrue\u001b[0m\u001b[0;34m:\u001b[0m\u001b[0;34m\u001b[0m\u001b[0;34m\u001b[0m\u001b[0m\n\u001b[1;32m    717\u001b[0m             \u001b[0;32mtry\u001b[0m\u001b[0;34m:\u001b[0m\u001b[0;34m\u001b[0m\u001b[0;34m\u001b[0m\u001b[0m\n\u001b[0;32m--> 718\u001b[0;31m                 \u001b[0;32mreturn\u001b[0m \u001b[0mself\u001b[0m\u001b[0;34m.\u001b[0m\u001b[0m_sock\u001b[0m\u001b[0;34m.\u001b[0m\u001b[0mrecv_into\u001b[0m\u001b[0;34m(\u001b[0m\u001b[0mb\u001b[0m\u001b[0;34m)\u001b[0m\u001b[0;34m\u001b[0m\u001b[0;34m\u001b[0m\u001b[0m\n\u001b[0m\u001b[1;32m    719\u001b[0m             \u001b[0;32mexcept\u001b[0m \u001b[0mtimeout\u001b[0m\u001b[0;34m:\u001b[0m\u001b[0;34m\u001b[0m\u001b[0;34m\u001b[0m\u001b[0m\n\u001b[1;32m    720\u001b[0m                 \u001b[0mself\u001b[0m\u001b[0;34m.\u001b[0m\u001b[0m_timeout_occurred\u001b[0m \u001b[0;34m=\u001b[0m \u001b[0;32mTrue\u001b[0m\u001b[0;34m\u001b[0m\u001b[0;34m\u001b[0m\u001b[0m\n",
            "\u001b[0;32m/usr/lib/python3.11/ssl.py\u001b[0m in \u001b[0;36mrecv_into\u001b[0;34m(self, buffer, nbytes, flags)\u001b[0m\n\u001b[1;32m   1312\u001b[0m                   \u001b[0;34m\"non-zero flags not allowed in calls to recv_into() on %s\"\u001b[0m \u001b[0;34m%\u001b[0m\u001b[0;34m\u001b[0m\u001b[0;34m\u001b[0m\u001b[0m\n\u001b[1;32m   1313\u001b[0m                   self.__class__)\n\u001b[0;32m-> 1314\u001b[0;31m             \u001b[0;32mreturn\u001b[0m \u001b[0mself\u001b[0m\u001b[0;34m.\u001b[0m\u001b[0mread\u001b[0m\u001b[0;34m(\u001b[0m\u001b[0mnbytes\u001b[0m\u001b[0;34m,\u001b[0m \u001b[0mbuffer\u001b[0m\u001b[0;34m)\u001b[0m\u001b[0;34m\u001b[0m\u001b[0;34m\u001b[0m\u001b[0m\n\u001b[0m\u001b[1;32m   1315\u001b[0m         \u001b[0;32melse\u001b[0m\u001b[0;34m:\u001b[0m\u001b[0;34m\u001b[0m\u001b[0;34m\u001b[0m\u001b[0m\n\u001b[1;32m   1316\u001b[0m             \u001b[0;32mreturn\u001b[0m \u001b[0msuper\u001b[0m\u001b[0;34m(\u001b[0m\u001b[0;34m)\u001b[0m\u001b[0;34m.\u001b[0m\u001b[0mrecv_into\u001b[0m\u001b[0;34m(\u001b[0m\u001b[0mbuffer\u001b[0m\u001b[0;34m,\u001b[0m \u001b[0mnbytes\u001b[0m\u001b[0;34m,\u001b[0m \u001b[0mflags\u001b[0m\u001b[0;34m)\u001b[0m\u001b[0;34m\u001b[0m\u001b[0;34m\u001b[0m\u001b[0m\n",
            "\u001b[0;32m/usr/lib/python3.11/ssl.py\u001b[0m in \u001b[0;36mread\u001b[0;34m(self, len, buffer)\u001b[0m\n\u001b[1;32m   1164\u001b[0m         \u001b[0;32mtry\u001b[0m\u001b[0;34m:\u001b[0m\u001b[0;34m\u001b[0m\u001b[0;34m\u001b[0m\u001b[0m\n\u001b[1;32m   1165\u001b[0m             \u001b[0;32mif\u001b[0m \u001b[0mbuffer\u001b[0m \u001b[0;32mis\u001b[0m \u001b[0;32mnot\u001b[0m \u001b[0;32mNone\u001b[0m\u001b[0;34m:\u001b[0m\u001b[0;34m\u001b[0m\u001b[0;34m\u001b[0m\u001b[0m\n\u001b[0;32m-> 1166\u001b[0;31m                 \u001b[0;32mreturn\u001b[0m \u001b[0mself\u001b[0m\u001b[0;34m.\u001b[0m\u001b[0m_sslobj\u001b[0m\u001b[0;34m.\u001b[0m\u001b[0mread\u001b[0m\u001b[0;34m(\u001b[0m\u001b[0mlen\u001b[0m\u001b[0;34m,\u001b[0m \u001b[0mbuffer\u001b[0m\u001b[0;34m)\u001b[0m\u001b[0;34m\u001b[0m\u001b[0;34m\u001b[0m\u001b[0m\n\u001b[0m\u001b[1;32m   1167\u001b[0m             \u001b[0;32melse\u001b[0m\u001b[0;34m:\u001b[0m\u001b[0;34m\u001b[0m\u001b[0;34m\u001b[0m\u001b[0m\n\u001b[1;32m   1168\u001b[0m                 \u001b[0;32mreturn\u001b[0m \u001b[0mself\u001b[0m\u001b[0;34m.\u001b[0m\u001b[0m_sslobj\u001b[0m\u001b[0;34m.\u001b[0m\u001b[0mread\u001b[0m\u001b[0;34m(\u001b[0m\u001b[0mlen\u001b[0m\u001b[0;34m)\u001b[0m\u001b[0;34m\u001b[0m\u001b[0;34m\u001b[0m\u001b[0m\n",
            "\u001b[0;31mKeyboardInterrupt\u001b[0m: "
          ]
        }
      ]
    },
    {
      "cell_type": "markdown",
      "source": [
        "# Baseline model"
      ],
      "metadata": {
        "id": "-fdnq8yFTzrn"
      }
    },
    {
      "cell_type": "markdown",
      "source": [
        "## Sampling 700 random triplets from 10000 triplets dataset"
      ],
      "metadata": {
        "id": "EzJKoAtUT7qv"
      }
    },
    {
      "cell_type": "code",
      "source": [
        "\n",
        "def sample_snli_triplets(file_path, num_triplets=700, output_file=\"/content/baseline.csv\"):\n",
        "    data = pd.read_csv(file_path)\n",
        "    unique_triplets = data['triplet_nr'].unique()\n",
        "    sampled_triplet_nrs = pd.Series(unique_triplets).sample(n=num_triplets, random_state=42)\n",
        "    sampled_data = data[data['triplet_nr'].isin(sampled_triplet_nrs)].reset_index(drop=True)\n",
        "    sampled_data.to_csv(output_file, index=False)\n",
        "\n",
        "file_path = \"/content/sampled_snli_10000.csv\"\n",
        "sample_snli_triplets(file_path, num_triplets=700)\n"
      ],
      "metadata": {
        "id": "lsJcnAq7T2w4"
      },
      "execution_count": null,
      "outputs": []
    },
    {
      "cell_type": "markdown",
      "source": [
        "## Training model on random 700 triplets\n",
        "\n",
        "\n"
      ],
      "metadata": {
        "id": "JOZcNzRAUE4g"
      }
    },
    {
      "cell_type": "code",
      "source": [
        "\n",
        "MODEL_DIR = 'model_checkpoints'\n",
        "MODEL_CHECKPOINT = \"microsoft/deberta-v3-small\"\n",
        "BATCH_SIZE = 16\n",
        "FILE_TO_TRAIN = \"/content/baseline.csv\"\n",
        "\n",
        "# Load the evaluation dataset from SNLI\n",
        "snli = load_dataset(\"snli\")\n",
        "snli = snli.filter(lambda example: example[\"label\"] >= 0)  # Filter labels directly\n",
        "\n",
        "train_dataset = load_dataset(\"csv\", data_files=FILE_TO_TRAIN)[\"train\"]\n",
        "\n",
        "# Tokenizer\n",
        "tokenizer = AutoTokenizer.from_pretrained(MODEL_CHECKPOINT)\n",
        "\n",
        "def preprocess_function(examples):\n",
        "    return tokenizer(examples['premise'], examples['hypothesis'], truncation=True)\n",
        "\n",
        "# Preprocess both training and validation datasets\n",
        "encoded_train_dataset = train_dataset.map(preprocess_function, batched=True)\n",
        "encoded_snli = snli.map(preprocess_function, batched=True, load_from_cache_file=True)\n",
        "\n",
        "# Training arguments\n",
        "args = TrainingArguments(\n",
        "    output_dir=MODEL_DIR,\n",
        "    evaluation_strategy=\"steps\",  # Evaluate periodically during training\n",
        "    eval_steps=200,  # Frequency of evaluation during training\n",
        "    save_steps=200,  # Save model checkpoints periodically\n",
        "    logging_steps=100,  # Log training metrics periodically\n",
        "    per_device_train_batch_size=BATCH_SIZE,\n",
        "    per_device_eval_batch_size=BATCH_SIZE,\n",
        "    learning_rate=5.1e-05,\n",
        "    num_train_epochs=4,\n",
        "    weight_decay=0.0074,\n",
        "    warmup_steps=211,\n",
        "    save_total_limit=2,\n",
        "    load_best_model_at_end=True,\n",
        "    logging_dir=\"./logs\",\n",
        "    fp16=True,  # Enable mixed precision training\n",
        "    lr_scheduler_type=\"cosine\"\n",
        ")\n",
        "\n",
        "# Initialize model\n",
        "model = AutoModelForSequenceClassification.from_pretrained(MODEL_CHECKPOINT, num_labels=3)\n",
        "\n",
        "# Define compute_metrics function\n",
        "metric = load('glue', \"mnli\")\n",
        "\n",
        "\n",
        "def compute_metrics(eval_pred):\n",
        "    predictions, labels = eval_pred\n",
        "    predictions = np.argmax(predictions, axis=1)\n",
        "    return metric.compute(predictions=predictions, references=labels)\n",
        "\n",
        "# Trainer setup\n",
        "trainer = Trainer(\n",
        "    model=model,\n",
        "    args=args,\n",
        "    train_dataset=encoded_train_dataset,\n",
        "    eval_dataset=encoded_snli[\"validation\"],\n",
        "    tokenizer=tokenizer,\n",
        "    compute_metrics=compute_metrics\n",
        ")\n",
        "\n",
        "# Train the model\n",
        "trainer.train()\n",
        "\n",
        "# Save final model and tokenizer\n",
        "trainer.save_model(os.path.join(MODEL_DIR, \"final_model\"))\n",
        "tokenizer.save_pretrained(os.path.join(MODEL_DIR, \"final_model\"))\n",
        "\n",
        "print(f\"Training completed. Model and tokenizer saved to: {os.path.join(MODEL_DIR, 'final_model')}\")"
      ],
      "metadata": {
        "id": "6bGHRZYHULg0"
      },
      "execution_count": null,
      "outputs": []
    },
    {
      "cell_type": "markdown",
      "source": [
        "## Results"
      ],
      "metadata": {
        "id": "myeu1cdlUcoN"
      }
    },
    {
      "cell_type": "markdown",
      "source": [
        "![image.png](data:image/png;base64,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)"
      ],
      "metadata": {
        "id": "xGjn472OUPm9"
      }
    }
  ]
}